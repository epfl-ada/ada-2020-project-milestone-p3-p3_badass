{
 "cells": [
  {
   "cell_type": "code",
   "execution_count": 1,
   "metadata": {},
   "outputs": [],
   "source": [
    "import pandas as pd\n",
    "import matplotlib.pyplot as plt\n",
    "import numpy as np\n",
    "import seaborn as sns"
   ]
  },
  {
   "cell_type": "code",
   "execution_count": 2,
   "metadata": {},
   "outputs": [],
   "source": [
    "def get_df_for_year(states, year):\n",
    "    df = pd.read_excel(\"data/MPVDatasetDownload.xlsx\", sheet_name=\"2013-2020 Police Killings\")\n",
    "    df = df[[\"Victim's race\", \"Date of Incident (month/day/year)\", \"State\"] ]\n",
    "    df.columns = [\"race\", \"date\", \"state\"]\n",
    "    df[\"race\"] = df.race.apply(lambda x: \"Unknown\" if x == \"Unknown race\" or x == \"Unknown Race\" or x == \"unknown race\" else x).iloc[:]\n",
    "    df.fillna(\"Unknown\", inplace=True)\n",
    "    df = df[(df[\"race\"] == \"White\") | (df[\"race\"] == \"Black\") | (df[\"race\"] == \"Hispanic\")].reset_index(drop = True).iloc[:]\n",
    "    df = df[(df[\"date\"] >= f\"{year}-01-01\") & (df[\"date\"] <= f\"{year}-12-31\")].reset_index(drop = True)\n",
    "    d = {}\n",
    "    for state in states:\n",
    "        l = []\n",
    "        for race in [\"Black\", \"White\", \"Hispanic\"]:\n",
    "            by_state = df.groupby(\"state\")\n",
    "            if state in by_state.groups:\n",
    "                grouped = by_state.get_group(state).groupby(\"race\")\n",
    "                if race in grouped.groups:\n",
    "                    l.append(grouped.get_group(race).size / 3)\n",
    "                else:\n",
    "                    l.append(0)\n",
    "            else:\n",
    "                l = [0, 0, 0]\n",
    "        d[state] = l\n",
    "    df = pd.DataFrame.from_dict(d).transpose().reset_index()\n",
    "    df.columns = [\"state\", \"Black\", \"White\", \"Hispanic\"]\n",
    "    df[\"total\"] = df[\"Black\"] + df[\"White\"] + df[\"Hispanic\"]\n",
    "    df[\"White\"] = df[\"White\"] / df[\"total\"] \n",
    "    df[\"Black\"] = df[\"Black\"] / df[\"total\"] \n",
    "    df[\"Hispanic\"] = df[\"Hispanic\"] / df[\"total\"]\n",
    "    df.fillna(0, inplace=True)\n",
    "    return df"
   ]
  },
  {
   "cell_type": "code",
   "execution_count": 3,
   "metadata": {},
   "outputs": [],
   "source": [
    "states = ['AZ',\n",
    " 'CA',\n",
    " 'CO',\n",
    " 'CT',\n",
    " 'FL',\n",
    " 'GA',\n",
    " 'IL',\n",
    " 'MA',\n",
    " 'MT',\n",
    " 'NC',\n",
    " 'ND',\n",
    " 'NH',\n",
    " 'NY',\n",
    " 'OH',\n",
    " 'RI',\n",
    " 'SC',\n",
    " 'TN',\n",
    " 'TX',\n",
    " 'VT',\n",
    " 'WA',\n",
    " 'WI']"
   ]
  },
  {
   "cell_type": "code",
   "execution_count": 4,
   "metadata": {},
   "outputs": [],
   "source": [
    "a = 0"
   ]
  },
  {
   "cell_type": "code",
   "execution_count": 5,
   "metadata": {},
   "outputs": [],
   "source": [
    "for year in range(2013, 2021):\n",
    "    a += get_df_for_year(states, year).total.sum()"
   ]
  },
  {
   "cell_type": "code",
   "execution_count": 6,
   "metadata": {},
   "outputs": [
    {
     "data": {
      "text/plain": [
       "4681.0"
      ]
     },
     "execution_count": 6,
     "metadata": {},
     "output_type": "execute_result"
    }
   ],
   "source": [
    "a"
   ]
  },
  {
   "cell_type": "code",
   "execution_count": null,
   "metadata": {},
   "outputs": [],
   "source": []
  }
 ],
 "metadata": {
  "kernelspec": {
   "display_name": "Python 3",
   "language": "python",
   "name": "python3"
  },
  "language_info": {
   "codemirror_mode": {
    "name": "ipython",
    "version": 3
   },
   "file_extension": ".py",
   "mimetype": "text/x-python",
   "name": "python",
   "nbconvert_exporter": "python",
   "pygments_lexer": "ipython3",
   "version": "3.7.9"
  }
 },
 "nbformat": 4,
 "nbformat_minor": 4
}
