{
 "cells": [
  {
   "cell_type": "code",
   "execution_count": 131,
   "metadata": {},
   "outputs": [],
   "source": [
    "import pandas as pd\n",
    "import numpy as np\n",
    "import matplotlib.pyplot as plt"
   ]
  },
  {
   "cell_type": "markdown",
   "metadata": {},
   "source": [
    "***"
   ]
  },
  {
   "cell_type": "markdown",
   "metadata": {},
   "source": [
    "# Exploration of potential bias"
   ]
  },
  {
   "cell_type": "code",
   "execution_count": 203,
   "metadata": {},
   "outputs": [
    {
     "data": {
      "text/html": [
       "<div>\n",
       "<style scoped>\n",
       "    .dataframe tbody tr th:only-of-type {\n",
       "        vertical-align: middle;\n",
       "    }\n",
       "\n",
       "    .dataframe tbody tr th {\n",
       "        vertical-align: top;\n",
       "    }\n",
       "\n",
       "    .dataframe thead th {\n",
       "        text-align: right;\n",
       "    }\n",
       "</style>\n",
       "<table border=\"1\" class=\"dataframe\">\n",
       "  <thead>\n",
       "    <tr style=\"text-align: right;\">\n",
       "      <th></th>\n",
       "      <th>victim_age</th>\n",
       "      <th>victim_gender</th>\n",
       "      <th>victim_race</th>\n",
       "      <th>date</th>\n",
       "      <th>City</th>\n",
       "      <th>State</th>\n",
       "      <th>cause_of_death</th>\n",
       "      <th>criminal_charges</th>\n",
       "      <th>victim_armed</th>\n",
       "      <th>alleged_weapon</th>\n",
       "      <th>victim_fleeing</th>\n",
       "    </tr>\n",
       "  </thead>\n",
       "  <tbody>\n",
       "    <tr>\n",
       "      <th>0</th>\n",
       "      <td>66.0</td>\n",
       "      <td>Male</td>\n",
       "      <td>hispanic</td>\n",
       "      <td>2020</td>\n",
       "      <td>Tyler</td>\n",
       "      <td>TX</td>\n",
       "      <td>Gunshot</td>\n",
       "      <td>No known charges</td>\n",
       "      <td>Allegedly Armed</td>\n",
       "      <td>unknown weapon</td>\n",
       "      <td>not fleeing</td>\n",
       "    </tr>\n",
       "    <tr>\n",
       "      <th>1</th>\n",
       "      <td>42.0</td>\n",
       "      <td>Male</td>\n",
       "      <td>unknown race</td>\n",
       "      <td>2020</td>\n",
       "      <td>Hart County</td>\n",
       "      <td>KY</td>\n",
       "      <td>Gunshot</td>\n",
       "      <td>No known charges</td>\n",
       "      <td>Allegedly Armed</td>\n",
       "      <td>gun</td>\n",
       "      <td>other</td>\n",
       "    </tr>\n",
       "    <tr>\n",
       "      <th>2</th>\n",
       "      <td>28.0</td>\n",
       "      <td>Male</td>\n",
       "      <td>white</td>\n",
       "      <td>2020</td>\n",
       "      <td>St. Augustine</td>\n",
       "      <td>FL</td>\n",
       "      <td>Gunshot</td>\n",
       "      <td>No known charges</td>\n",
       "      <td>Allegedly Armed</td>\n",
       "      <td>gun</td>\n",
       "      <td>NaN</td>\n",
       "    </tr>\n",
       "    <tr>\n",
       "      <th>3</th>\n",
       "      <td>39.0</td>\n",
       "      <td>Male</td>\n",
       "      <td>unknown race</td>\n",
       "      <td>2020</td>\n",
       "      <td>La Vergne</td>\n",
       "      <td>TN</td>\n",
       "      <td>Gunshot</td>\n",
       "      <td>No known charges</td>\n",
       "      <td>Allegedly Armed</td>\n",
       "      <td>gun</td>\n",
       "      <td>car</td>\n",
       "    </tr>\n",
       "    <tr>\n",
       "      <th>4</th>\n",
       "      <td>32.0</td>\n",
       "      <td>Male</td>\n",
       "      <td>unknown race</td>\n",
       "      <td>2020</td>\n",
       "      <td>Batesville</td>\n",
       "      <td>IN</td>\n",
       "      <td>Gunshot</td>\n",
       "      <td>No known charges</td>\n",
       "      <td>Allegedly Armed</td>\n",
       "      <td>gun</td>\n",
       "      <td>not fleeing</td>\n",
       "    </tr>\n",
       "  </tbody>\n",
       "</table>\n",
       "</div>"
      ],
      "text/plain": [
       "   victim_age victim_gender   victim_race  date           City State  \\\n",
       "0        66.0          Male      hispanic  2020         Tyler     TX   \n",
       "1        42.0          Male  unknown race  2020    Hart County    KY   \n",
       "2        28.0          Male         white  2020  St. Augustine    FL   \n",
       "3        39.0          Male  unknown race  2020      La Vergne    TN   \n",
       "4        32.0          Male  unknown race  2020     Batesville    IN   \n",
       "\n",
       "  cause_of_death  criminal_charges     victim_armed  alleged_weapon  \\\n",
       "0        Gunshot  No known charges  Allegedly Armed  unknown weapon   \n",
       "1        Gunshot  No known charges  Allegedly Armed             gun   \n",
       "2        Gunshot  No known charges  Allegedly Armed             gun   \n",
       "3        Gunshot  No known charges  Allegedly Armed             gun   \n",
       "4        Gunshot  No known charges  Allegedly Armed             gun   \n",
       "\n",
       "  victim_fleeing  \n",
       "0    not fleeing  \n",
       "1          other  \n",
       "2            NaN  \n",
       "3            car  \n",
       "4    not fleeing  "
      ]
     },
     "execution_count": 203,
     "metadata": {},
     "output_type": "execute_result"
    }
   ],
   "source": [
    "PV_data = pd.read_csv('./data/police_violence.csv', index_col=0)\n",
    "PV_data.head()"
   ]
  },
  {
   "cell_type": "code",
   "execution_count": 204,
   "metadata": {},
   "outputs": [],
   "source": [
    "races = [\"white\", \"black\", \"hispanic\"]"
   ]
  },
  {
   "cell_type": "markdown",
   "metadata": {},
   "source": [
    "### Race bias in criminal charges:"
   ]
  },
  {
   "cell_type": "code",
   "execution_count": 205,
   "metadata": {},
   "outputs": [
    {
     "name": "stdout",
     "output_type": "stream",
     "text": [
      "Percentage of police being charged in case of a white victim: 1.00\n",
      "Percentage of police being charged in case of a black victim: 3.00\n",
      "Percentage of police being charged in case of a hispanic victim: 1.00\n"
     ]
    }
   ],
   "source": [
    "charged_percts = [] #charged percentages\n",
    "for race in races:\n",
    "    df = PV_data.query('victim_race == @race')\n",
    "    count = df.groupby('criminal_charges').count()\n",
    "    total = len(df)\n",
    "    charged = count.loc['Charged':'Charged', 'State'][0] #we use the column `State` to do the slicing because it has zero NaN values,\n",
    "    \n",
    "    charged_percent = np.around(charged / total * 100)\n",
    "    charged_percts.append(charged_percent)\n",
    "    print(\"Percentage of police being charged in case of a %s victim: %4.2f\"%(race, charged_percent))"
   ]
  },
  {
   "cell_type": "markdown",
   "metadata": {},
   "source": [
    "### Race bias in killing the victim is unarmed (or unclear):"
   ]
  },
  {
   "cell_type": "code",
   "execution_count": 206,
   "metadata": {},
   "outputs": [
    {
     "data": {
      "text/html": [
       "<div>\n",
       "<style scoped>\n",
       "    .dataframe tbody tr th:only-of-type {\n",
       "        vertical-align: middle;\n",
       "    }\n",
       "\n",
       "    .dataframe tbody tr th {\n",
       "        vertical-align: top;\n",
       "    }\n",
       "\n",
       "    .dataframe thead th {\n",
       "        text-align: right;\n",
       "    }\n",
       "</style>\n",
       "<table border=\"1\" class=\"dataframe\">\n",
       "  <thead>\n",
       "    <tr style=\"text-align: right;\">\n",
       "      <th></th>\n",
       "      <th>victim_age</th>\n",
       "      <th>victim_gender</th>\n",
       "      <th>victim_race</th>\n",
       "      <th>date</th>\n",
       "      <th>City</th>\n",
       "      <th>State</th>\n",
       "      <th>cause_of_death</th>\n",
       "      <th>criminal_charges</th>\n",
       "      <th>alleged_weapon</th>\n",
       "      <th>victim_fleeing</th>\n",
       "    </tr>\n",
       "    <tr>\n",
       "      <th>victim_armed</th>\n",
       "      <th></th>\n",
       "      <th></th>\n",
       "      <th></th>\n",
       "      <th></th>\n",
       "      <th></th>\n",
       "      <th></th>\n",
       "      <th></th>\n",
       "      <th></th>\n",
       "      <th></th>\n",
       "      <th></th>\n",
       "    </tr>\n",
       "  </thead>\n",
       "  <tbody>\n",
       "    <tr>\n",
       "      <th>Allegedly Armed</th>\n",
       "      <td>1445</td>\n",
       "      <td>1464</td>\n",
       "      <td>1464</td>\n",
       "      <td>1464</td>\n",
       "      <td>1464</td>\n",
       "      <td>1464</td>\n",
       "      <td>1464</td>\n",
       "      <td>1464</td>\n",
       "      <td>1464</td>\n",
       "      <td>1027</td>\n",
       "    </tr>\n",
       "    <tr>\n",
       "      <th>Unarmed</th>\n",
       "      <td>363</td>\n",
       "      <td>364</td>\n",
       "      <td>364</td>\n",
       "      <td>364</td>\n",
       "      <td>364</td>\n",
       "      <td>364</td>\n",
       "      <td>364</td>\n",
       "      <td>364</td>\n",
       "      <td>364</td>\n",
       "      <td>196</td>\n",
       "    </tr>\n",
       "    <tr>\n",
       "      <th>Unclear</th>\n",
       "      <td>162</td>\n",
       "      <td>164</td>\n",
       "      <td>164</td>\n",
       "      <td>164</td>\n",
       "      <td>164</td>\n",
       "      <td>164</td>\n",
       "      <td>164</td>\n",
       "      <td>164</td>\n",
       "      <td>164</td>\n",
       "      <td>86</td>\n",
       "    </tr>\n",
       "    <tr>\n",
       "      <th>Vehicle</th>\n",
       "      <td>165</td>\n",
       "      <td>166</td>\n",
       "      <td>166</td>\n",
       "      <td>166</td>\n",
       "      <td>166</td>\n",
       "      <td>166</td>\n",
       "      <td>166</td>\n",
       "      <td>166</td>\n",
       "      <td>166</td>\n",
       "      <td>113</td>\n",
       "    </tr>\n",
       "  </tbody>\n",
       "</table>\n",
       "</div>"
      ],
      "text/plain": [
       "                 victim_age  victim_gender  victim_race  date  City  State  \\\n",
       "victim_armed                                                                 \n",
       "Allegedly Armed        1445           1464         1464  1464  1464   1464   \n",
       "Unarmed                 363            364          364   364   364    364   \n",
       "Unclear                 162            164          164   164   164    164   \n",
       "Vehicle                 165            166          166   166   166    166   \n",
       "\n",
       "                 cause_of_death  criminal_charges  alleged_weapon  \\\n",
       "victim_armed                                                        \n",
       "Allegedly Armed            1464              1464            1464   \n",
       "Unarmed                     364               364             364   \n",
       "Unclear                     164               164             164   \n",
       "Vehicle                     166               166             166   \n",
       "\n",
       "                 victim_fleeing  \n",
       "victim_armed                     \n",
       "Allegedly Armed            1027  \n",
       "Unarmed                     196  \n",
       "Unclear                      86  \n",
       "Vehicle                     113  "
      ]
     },
     "execution_count": 206,
     "metadata": {},
     "output_type": "execute_result"
    }
   ],
   "source": [
    "df = PV_data.query('victim_race == \"black\"')\n",
    "df.groupby('victim_armed').count()"
   ]
  },
  {
   "cell_type": "code",
   "execution_count": 207,
   "metadata": {},
   "outputs": [
    {
     "name": "stdout",
     "output_type": "stream",
     "text": [
      "Percentage of being killed while unarmed in case of a white victim: 20.00\n",
      "Percentage of being killed while unarmed in case of a black victim: 24.00\n",
      "Percentage of being killed while unarmed in case of a hispanic victim: 25.00\n"
     ]
    }
   ],
   "source": [
    "unarmed_percts = [] #percentages of being killed while unarmed\n",
    "for race in races:\n",
    "    df = PV_data.query('victim_race == @race')\n",
    "    total = len(df)\n",
    "    count = df.groupby('victim_armed').count()\n",
    "    unarmed = count.loc['Unarmed':'Unarmed', 'State'][0] #we use the column `State` to do the slicing because it has zero NaN values,\n",
    "    unclear = count.loc['Unclear':'Unclear', 'State'][0] #so we are sure the count is correct.\n",
    "\n",
    "    killing_percent = np.around((unarmed+unclear) / total * 100)\n",
    "    unarmed_percts.append(killing_percent)\n",
    "    print(\"Percentage of being killed while unarmed in case of a %s victim: %4.2f\"%(race, killing_percent))"
   ]
  },
  {
   "cell_type": "markdown",
   "metadata": {},
   "source": [
    "### Race bias in killing based on victim fleeing or not:"
   ]
  },
  {
   "cell_type": "code",
   "execution_count": 208,
   "metadata": {},
   "outputs": [
    {
     "name": "stdout",
     "output_type": "stream",
     "text": [
      "Percentage of being killed while not fleeing in case of a white victim: 48.400000\n",
      "Percentage of being killed while not fleeing in case of a black victim: 40.100000\n",
      "Percentage of being killed while not fleeing in case of a hispanic victim: 43.200000\n"
     ]
    }
   ],
   "source": [
    "not_fleeing_percts = [] #percentages of being killed while not fleeing\n",
    "for race in races:\n",
    "    df = PV_data.query('victim_race == @race')\n",
    "    total = len(df)\n",
    "    count = df.groupby('victim_fleeing').count()\n",
    "    not_fleeing = count.loc['not fleeing':'not fleeing', 'State'][0] #we use the column `State` to do the slicing because it has zero NaN values\n",
    "\n",
    "    killing_percent = np.around(not_fleeing / total * 100, decimals=1)\n",
    "    not_fleeing_percts.append(killing_percent)\n",
    "    print(\"Percentage of being killed while not fleeing in case of a %s victim: %f\"%(race, killing_percent))"
   ]
  },
  {
   "cell_type": "markdown",
   "metadata": {},
   "source": [
    "### Distribution of races among victims armed with at least a gun:"
   ]
  },
  {
   "cell_type": "code",
   "execution_count": 209,
   "metadata": {},
   "outputs": [],
   "source": [
    "df_guns = PV_data.query('alleged_weapon == \"gun\"')\n",
    "total = len(df_guns)"
   ]
  },
  {
   "cell_type": "code",
   "execution_count": 210,
   "metadata": {},
   "outputs": [
    {
     "name": "stdout",
     "output_type": "stream",
     "text": [
      "Percentage of white among victims carrying a gun: 45.674967\n",
      "Percentage of black among victims carrying a gun: 25.425950\n",
      "Percentage of hispanic among victims carrying a gun: 14.635212\n"
     ]
    }
   ],
   "source": [
    "count_guns_by_race = df_guns.groupby('victim_race').count()\n",
    "\n",
    "for race in races:\n",
    "    c = count_guns_by_race.loc[race:race, 'State'][0]\n",
    "    prct = c/total * 100\n",
    "    print(\"Percentage of %s among victims carrying a gun: %f\"%(race, prct))"
   ]
  },
  {
   "cell_type": "markdown",
   "metadata": {},
   "source": [
    "### Distribution of states among victims carrying a gun:"
   ]
  },
  {
   "cell_type": "code",
   "execution_count": 213,
   "metadata": {},
   "outputs": [],
   "source": [
    "count_guns_by_state = df_guns.groupby('State').count()\n",
    "states = df_guns.State.unique()"
   ]
  },
  {
   "cell_type": "code",
   "execution_count": 219,
   "metadata": {},
   "outputs": [
    {
     "name": "stdout",
     "output_type": "stream",
     "text": [
      "Distribution of states among victims carrying guns:\n",
      "KY : 84\n",
      "FL : 338\n",
      "TN : 111\n",
      "IN : 95\n",
      "CA : 526\n",
      "TX : 449\n",
      "OH : 125\n",
      "MS : 64\n",
      "PA : 103\n",
      "VA : 74\n",
      "OK : 119\n",
      "AZ : 213\n",
      "MD : 65\n",
      "WA : 124\n",
      "GA : 162\n",
      "CO : 167\n",
      "MI : 84\n",
      "IL : 116\n",
      "NV : 86\n",
      "UT : 48\n",
      "WI : 69\n",
      "MO : 149\n",
      "AK : 29\n",
      "NM : 100\n",
      "AL : 87\n",
      "SD : 15\n",
      "LA : 91\n",
      "MT : 30\n",
      "SC : 84\n",
      "MN : 48\n",
      "NY : 76\n",
      "NC : 152\n",
      "KS : 46\n",
      "IA : 27\n",
      "DC : 16\n",
      "ID : 37\n",
      "AR : 68\n",
      "WY : 12\n",
      "NJ : 44\n",
      "OR : 72\n",
      "ME : 21\n",
      "NE : 18\n",
      "MA : 26\n",
      "CT : 14\n",
      "ND : 7\n",
      "WV : 45\n",
      "HI : 13\n",
      "DE : 12\n",
      "VT : 5\n",
      "NH : 8\n",
      "RI : 4\n"
     ]
    }
   ],
   "source": [
    "count_by_state = df_guns.groupby('State').count()\n",
    "guns_by_state = dict({})\n",
    "print(\"Distribution of states among victims carrying guns:\")\n",
    "\n",
    "for state in states:\n",
    "    c = count_guns_by_state.loc[state:state, 'victim_race'][0]\n",
    "    #prct = np.around(c/total * 100, decimals=2)\n",
    "    guns_by_state[state] = c\n",
    "    print(\"%s : %d\"%(state, c))"
   ]
  },
  {
   "cell_type": "code",
   "execution_count": 220,
   "metadata": {},
   "outputs": [
    {
     "data": {
      "text/plain": [
       "'CA'"
      ]
     },
     "execution_count": 220,
     "metadata": {},
     "output_type": "execute_result"
    }
   ],
   "source": [
    "max_key = max(states_dict, key=states_dict.get)\n",
    "max_key"
   ]
  },
  {
   "cell_type": "code",
   "execution_count": 221,
   "metadata": {},
   "outputs": [
    {
     "data": {
      "text/plain": [
       "'RI'"
      ]
     },
     "execution_count": 221,
     "metadata": {},
     "output_type": "execute_result"
    }
   ],
   "source": [
    "min_key = min(states_dict, key=states_dict.get)\n",
    "min_key"
   ]
  },
  {
   "cell_type": "markdown",
   "metadata": {},
   "source": [
    "### What is the percentage of carrying a gun in every state"
   ]
  },
  {
   "cell_type": "code",
   "execution_count": 223,
   "metadata": {},
   "outputs": [
    {
     "data": {
      "text/plain": [
       "{'KY': 139,\n",
       " 'FL': 629,\n",
       " 'TN': 206,\n",
       " 'IN': 146,\n",
       " 'CA': 1329,\n",
       " 'TX': 795,\n",
       " 'OH': 231,\n",
       " 'MS': 117,\n",
       " 'PA': 189,\n",
       " 'VA': 138,\n",
       " 'OK': 239,\n",
       " 'AZ': 384,\n",
       " 'MD': 143,\n",
       " 'WA': 250,\n",
       " 'GA': 302,\n",
       " 'CO': 269,\n",
       " 'MI': 135,\n",
       " 'IL': 194,\n",
       " 'NV': 146,\n",
       " 'UT': 97,\n",
       " 'WI': 127,\n",
       " 'MO': 229,\n",
       " 'AK': 48,\n",
       " 'NM': 161,\n",
       " 'AL': 154,\n",
       " 'SD': 27,\n",
       " 'LA': 168,\n",
       " 'MT': 49,\n",
       " 'SC': 133,\n",
       " 'MN': 92,\n",
       " 'NY': 175,\n",
       " 'NC': 236,\n",
       " 'KS': 79,\n",
       " 'IA': 52,\n",
       " 'DC': 27,\n",
       " 'ID': 53,\n",
       " 'AR': 117,\n",
       " 'WY': 22,\n",
       " 'NJ': 113,\n",
       " 'OR': 125,\n",
       " 'ME': 34,\n",
       " 'NE': 39,\n",
       " 'MA': 60,\n",
       " 'CT': 40,\n",
       " 'ND': 14,\n",
       " 'WV': 78,\n",
       " 'HI': 39,\n",
       " 'DE': 21,\n",
       " 'VT': 13,\n",
       " 'NH': 20,\n",
       " 'RI': 6}"
      ]
     },
     "execution_count": 223,
     "metadata": {},
     "output_type": "execute_result"
    }
   ],
   "source": [
    "df_states = PV_data.groupby('State').count()\n",
    "victims_by_state = {}\n",
    "for state in states:\n",
    "    c = df_states.loc[state:state, 'victim_race'][0]\n",
    "    victims_by_state[state] = c\n",
    "victims_by_state"
   ]
  },
  {
   "cell_type": "code",
   "execution_count": 226,
   "metadata": {},
   "outputs": [
    {
     "data": {
      "text/plain": [
       "{'KY': 60.43,\n",
       " 'FL': 53.74,\n",
       " 'TN': 53.88,\n",
       " 'IN': 65.07,\n",
       " 'CA': 39.58,\n",
       " 'TX': 56.48,\n",
       " 'OH': 54.11,\n",
       " 'MS': 54.7,\n",
       " 'PA': 54.5,\n",
       " 'VA': 53.62,\n",
       " 'OK': 49.79,\n",
       " 'AZ': 55.47,\n",
       " 'MD': 45.45,\n",
       " 'WA': 49.6,\n",
       " 'GA': 53.64,\n",
       " 'CO': 62.08,\n",
       " 'MI': 62.22,\n",
       " 'IL': 59.79,\n",
       " 'NV': 58.9,\n",
       " 'UT': 49.48,\n",
       " 'WI': 54.33,\n",
       " 'MO': 65.07,\n",
       " 'AK': 60.42,\n",
       " 'NM': 62.11,\n",
       " 'AL': 56.49,\n",
       " 'SD': 55.56,\n",
       " 'LA': 54.17,\n",
       " 'MT': 61.22,\n",
       " 'SC': 63.16,\n",
       " 'MN': 52.17,\n",
       " 'NY': 43.43,\n",
       " 'NC': 64.41,\n",
       " 'KS': 58.23,\n",
       " 'IA': 51.92,\n",
       " 'DC': 59.26,\n",
       " 'ID': 69.81,\n",
       " 'AR': 58.12,\n",
       " 'WY': 54.55,\n",
       " 'NJ': 38.94,\n",
       " 'OR': 57.6,\n",
       " 'ME': 61.76,\n",
       " 'NE': 46.15,\n",
       " 'MA': 43.33,\n",
       " 'CT': 35.0,\n",
       " 'ND': 50.0,\n",
       " 'WV': 57.69,\n",
       " 'HI': 33.33,\n",
       " 'DE': 57.14,\n",
       " 'VT': 38.46,\n",
       " 'NH': 40.0,\n",
       " 'RI': 66.67}"
      ]
     },
     "execution_count": 226,
     "metadata": {},
     "output_type": "execute_result"
    }
   ],
   "source": [
    "#percentage of victim carrying a gun (and not only another weapon) by state\n",
    "prct_of_gun_by_state = {}\n",
    "for state in states:\n",
    "    prct_of_gun_by_state[state] = np.around(guns_by_state[state] / victims_by_state[state] * 100, decimals=2)\n",
    "\n",
    "prct_of_gun_by_state"
   ]
  },
  {
   "cell_type": "code",
   "execution_count": 228,
   "metadata": {},
   "outputs": [
    {
     "data": {
      "text/plain": [
       "('HI', 'ID')"
      ]
     },
     "execution_count": 228,
     "metadata": {},
     "output_type": "execute_result"
    }
   ],
   "source": [
    "max_key = max(prct_of_gun_by_state, key=prct_of_gun_by_state.get)\n",
    "min_key = min(prct_of_gun_by_state, key=prct_of_gun_by_state.get)\n",
    "min_key, max_key"
   ]
  },
  {
   "cell_type": "markdown",
   "metadata": {},
   "source": [
    "# Plots"
   ]
  },
  {
   "cell_type": "code",
   "execution_count": 138,
   "metadata": {},
   "outputs": [
    {
     "data": {
      "image/png": "[encoded data removed]",
      "text/plain": [
       "<Figure size 864x720 with 1 Axes>"
      ]
     },
     "metadata": {
      "needs_background": "light"
     },
     "output_type": "display_data"
    }
   ],
   "source": [
    "labels = ['White', 'Black', 'Hispanic']\n",
    "\n",
    "x = np.arange(len(labels))  # the label locations\n",
    "width = 0.25  # the width of the bars\n",
    "\n",
    "fig, ax = plt.subplots()\n",
    "fig.set_size_inches(12, 10)\n",
    "\n",
    "cat1 = ax.bar(x - width, charged_percts, width, label='Police charged')\n",
    "cat2 = ax.bar(x, unarmed_percts, width, label='Victim unarmed')\n",
    "cat3 = ax.bar(x + width, not_fleeing_percts, width, label='Victim not fleeing')\n",
    "\n",
    "# Add some text for labels, title and custom x-axis tick labels, etc.\n",
    "ax.set_ylabel('Percentages')\n",
    "ax.set_title('Exploring race-based bias')\n",
    "ax.set_xticks(x)\n",
    "ax.set_xticklabels(labels)\n",
    "ax.legend()\n",
    "\n",
    "\n",
    "def autolabel(rects):\n",
    "    \"\"\"Attach a text label above each bar in *rects*, displaying its height.\"\"\"\n",
    "    for rect in rects:\n",
    "        height = rect.get_height()\n",
    "        ax.annotate('{}'.format(height),\n",
    "                    xy=(rect.get_x() + rect.get_width() / 2, height),\n",
    "                    xytext=(0, 3),  # 3 points vertical offset\n",
    "                    textcoords=\"offset points\",\n",
    "                    ha='center', va='bottom')\n",
    "\n",
    "\n",
    "autolabel(cat1)\n",
    "autolabel(cat2)\n",
    "autolabel(cat3)\n",
    "\n",
    "fig.tight_layout()\n",
    "\n",
    "plt.show()"
   ]
  }
 ],
 "metadata": {
  "kernelspec": {
   "display_name": "Python 3",
   "language": "python",
   "name": "python3"
  },
  "language_info": {
   "codemirror_mode": {
    "name": "ipython",
    "version": 3
   },
   "file_extension": ".py",
   "mimetype": "text/x-python",
   "name": "python",
   "nbconvert_exporter": "python",
   "pygments_lexer": "ipython3",
   "version": "3.8.3"
  }
 },
 "nbformat": 4,
 "nbformat_minor": 4
}
