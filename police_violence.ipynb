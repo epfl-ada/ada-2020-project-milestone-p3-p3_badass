{
 "cells": [
  {
   "cell_type": "code",
   "execution_count": 2,
   "metadata": {},
   "outputs": [],
   "source": [
    "import pandas as pd\n",
    "import numpy as np\n",
    "import matplotlib.pyplot as plt"
   ]
  },
  {
   "cell_type": "markdown",
   "metadata": {},
   "source": [
    "***"
   ]
  },
  {
   "cell_type": "markdown",
   "metadata": {},
   "source": [
    "# Exploration of potential bias"
   ]
  },
  {
   "cell_type": "code",
   "execution_count": 3,
   "metadata": {},
   "outputs": [
    {
     "data": {
      "text/html": [
       "<div>\n",
       "<style scoped>\n",
       "    .dataframe tbody tr th:only-of-type {\n",
       "        vertical-align: middle;\n",
       "    }\n",
       "\n",
       "    .dataframe tbody tr th {\n",
       "        vertical-align: top;\n",
       "    }\n",
       "\n",
       "    .dataframe thead th {\n",
       "        text-align: right;\n",
       "    }\n",
       "</style>\n",
       "<table border=\"1\" class=\"dataframe\">\n",
       "  <thead>\n",
       "    <tr style=\"text-align: right;\">\n",
       "      <th></th>\n",
       "      <th>victim_age</th>\n",
       "      <th>victim_gender</th>\n",
       "      <th>victim_race</th>\n",
       "      <th>date</th>\n",
       "      <th>City</th>\n",
       "      <th>State</th>\n",
       "      <th>cause_of_death</th>\n",
       "      <th>criminal_charges</th>\n",
       "      <th>victim_armed</th>\n",
       "      <th>alleged_weapon</th>\n",
       "      <th>victim_fleeing</th>\n",
       "    </tr>\n",
       "  </thead>\n",
       "  <tbody>\n",
       "    <tr>\n",
       "      <th>0</th>\n",
       "      <td>66.0</td>\n",
       "      <td>Male</td>\n",
       "      <td>hispanic</td>\n",
       "      <td>2020</td>\n",
       "      <td>Tyler</td>\n",
       "      <td>TX</td>\n",
       "      <td>Gunshot</td>\n",
       "      <td>No known charges</td>\n",
       "      <td>Allegedly Armed</td>\n",
       "      <td>unknown weapon</td>\n",
       "      <td>not fleeing</td>\n",
       "    </tr>\n",
       "    <tr>\n",
       "      <th>1</th>\n",
       "      <td>42.0</td>\n",
       "      <td>Male</td>\n",
       "      <td>unknown race</td>\n",
       "      <td>2020</td>\n",
       "      <td>Hart County</td>\n",
       "      <td>KY</td>\n",
       "      <td>Gunshot</td>\n",
       "      <td>No known charges</td>\n",
       "      <td>Allegedly Armed</td>\n",
       "      <td>gun</td>\n",
       "      <td>other</td>\n",
       "    </tr>\n",
       "    <tr>\n",
       "      <th>2</th>\n",
       "      <td>28.0</td>\n",
       "      <td>Male</td>\n",
       "      <td>white</td>\n",
       "      <td>2020</td>\n",
       "      <td>St. Augustine</td>\n",
       "      <td>FL</td>\n",
       "      <td>Gunshot</td>\n",
       "      <td>No known charges</td>\n",
       "      <td>Allegedly Armed</td>\n",
       "      <td>gun</td>\n",
       "      <td>NaN</td>\n",
       "    </tr>\n",
       "    <tr>\n",
       "      <th>3</th>\n",
       "      <td>39.0</td>\n",
       "      <td>Male</td>\n",
       "      <td>unknown race</td>\n",
       "      <td>2020</td>\n",
       "      <td>La Vergne</td>\n",
       "      <td>TN</td>\n",
       "      <td>Gunshot</td>\n",
       "      <td>No known charges</td>\n",
       "      <td>Allegedly Armed</td>\n",
       "      <td>gun</td>\n",
       "      <td>car</td>\n",
       "    </tr>\n",
       "    <tr>\n",
       "      <th>4</th>\n",
       "      <td>32.0</td>\n",
       "      <td>Male</td>\n",
       "      <td>unknown race</td>\n",
       "      <td>2020</td>\n",
       "      <td>Batesville</td>\n",
       "      <td>IN</td>\n",
       "      <td>Gunshot</td>\n",
       "      <td>No known charges</td>\n",
       "      <td>Allegedly Armed</td>\n",
       "      <td>gun</td>\n",
       "      <td>not fleeing</td>\n",
       "    </tr>\n",
       "  </tbody>\n",
       "</table>\n",
       "</div>"
      ],
      "text/plain": [
       "   victim_age victim_gender   victim_race  date           City State  \\\n",
       "0        66.0          Male      hispanic  2020         Tyler     TX   \n",
       "1        42.0          Male  unknown race  2020    Hart County    KY   \n",
       "2        28.0          Male         white  2020  St. Augustine    FL   \n",
       "3        39.0          Male  unknown race  2020      La Vergne    TN   \n",
       "4        32.0          Male  unknown race  2020     Batesville    IN   \n",
       "\n",
       "  cause_of_death  criminal_charges     victim_armed  alleged_weapon  \\\n",
       "0        Gunshot  No known charges  Allegedly Armed  unknown weapon   \n",
       "1        Gunshot  No known charges  Allegedly Armed             gun   \n",
       "2        Gunshot  No known charges  Allegedly Armed             gun   \n",
       "3        Gunshot  No known charges  Allegedly Armed             gun   \n",
       "4        Gunshot  No known charges  Allegedly Armed             gun   \n",
       "\n",
       "  victim_fleeing  \n",
       "0    not fleeing  \n",
       "1          other  \n",
       "2            NaN  \n",
       "3            car  \n",
       "4    not fleeing  "
      ]
     },
     "execution_count": 3,
     "metadata": {},
     "output_type": "execute_result"
    }
   ],
   "source": [
    "PV_data = pd.read_csv('./data/police_violence.csv', index_col=0)\n",
    "PV_data.head()"
   ]
  },
  {
   "cell_type": "code",
   "execution_count": 4,
   "metadata": {},
   "outputs": [],
   "source": [
    "races = [\"white\", \"black\", \"hispanic\"]"
   ]
  },
  {
   "cell_type": "markdown",
   "metadata": {},
   "source": [
    "### Race bias in criminal charges:"
   ]
  },
  {
   "cell_type": "code",
   "execution_count": 5,
   "metadata": {},
   "outputs": [
    {
     "name": "stdout",
     "output_type": "stream",
     "text": [
      "Percentage of police being charged in case of a white victim: 1.00\n",
      "Percentage of police being charged in case of a black victim: 3.00\n",
      "Percentage of police being charged in case of a hispanic victim: 1.00\n"
     ]
    }
   ],
   "source": [
    "charged_percts = [] #charged percentages\n",
    "for race in races:\n",
    "    df = PV_data.query('victim_race == @race')\n",
    "    count = df.groupby('criminal_charges').count()\n",
    "    total = len(df)\n",
    "    charged = count.loc['Charged':'Charged', 'State'][0] #we use the column `State` to do the slicing because it has zero NaN values,\n",
    "    \n",
    "    charged_percent = np.around(charged / total * 100)\n",
    "    charged_percts.append(charged_percent)\n",
    "    print(\"Percentage of police being charged in case of a %s victim: %4.2f\"%(race, charged_percent))"
   ]
  },
  {
   "cell_type": "markdown",
   "metadata": {},
   "source": [
    "### Race bias in killing the victim is unarmed (or unclear):"
   ]
  },
  {
   "cell_type": "code",
   "execution_count": 6,
   "metadata": {},
   "outputs": [
    {
     "data": {
      "text/html": [
       "<div>\n",
       "<style scoped>\n",
       "    .dataframe tbody tr th:only-of-type {\n",
       "        vertical-align: middle;\n",
       "    }\n",
       "\n",
       "    .dataframe tbody tr th {\n",
       "        vertical-align: top;\n",
       "    }\n",
       "\n",
       "    .dataframe thead th {\n",
       "        text-align: right;\n",
       "    }\n",
       "</style>\n",
       "<table border=\"1\" class=\"dataframe\">\n",
       "  <thead>\n",
       "    <tr style=\"text-align: right;\">\n",
       "      <th></th>\n",
       "      <th>victim_age</th>\n",
       "      <th>victim_gender</th>\n",
       "      <th>victim_race</th>\n",
       "      <th>date</th>\n",
       "      <th>City</th>\n",
       "      <th>State</th>\n",
       "      <th>cause_of_death</th>\n",
       "      <th>criminal_charges</th>\n",
       "      <th>alleged_weapon</th>\n",
       "      <th>victim_fleeing</th>\n",
       "    </tr>\n",
       "    <tr>\n",
       "      <th>victim_armed</th>\n",
       "      <th></th>\n",
       "      <th></th>\n",
       "      <th></th>\n",
       "      <th></th>\n",
       "      <th></th>\n",
       "      <th></th>\n",
       "      <th></th>\n",
       "      <th></th>\n",
       "      <th></th>\n",
       "      <th></th>\n",
       "    </tr>\n",
       "  </thead>\n",
       "  <tbody>\n",
       "    <tr>\n",
       "      <th>Allegedly Armed</th>\n",
       "      <td>1445</td>\n",
       "      <td>1464</td>\n",
       "      <td>1464</td>\n",
       "      <td>1464</td>\n",
       "      <td>1464</td>\n",
       "      <td>1464</td>\n",
       "      <td>1464</td>\n",
       "      <td>1464</td>\n",
       "      <td>1464</td>\n",
       "      <td>1027</td>\n",
       "    </tr>\n",
       "    <tr>\n",
       "      <th>Unarmed</th>\n",
       "      <td>363</td>\n",
       "      <td>364</td>\n",
       "      <td>364</td>\n",
       "      <td>364</td>\n",
       "      <td>364</td>\n",
       "      <td>364</td>\n",
       "      <td>364</td>\n",
       "      <td>364</td>\n",
       "      <td>364</td>\n",
       "      <td>196</td>\n",
       "    </tr>\n",
       "    <tr>\n",
       "      <th>Unclear</th>\n",
       "      <td>162</td>\n",
       "      <td>164</td>\n",
       "      <td>164</td>\n",
       "      <td>164</td>\n",
       "      <td>164</td>\n",
       "      <td>164</td>\n",
       "      <td>164</td>\n",
       "      <td>164</td>\n",
       "      <td>164</td>\n",
       "      <td>86</td>\n",
       "    </tr>\n",
       "    <tr>\n",
       "      <th>Vehicle</th>\n",
       "      <td>165</td>\n",
       "      <td>166</td>\n",
       "      <td>166</td>\n",
       "      <td>166</td>\n",
       "      <td>166</td>\n",
       "      <td>166</td>\n",
       "      <td>166</td>\n",
       "      <td>166</td>\n",
       "      <td>166</td>\n",
       "      <td>113</td>\n",
       "    </tr>\n",
       "  </tbody>\n",
       "</table>\n",
       "</div>"
      ],
      "text/plain": [
       "                 victim_age  victim_gender  victim_race  date  City  State  \\\n",
       "victim_armed                                                                 \n",
       "Allegedly Armed        1445           1464         1464  1464  1464   1464   \n",
       "Unarmed                 363            364          364   364   364    364   \n",
       "Unclear                 162            164          164   164   164    164   \n",
       "Vehicle                 165            166          166   166   166    166   \n",
       "\n",
       "                 cause_of_death  criminal_charges  alleged_weapon  \\\n",
       "victim_armed                                                        \n",
       "Allegedly Armed            1464              1464            1464   \n",
       "Unarmed                     364               364             364   \n",
       "Unclear                     164               164             164   \n",
       "Vehicle                     166               166             166   \n",
       "\n",
       "                 victim_fleeing  \n",
       "victim_armed                     \n",
       "Allegedly Armed            1027  \n",
       "Unarmed                     196  \n",
       "Unclear                      86  \n",
       "Vehicle                     113  "
      ]
     },
     "execution_count": 6,
     "metadata": {},
     "output_type": "execute_result"
    }
   ],
   "source": [
    "df = PV_data.query('victim_race == \"black\"')\n",
    "df.groupby('victim_armed').count()"
   ]
  },
  {
   "cell_type": "code",
   "execution_count": 7,
   "metadata": {},
   "outputs": [
    {
     "name": "stdout",
     "output_type": "stream",
     "text": [
      "Percentage of being killed while unarmed in case of a white victim: 20.00\n",
      "Percentage of being killed while unarmed in case of a black victim: 24.00\n",
      "Percentage of being killed while unarmed in case of a hispanic victim: 25.00\n"
     ]
    }
   ],
   "source": [
    "unarmed_percts = [] #percentages of being killed while unarmed\n",
    "for race in races:\n",
    "    df = PV_data.query('victim_race == @race')\n",
    "    total = len(df)\n",
    "    count = df.groupby('victim_armed').count()\n",
    "    unarmed = count.loc['Unarmed':'Unarmed', 'State'][0] #we use the column `State` to do the slicing because it has zero NaN values,\n",
    "    unclear = count.loc['Unclear':'Unclear', 'State'][0] #so we are sure the count is correct.\n",
    "\n",
    "    killing_percent = np.around((unarmed+unclear) / total * 100)\n",
    "    unarmed_percts.append(killing_percent)\n",
    "    print(\"Percentage of being killed while unarmed in case of a %s victim: %4.2f\"%(race, killing_percent))"
   ]
  },
  {
   "cell_type": "markdown",
   "metadata": {},
   "source": [
    "### Race bias in killing based on victim fleeing or not:"
   ]
  },
  {
   "cell_type": "code",
   "execution_count": 8,
   "metadata": {},
   "outputs": [
    {
     "name": "stdout",
     "output_type": "stream",
     "text": [
      "Percentage of being killed while not fleeing in case of a white victim: 48.400000\n",
      "Percentage of being killed while not fleeing in case of a black victim: 40.100000\n",
      "Percentage of being killed while not fleeing in case of a hispanic victim: 43.200000\n"
     ]
    }
   ],
   "source": [
    "not_fleeing_percts = [] #percentages of being killed while not fleeing\n",
    "for race in races:\n",
    "    df = PV_data.query('victim_race == @race')\n",
    "    total = len(df)\n",
    "    count = df.groupby('victim_fleeing').count()\n",
    "    not_fleeing = count.loc['not fleeing':'not fleeing', 'State'][0] #we use the column `State` to do the slicing because it has zero NaN values\n",
    "\n",
    "    killing_percent = np.around(not_fleeing / total * 100, decimals=1)\n",
    "    not_fleeing_percts.append(killing_percent)\n",
    "    print(\"Percentage of being killed while not fleeing in case of a %s victim: %f\"%(race, killing_percent))"
   ]
  },
  {
   "cell_type": "markdown",
   "metadata": {},
   "source": [
    "### Distribution of races among victims armed with at least a gun:"
   ]
  },
  {
   "cell_type": "code",
   "execution_count": 9,
   "metadata": {},
   "outputs": [],
   "source": [
    "df_guns = PV_data.query('alleged_weapon == \"gun\"')\n",
    "total = len(df_guns)"
   ]
  },
  {
   "cell_type": "code",
   "execution_count": 10,
   "metadata": {},
   "outputs": [
    {
     "name": "stdout",
     "output_type": "stream",
     "text": [
      "Percentage of white among victims carrying a gun: 45.674967\n",
      "Percentage of black among victims carrying a gun: 25.425950\n",
      "Percentage of hispanic among victims carrying a gun: 14.635212\n"
     ]
    }
   ],
   "source": [
    "count_guns_by_race = df_guns.groupby('victim_race').count()\n",
    "\n",
    "for race in races:\n",
    "    c = count_guns_by_race.loc[race:race, 'State'][0]\n",
    "    prct = c/total * 100\n",
    "    print(\"Percentage of %s among victims carrying a gun: %f\"%(race, prct))"
   ]
  },
  {
   "cell_type": "markdown",
   "metadata": {},
   "source": [
    "### Distribution of states among victims carrying a gun:"
   ]
  },
  {
   "cell_type": "code",
   "execution_count": 11,
   "metadata": {},
   "outputs": [],
   "source": [
    "count_guns_by_state = df_guns.groupby('State').count()\n",
    "states = df_guns.State.unique()"
   ]
  },
  {
   "cell_type": "code",
   "execution_count": 22,
   "metadata": {},
   "outputs": [],
   "source": [
    "count_by_state = df_guns.groupby('State').count()\n",
    "guns_by_state = dict({})\n",
    "#print(\"Distribution of states among victims carrying guns:\")\n",
    "\n",
    "for state in states:\n",
    "    c = count_guns_by_state.loc[state:state, 'victim_race'][0]\n",
    "    #prct = np.around(c/total * 100, decimals=2)\n",
    "    guns_by_state[state] = c\n",
    "    #print(\"%s : %d\"%(state, c))"
   ]
  },
  {
   "cell_type": "code",
   "execution_count": 14,
   "metadata": {},
   "outputs": [
    {
     "data": {
      "text/plain": [
       "('RI', 'CA')"
      ]
     },
     "execution_count": 14,
     "metadata": {},
     "output_type": "execute_result"
    }
   ],
   "source": [
    "max_key = max(guns_by_state, key=guns_by_state.get)\n",
    "min_key = min(guns_by_state, key=guns_by_state.get)\n",
    "min_key, max_key"
   ]
  },
  {
   "cell_type": "markdown",
   "metadata": {},
   "source": [
    "### What is the percentage of carrying a gun in every state"
   ]
  },
  {
   "cell_type": "code",
   "execution_count": 19,
   "metadata": {},
   "outputs": [],
   "source": [
    "df_states = PV_data.groupby('State').count()\n",
    "victims_by_state = {}\n",
    "for state in states:\n",
    "    c = df_states.loc[state:state, 'victim_race'][0]\n",
    "    victims_by_state[state] = c\n",
    "#victims_by_state"
   ]
  },
  {
   "cell_type": "code",
   "execution_count": 20,
   "metadata": {},
   "outputs": [],
   "source": [
    "#percentage of victim carrying a gun (and not only another weapon) by state\n",
    "prct_of_gun_by_state = {}\n",
    "for state in states:\n",
    "    prct_of_gun_by_state[state] = np.around(guns_by_state[state] / victims_by_state[state] * 100, decimals=2)\n",
    "#prct_of_gun_by_state"
   ]
  },
  {
   "cell_type": "code",
   "execution_count": 17,
   "metadata": {},
   "outputs": [
    {
     "data": {
      "text/plain": [
       "('HI', 'ID')"
      ]
     },
     "execution_count": 17,
     "metadata": {},
     "output_type": "execute_result"
    }
   ],
   "source": [
    "max_key = max(prct_of_gun_by_state, key=prct_of_gun_by_state.get)\n",
    "min_key = min(prct_of_gun_by_state, key=prct_of_gun_by_state.get)\n",
    "min_key, max_key"
   ]
  },
  {
   "cell_type": "markdown",
   "metadata": {},
   "source": [
    "# Plots"
   ]
  },
  {
   "cell_type": "markdown",
   "metadata": {},
   "source": [
    "### Police charged, victim unarmed (or unclear), victim not fleeing"
   ]
  },
  {
   "cell_type": "code",
   "execution_count": 23,
   "metadata": {},
   "outputs": [
    {
     "data": {
      "image/png": "[encoded data removed]",
      "text/plain": [
       "<Figure size 864x720 with 1 Axes>"
      ]
     },
     "metadata": {
      "needs_background": "light"
     },
     "output_type": "display_data"
    }
   ],
   "source": [
    "labels = ['White', 'Black', 'Hispanic']\n",
    "\n",
    "x = np.arange(len(labels))  # the label locations\n",
    "width = 0.25  # the width of the bars\n",
    "\n",
    "fig, ax = plt.subplots()\n",
    "fig.set_size_inches(12, 10)\n",
    "\n",
    "cat1 = ax.bar(x - width, charged_percts, width, label='Police charged')\n",
    "cat2 = ax.bar(x, unarmed_percts, width, label='Victim unarmed')\n",
    "cat3 = ax.bar(x + width, not_fleeing_percts, width, label='Victim not fleeing')\n",
    "\n",
    "# Add some text for labels, title and custom x-axis tick labels, etc.\n",
    "ax.set_ylabel('Percentages')\n",
    "ax.set_title('Exploring race-based bias')\n",
    "ax.set_xticks(x)\n",
    "ax.set_xticklabels(labels)\n",
    "ax.legend()\n",
    "\n",
    "\n",
    "def autolabel(rects):\n",
    "    \"\"\"Attach a text label above each bar in *rects*, displaying its height.\"\"\"\n",
    "    for rect in rects:\n",
    "        height = rect.get_height()\n",
    "        ax.annotate('{}'.format(height),\n",
    "                    xy=(rect.get_x() + rect.get_width() / 2, height),\n",
    "                    xytext=(0, 3),  # 3 points vertical offset\n",
    "                    textcoords=\"offset points\",\n",
    "                    ha='center', va='bottom')\n",
    "\n",
    "\n",
    "autolabel(cat1)\n",
    "autolabel(cat2)\n",
    "autolabel(cat3)\n",
    "\n",
    "fig.tight_layout()\n",
    "\n",
    "plt.show()"
   ]
  },
  {
   "cell_type": "markdown",
   "metadata": {},
   "source": [
    "### Percentage of carrying a gun in each state, Vs gun law strength"
   ]
  },
  {
   "cell_type": "code",
   "execution_count": 30,
   "metadata": {},
   "outputs": [
    {
     "data": {
      "text/html": [
       "<div>\n",
       "<style scoped>\n",
       "    .dataframe tbody tr th:only-of-type {\n",
       "        vertical-align: middle;\n",
       "    }\n",
       "\n",
       "    .dataframe tbody tr th {\n",
       "        vertical-align: top;\n",
       "    }\n",
       "\n",
       "    .dataframe thead th {\n",
       "        text-align: right;\n",
       "    }\n",
       "</style>\n",
       "<table border=\"1\" class=\"dataframe\">\n",
       "  <thead>\n",
       "    <tr style=\"text-align: right;\">\n",
       "      <th></th>\n",
       "      <th>%_carrying_gun</th>\n",
       "      <th>State</th>\n",
       "    </tr>\n",
       "  </thead>\n",
       "  <tbody>\n",
       "    <tr>\n",
       "      <th>KY</th>\n",
       "      <td>60.43</td>\n",
       "      <td>KY</td>\n",
       "    </tr>\n",
       "    <tr>\n",
       "      <th>FL</th>\n",
       "      <td>53.74</td>\n",
       "      <td>FL</td>\n",
       "    </tr>\n",
       "    <tr>\n",
       "      <th>TN</th>\n",
       "      <td>53.88</td>\n",
       "      <td>TN</td>\n",
       "    </tr>\n",
       "    <tr>\n",
       "      <th>IN</th>\n",
       "      <td>65.07</td>\n",
       "      <td>IN</td>\n",
       "    </tr>\n",
       "    <tr>\n",
       "      <th>CA</th>\n",
       "      <td>39.58</td>\n",
       "      <td>CA</td>\n",
       "    </tr>\n",
       "  </tbody>\n",
       "</table>\n",
       "</div>"
      ],
      "text/plain": [
       "    %_carrying_gun State\n",
       "KY           60.43    KY\n",
       "FL           53.74    FL\n",
       "TN           53.88    TN\n",
       "IN           65.07    IN\n",
       "CA           39.58    CA"
      ]
     },
     "execution_count": 30,
     "metadata": {},
     "output_type": "execute_result"
    }
   ],
   "source": [
    "df = pd.DataFrame.from_dict(prct_of_gun_by_state, orient='index', columns=['%_carrying_gun'])\n",
    "df['State'] = df.index\n",
    "df.head()"
   ]
  },
  {
   "cell_type": "code",
   "execution_count": 28,
   "metadata": {},
   "outputs": [
    {
     "data": {
      "text/html": [
       "<div>\n",
       "<style scoped>\n",
       "    .dataframe tbody tr th:only-of-type {\n",
       "        vertical-align: middle;\n",
       "    }\n",
       "\n",
       "    .dataframe tbody tr th {\n",
       "        vertical-align: top;\n",
       "    }\n",
       "\n",
       "    .dataframe thead th {\n",
       "        text-align: right;\n",
       "    }\n",
       "</style>\n",
       "<table border=\"1\" class=\"dataframe\">\n",
       "  <thead>\n",
       "    <tr style=\"text-align: right;\">\n",
       "      <th></th>\n",
       "      <th>state_gunlaw_strength</th>\n",
       "      <th>State</th>\n",
       "      <th>state_gunlaw_grade</th>\n",
       "      <th>state_gun_death_rate</th>\n",
       "      <th>state_gun_death_rate_per_100K</th>\n",
       "    </tr>\n",
       "  </thead>\n",
       "  <tbody>\n",
       "    <tr>\n",
       "      <th>0</th>\n",
       "      <td>38</td>\n",
       "      <td>AL</td>\n",
       "      <td>F</td>\n",
       "      <td>2</td>\n",
       "      <td>21.70</td>\n",
       "    </tr>\n",
       "    <tr>\n",
       "      <th>1</th>\n",
       "      <td>42</td>\n",
       "      <td>AK</td>\n",
       "      <td>F</td>\n",
       "      <td>7</td>\n",
       "      <td>20.74</td>\n",
       "    </tr>\n",
       "    <tr>\n",
       "      <th>2</th>\n",
       "      <td>45</td>\n",
       "      <td>AZ</td>\n",
       "      <td>F</td>\n",
       "      <td>18</td>\n",
       "      <td>15.29</td>\n",
       "    </tr>\n",
       "    <tr>\n",
       "      <th>3</th>\n",
       "      <td>40</td>\n",
       "      <td>AR</td>\n",
       "      <td>F</td>\n",
       "      <td>8</td>\n",
       "      <td>18.96</td>\n",
       "    </tr>\n",
       "    <tr>\n",
       "      <th>4</th>\n",
       "      <td>1</td>\n",
       "      <td>CA</td>\n",
       "      <td>A</td>\n",
       "      <td>44</td>\n",
       "      <td>7.45</td>\n",
       "    </tr>\n",
       "  </tbody>\n",
       "</table>\n",
       "</div>"
      ],
      "text/plain": [
       "   state_gunlaw_strength State state_gunlaw_grade  state_gun_death_rate  \\\n",
       "0                     38    AL                  F                     2   \n",
       "1                     42    AK                  F                     7   \n",
       "2                     45    AZ                  F                    18   \n",
       "3                     40    AR                  F                     8   \n",
       "4                      1    CA                  A                    44   \n",
       "\n",
       "   state_gun_death_rate_per_100K  \n",
       "0                          21.70  \n",
       "1                          20.74  \n",
       "2                          15.29  \n",
       "3                          18.96  \n",
       "4                           7.45  "
      ]
     },
     "execution_count": 28,
     "metadata": {},
     "output_type": "execute_result"
    }
   ],
   "source": [
    "gunlaw_data = pd.read_csv('./data/gunlaw_ranking.csv', index_col=0)\n",
    "gunlaw_data.head()"
   ]
  },
  {
   "cell_type": "code",
   "execution_count": 43,
   "metadata": {},
   "outputs": [
    {
     "data": {
      "text/html": [
       "<div>\n",
       "<style scoped>\n",
       "    .dataframe tbody tr th:only-of-type {\n",
       "        vertical-align: middle;\n",
       "    }\n",
       "\n",
       "    .dataframe tbody tr th {\n",
       "        vertical-align: top;\n",
       "    }\n",
       "\n",
       "    .dataframe thead th {\n",
       "        text-align: right;\n",
       "    }\n",
       "</style>\n",
       "<table border=\"1\" class=\"dataframe\">\n",
       "  <thead>\n",
       "    <tr style=\"text-align: right;\">\n",
       "      <th></th>\n",
       "      <th>%_carrying_gun</th>\n",
       "      <th>State</th>\n",
       "      <th>state_gunlaw_strength</th>\n",
       "      <th>state_gunlaw_grade</th>\n",
       "      <th>state_gun_death_rate</th>\n",
       "      <th>state_gun_death_rate_per_100K</th>\n",
       "    </tr>\n",
       "  </thead>\n",
       "  <tbody>\n",
       "    <tr>\n",
       "      <th>4</th>\n",
       "      <td>39.58</td>\n",
       "      <td>CA</td>\n",
       "      <td>1</td>\n",
       "      <td>A</td>\n",
       "      <td>44</td>\n",
       "      <td>7.45</td>\n",
       "    </tr>\n",
       "    <tr>\n",
       "      <th>37</th>\n",
       "      <td>38.94</td>\n",
       "      <td>NJ</td>\n",
       "      <td>2</td>\n",
       "      <td>A</td>\n",
       "      <td>46</td>\n",
       "      <td>4.75</td>\n",
       "    </tr>\n",
       "    <tr>\n",
       "      <th>42</th>\n",
       "      <td>35.00</td>\n",
       "      <td>CT</td>\n",
       "      <td>3</td>\n",
       "      <td>A-</td>\n",
       "      <td>45</td>\n",
       "      <td>4.91</td>\n",
       "    </tr>\n",
       "    <tr>\n",
       "      <th>30</th>\n",
       "      <td>43.43</td>\n",
       "      <td>NY</td>\n",
       "      <td>4</td>\n",
       "      <td>A-</td>\n",
       "      <td>47</td>\n",
       "      <td>4.03</td>\n",
       "    </tr>\n",
       "    <tr>\n",
       "      <th>45</th>\n",
       "      <td>33.33</td>\n",
       "      <td>HI</td>\n",
       "      <td>5</td>\n",
       "      <td>A-</td>\n",
       "      <td>48</td>\n",
       "      <td>4.03</td>\n",
       "    </tr>\n",
       "  </tbody>\n",
       "</table>\n",
       "</div>"
      ],
      "text/plain": [
       "    %_carrying_gun State  state_gunlaw_strength state_gunlaw_grade  \\\n",
       "4            39.58    CA                      1                  A   \n",
       "37           38.94    NJ                      2                  A   \n",
       "42           35.00    CT                      3                 A-   \n",
       "30           43.43    NY                      4                 A-   \n",
       "45           33.33    HI                      5                 A-   \n",
       "\n",
       "    state_gun_death_rate  state_gun_death_rate_per_100K  \n",
       "4                     44                           7.45  \n",
       "37                    46                           4.75  \n",
       "42                    45                           4.91  \n",
       "30                    47                           4.03  \n",
       "45                    48                           4.03  "
      ]
     },
     "execution_count": 43,
     "metadata": {},
     "output_type": "execute_result"
    }
   ],
   "source": [
    "df_result = pd.merge(df, gunlaw_data, on='State')\n",
    "df_result = df_result.sort_values(by=['state_gunlaw_strength'])\n",
    "df_result.head()"
   ]
  },
  {
   "cell_type": "code",
   "execution_count": 49,
   "metadata": {},
   "outputs": [
    {
     "data": {
      "text/plain": [
       "Text(0, 0.5, 'Victims with a gun (%)')"
      ]
     },
     "execution_count": 49,
     "metadata": {},
     "output_type": "execute_result"
    },
    {
     "data": {
      "image/png": "[encoded data removed]",
      "text/plain": [
       "<Figure size 1440x720 with 1 Axes>"
      ]
     },
     "metadata": {
      "needs_background": "light"
     },
     "output_type": "display_data"
    }
   ],
   "source": [
    "fig, ax = plt.subplots()\n",
    "fig.set_size_inches(20, 10)\n",
    "\n",
    "df_result.plot(ax=ax, x='State', y='%_carrying_gun', kind='bar')\n",
    "\n",
    "ax.set_title('Distribution of carrying a gun by state')\n",
    "ax.set_ylabel('Victims with a gun (%)')"
   ]
  },
  {
   "cell_type": "code",
   "execution_count": null,
   "metadata": {},
   "outputs": [],
   "source": []
  }
 ],
 "metadata": {
  "kernelspec": {
   "display_name": "Python 3",
   "language": "python",
   "name": "python3"
  },
  "language_info": {
   "codemirror_mode": {
    "name": "ipython",
    "version": 3
   },
   "file_extension": ".py",
   "mimetype": "text/x-python",
   "name": "python",
   "nbconvert_exporter": "python",
   "pygments_lexer": "ipython3",
   "version": "3.8.3"
  }
 },
 "nbformat": 4,
 "nbformat_minor": 4
}
