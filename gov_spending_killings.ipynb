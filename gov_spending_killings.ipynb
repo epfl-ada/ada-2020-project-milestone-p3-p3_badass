{
 "cells": [
  {
   "cell_type": "code",
   "execution_count": 1,
   "metadata": {},
   "outputs": [],
   "source": [
    "import pandas as pd\n",
    "from textblob import TextBlob\n",
    "import glob\n",
    "import matplotlib.pyplot as plt    \n",
    "import numpy as np\n",
    "import seaborn as sns\n",
    "plt.rcParams['figure.dpi']= 300"
   ]
  },
  {
   "cell_type": "markdown",
   "metadata": {},
   "source": [
    "Let's start by loading the data of the government killings in the US. Every year/sector is in a separate file, so let's load them one by one, and also perform some quick cleaning while loading them."
   ]
  },
  {
   "cell_type": "code",
   "execution_count": 2,
   "metadata": {},
   "outputs": [],
   "source": [
    "def parse_number(number):\n",
    "    '''\n",
    "    Helper fuction used to pase numbers containing comma in the 100s.\n",
    "    '''\n",
    "\n",
    "    new_number= number.replace(\",\",\"\")\n",
    "    return float(new_number)"
   ]
  },
  {
   "cell_type": "code",
   "execution_count": 3,
   "metadata": {},
   "outputs": [
    {
     "name": "stdout",
     "output_type": "stream",
     "text": [
      "./datasets/spending_data/usgs_state_2013_edu.csv\n",
      "./datasets/spending_data/usgs_state_2013_health.csv\n",
      "./datasets/spending_data/usgs_state_2013_police.csv\n",
      "./datasets/spending_data/usgs_state_2014_edu.csv\n",
      "./datasets/spending_data/usgs_state_2014_health.csv\n",
      "./datasets/spending_data/usgs_state_2014_police.csv\n",
      "./datasets/spending_data/usgs_state_2015_edu.csv\n",
      "./datasets/spending_data/usgs_state_2015_health.csv\n",
      "./datasets/spending_data/usgs_state_2015_police.csv\n",
      "./datasets/spending_data/usgs_state_2016_edu.csv\n",
      "./datasets/spending_data/usgs_state_2016_health.csv\n",
      "./datasets/spending_data/usgs_state_2016_police.csv\n",
      "./datasets/spending_data/usgs_state_2017_edu.csv\n",
      "./datasets/spending_data/usgs_state_2017_health.csv\n",
      "./datasets/spending_data/usgs_state_2017_police.csv\n",
      "./datasets/spending_data/usgs_state_2018_edu.csv\n",
      "./datasets/spending_data/usgs_state_2018_health.csv\n",
      "./datasets/spending_data/usgs_state_2018_police.csv\n",
      "./datasets/spending_data/usgs_state_2019_edu.csv\n",
      "./datasets/spending_data/usgs_state_2019_health.csv\n",
      "./datasets/spending_data/usgs_state_2019_police.csv\n",
      "./datasets/spending_data/usgs_state_2020_edu.csv\n",
      "./datasets/spending_data/usgs_state_2020_health.csv\n",
      "./datasets/spending_data/usgs_state_2020_police.csv\n"
     ]
    }
   ],
   "source": [
    "all_files = glob.glob(\"./datasets/spending_data/*.csv\")\n",
    "all_files.sort()\n",
    "datasets = []\n",
    "\n",
    "main_df = pd.DataFrame(['Alabama', 'Alaska', 'Arizona', 'Arkansas', 'California', 'Colorado', 'Connecticut', 'Delaware', 'District of Columbia', 'Florida', 'Georgia', 'Hawaii', 'Idaho', 'Illinois', 'Indiana', 'Iowa', 'Kansas', 'Kentucky', 'Louisiana', 'Maine', 'Maryland', 'Massachusetts', 'Michigan', 'Minnesota', 'Mississippi', 'Missouri', 'Montana', 'Nebraska', 'Nevada', 'New Hampshire', 'New Jersey', 'New Mexico', 'New York', 'North Carolina', 'North Dakota', 'Ohio', 'Oklahoma', 'Oregon', 'Pennsylvania', 'Rhode Island', 'South Carolina', 'South Dakota', 'Tennessee', 'Texas', 'All states combined', 'Utah', 'Vermont', 'Virginia', 'Washington', 'West Virginia', 'Wisconsin', 'Wyoming'],  columns =['State'])\n",
    "\n",
    "for filename in all_files:\n",
    "    print(filename)\n",
    "    split=filename.split('_')\n",
    "    year=split[-2]\n",
    "    sector=split[-1][:-4]\n",
    "    \n",
    "\n",
    "    df = pd.read_csv(filename,skiprows=6)\n",
    "    df.drop(df.tail(4).index, inplace = True) \n",
    "    df = df.drop(columns=df.columns.difference(['State','State and Local Spending']))\n",
    "    \n",
    "    df[\"State and Local Spending\"] = df[\"State and Local Spending\"].apply(lambda x: parse_number(x))\n",
    "    df.columns= [\"State\", \"{}_{}\".format(year, sector)]\n",
    "    \n",
    "    \n",
    "    main_df= pd.merge(main_df, df, on =\"State\")\n",
    "\n"
   ]
  },
  {
   "cell_type": "code",
   "execution_count": 4,
   "metadata": {},
   "outputs": [
    {
     "data": {
      "text/html": [
       "<div>\n",
       "<style scoped>\n",
       "    .dataframe tbody tr th:only-of-type {\n",
       "        vertical-align: middle;\n",
       "    }\n",
       "\n",
       "    .dataframe tbody tr th {\n",
       "        vertical-align: top;\n",
       "    }\n",
       "\n",
       "    .dataframe thead th {\n",
       "        text-align: right;\n",
       "    }\n",
       "</style>\n",
       "<table border=\"1\" class=\"dataframe\">\n",
       "  <thead>\n",
       "    <tr style=\"text-align: right;\">\n",
       "      <th></th>\n",
       "      <th>State</th>\n",
       "      <th>2013_edu</th>\n",
       "      <th>2013_health</th>\n",
       "      <th>2013_police</th>\n",
       "      <th>2014_edu</th>\n",
       "      <th>2014_health</th>\n",
       "      <th>2014_police</th>\n",
       "      <th>2015_edu</th>\n",
       "      <th>2015_health</th>\n",
       "      <th>2015_police</th>\n",
       "      <th>...</th>\n",
       "      <th>2017_police</th>\n",
       "      <th>2018_edu</th>\n",
       "      <th>2018_health</th>\n",
       "      <th>2018_police</th>\n",
       "      <th>2019_edu</th>\n",
       "      <th>2019_health</th>\n",
       "      <th>2019_police</th>\n",
       "      <th>2020_edu</th>\n",
       "      <th>2020_health</th>\n",
       "      <th>2020_police</th>\n",
       "    </tr>\n",
       "  </thead>\n",
       "  <tbody>\n",
       "    <tr>\n",
       "      <th>0</th>\n",
       "      <td>Alabama</td>\n",
       "      <td>3016.4</td>\n",
       "      <td>2400.1</td>\n",
       "      <td>501.0</td>\n",
       "      <td>2984.9</td>\n",
       "      <td>2451.7</td>\n",
       "      <td>507.2</td>\n",
       "      <td>3049.6</td>\n",
       "      <td>2516.7</td>\n",
       "      <td>530.3</td>\n",
       "      <td>...</td>\n",
       "      <td>542.8</td>\n",
       "      <td>3027.1</td>\n",
       "      <td>2767.2</td>\n",
       "      <td>563.0</td>\n",
       "      <td>3147.8</td>\n",
       "      <td>2770.9</td>\n",
       "      <td>583.4</td>\n",
       "      <td>3265.9</td>\n",
       "      <td>2788.6</td>\n",
       "      <td>603.6</td>\n",
       "    </tr>\n",
       "    <tr>\n",
       "      <th>1</th>\n",
       "      <td>Alaska</td>\n",
       "      <td>4977.5</td>\n",
       "      <td>3041.5</td>\n",
       "      <td>1240.3</td>\n",
       "      <td>4923.4</td>\n",
       "      <td>3024.5</td>\n",
       "      <td>1286.6</td>\n",
       "      <td>5036.4</td>\n",
       "      <td>3091.4</td>\n",
       "      <td>1356.8</td>\n",
       "      <td>...</td>\n",
       "      <td>1307.7</td>\n",
       "      <td>4422.2</td>\n",
       "      <td>3896.6</td>\n",
       "      <td>1556.8</td>\n",
       "      <td>4356.7</td>\n",
       "      <td>3988.2</td>\n",
       "      <td>1631.4</td>\n",
       "      <td>4315.1</td>\n",
       "      <td>4080.0</td>\n",
       "      <td>1700.8</td>\n",
       "    </tr>\n",
       "    <tr>\n",
       "      <th>2</th>\n",
       "      <td>Arizona</td>\n",
       "      <td>2193.0</td>\n",
       "      <td>1577.6</td>\n",
       "      <td>746.4</td>\n",
       "      <td>2265.4</td>\n",
       "      <td>1690.9</td>\n",
       "      <td>737.1</td>\n",
       "      <td>2058.9</td>\n",
       "      <td>1332.9</td>\n",
       "      <td>742.2</td>\n",
       "      <td>...</td>\n",
       "      <td>786.5</td>\n",
       "      <td>2231.0</td>\n",
       "      <td>1845.4</td>\n",
       "      <td>771.0</td>\n",
       "      <td>2291.2</td>\n",
       "      <td>1889.6</td>\n",
       "      <td>762.1</td>\n",
       "      <td>2349.8</td>\n",
       "      <td>1933.3</td>\n",
       "      <td>757.9</td>\n",
       "    </tr>\n",
       "    <tr>\n",
       "      <th>3</th>\n",
       "      <td>Arkansas</td>\n",
       "      <td>2772.2</td>\n",
       "      <td>1972.7</td>\n",
       "      <td>490.5</td>\n",
       "      <td>2758.8</td>\n",
       "      <td>2123.4</td>\n",
       "      <td>510.1</td>\n",
       "      <td>2766.2</td>\n",
       "      <td>2470.6</td>\n",
       "      <td>534.4</td>\n",
       "      <td>...</td>\n",
       "      <td>526.9</td>\n",
       "      <td>2918.8</td>\n",
       "      <td>2627.0</td>\n",
       "      <td>536.9</td>\n",
       "      <td>3032.0</td>\n",
       "      <td>2543.9</td>\n",
       "      <td>548.2</td>\n",
       "      <td>3142.2</td>\n",
       "      <td>2486.1</td>\n",
       "      <td>560.3</td>\n",
       "    </tr>\n",
       "    <tr>\n",
       "      <th>4</th>\n",
       "      <td>California</td>\n",
       "      <td>2748.0</td>\n",
       "      <td>2240.2</td>\n",
       "      <td>1029.5</td>\n",
       "      <td>2826.2</td>\n",
       "      <td>2444.7</td>\n",
       "      <td>1083.1</td>\n",
       "      <td>2995.8</td>\n",
       "      <td>3211.7</td>\n",
       "      <td>1106.1</td>\n",
       "      <td>...</td>\n",
       "      <td>1181.7</td>\n",
       "      <td>3616.4</td>\n",
       "      <td>4126.5</td>\n",
       "      <td>1244.0</td>\n",
       "      <td>3852.2</td>\n",
       "      <td>4403.7</td>\n",
       "      <td>1307.5</td>\n",
       "      <td>4075.0</td>\n",
       "      <td>4665.0</td>\n",
       "      <td>1369.1</td>\n",
       "    </tr>\n",
       "  </tbody>\n",
       "</table>\n",
       "<p>5 rows × 25 columns</p>\n",
       "</div>"
      ],
      "text/plain": [
       "        State  2013_edu  2013_health  2013_police  2014_edu  2014_health  \\\n",
       "0     Alabama    3016.4       2400.1        501.0    2984.9       2451.7   \n",
       "1      Alaska    4977.5       3041.5       1240.3    4923.4       3024.5   \n",
       "2     Arizona    2193.0       1577.6        746.4    2265.4       1690.9   \n",
       "3    Arkansas    2772.2       1972.7        490.5    2758.8       2123.4   \n",
       "4  California    2748.0       2240.2       1029.5    2826.2       2444.7   \n",
       "\n",
       "   2014_police  2015_edu  2015_health  2015_police  ...  2017_police  \\\n",
       "0        507.2    3049.6       2516.7        530.3  ...        542.8   \n",
       "1       1286.6    5036.4       3091.4       1356.8  ...       1307.7   \n",
       "2        737.1    2058.9       1332.9        742.2  ...        786.5   \n",
       "3        510.1    2766.2       2470.6        534.4  ...        526.9   \n",
       "4       1083.1    2995.8       3211.7       1106.1  ...       1181.7   \n",
       "\n",
       "   2018_edu  2018_health  2018_police  2019_edu  2019_health  2019_police  \\\n",
       "0    3027.1       2767.2        563.0    3147.8       2770.9        583.4   \n",
       "1    4422.2       3896.6       1556.8    4356.7       3988.2       1631.4   \n",
       "2    2231.0       1845.4        771.0    2291.2       1889.6        762.1   \n",
       "3    2918.8       2627.0        536.9    3032.0       2543.9        548.2   \n",
       "4    3616.4       4126.5       1244.0    3852.2       4403.7       1307.5   \n",
       "\n",
       "   2020_edu  2020_health  2020_police  \n",
       "0    3265.9       2788.6        603.6  \n",
       "1    4315.1       4080.0       1700.8  \n",
       "2    2349.8       1933.3        757.9  \n",
       "3    3142.2       2486.1        560.3  \n",
       "4    4075.0       4665.0       1369.1  \n",
       "\n",
       "[5 rows x 25 columns]"
      ]
     },
     "execution_count": 4,
     "metadata": {},
     "output_type": "execute_result"
    }
   ],
   "source": [
    "main_df.head()"
   ]
  },
  {
   "cell_type": "markdown",
   "metadata": {},
   "source": [
    "Throughout all the notebook, we will be loading data that comes from different sources. So it's a good idea to homogenify some fields, such as the name of the State. We are defining a helper dictionary that will help matching different states of the us to unique identifying characters. "
   ]
  },
  {
   "cell_type": "code",
   "execution_count": 5,
   "metadata": {},
   "outputs": [],
   "source": [
    "main_df = main_df[main_df.State != \"All states combined\"]\n",
    "\n",
    "us_state_abbrev = {    'Alabama': 'AL',    'Alaska': 'AK',    'American Samoa': 'AS',    'Arizona': 'AZ',    'Arkansas': 'AR',    'California': 'CA',    'Colorado': 'CO',    'Connecticut': 'CT',    'Delaware': 'DE',    'District of Columbia': 'DC',    'Florida': 'FL',    'Georgia': 'GA',    'Guam': 'GU',    'Hawaii': 'HI',    'Idaho': 'ID',    'Illinois': 'IL',    'Indiana': 'IN',    'Iowa': 'IA',    'Kansas': 'KS',    'Kentucky': 'KY',    'Louisiana': 'LA',    'Maine': 'ME',    'Maryland': 'MD',    'Massachusetts': 'MA',    'Michigan': 'MI',    'Minnesota': 'MN',    'Mississippi': 'MS',    'Missouri': 'MO',    'Montana': 'MT',    'Nebraska': 'NE',    'Nevada': 'NV',    'New Hampshire': 'NH',    'New Jersey': 'NJ',    'New Mexico': 'NM',    'New York': 'NY',    'North Carolina': 'NC',    'North Dakota': 'ND',    'Northern Mariana Islands':'MP',    'Ohio': 'OH',    'Oklahoma': 'OK',    'Oregon': 'OR',    'Pennsylvania': 'PA',    'Puerto Rico': 'PR',    'Rhode Island': 'RI',    'South Carolina': 'SC',    'South Dakota': 'SD',    'Tennessee': 'TN',    'Texas': 'TX',    'Utah': 'UT',    'Vermont': 'VT',    'Virgin Islands': 'VI',    'Virginia': 'VA',    'Washington': 'WA',    'West Virginia': 'WV',    'Wisconsin': 'WI',    'Wyoming': 'WY'}\n",
    "\n",
    "\n",
    "main_df[\"State\"] = main_df[\"State\"].apply(lambda x: us_state_abbrev[x])"
   ]
  },
  {
   "cell_type": "markdown",
   "metadata": {},
   "source": [
    "Since the different fundings do not change a lot from year to year, we will be taking the average value through the last 6 years for the fundings."
   ]
  },
  {
   "cell_type": "code",
   "execution_count": 6,
   "metadata": {},
   "outputs": [],
   "source": [
    "# Compute mean per each sector\n",
    "\n",
    "main_df[\"mean_edu\"]=main_df.filter(regex='edu').mean(axis=1)\n",
    "main_df[\"mean_police\"]=main_df.filter(regex='police').mean(axis=1)\n",
    "main_df[\"mean_health\"]=main_df.filter(regex='health').mean(axis=1)\n",
    "\n",
    "main_df = main_df.drop(columns=main_df.columns.difference(['State','mean_edu', 'mean_police', 'mean_health']))"
   ]
  },
  {
   "cell_type": "code",
   "execution_count": 7,
   "metadata": {},
   "outputs": [],
   "source": [
    "main_df.set_index(\"State\", inplace=True)"
   ]
  },
  {
   "cell_type": "code",
   "execution_count": 8,
   "metadata": {},
   "outputs": [
    {
     "data": {
      "text/html": [
       "<div>\n",
       "<style scoped>\n",
       "    .dataframe tbody tr th:only-of-type {\n",
       "        vertical-align: middle;\n",
       "    }\n",
       "\n",
       "    .dataframe tbody tr th {\n",
       "        vertical-align: top;\n",
       "    }\n",
       "\n",
       "    .dataframe thead th {\n",
       "        text-align: right;\n",
       "    }\n",
       "</style>\n",
       "<table border=\"1\" class=\"dataframe\">\n",
       "  <thead>\n",
       "    <tr style=\"text-align: right;\">\n",
       "      <th></th>\n",
       "      <th>mean_edu</th>\n",
       "      <th>mean_police</th>\n",
       "      <th>mean_health</th>\n",
       "    </tr>\n",
       "    <tr>\n",
       "      <th>State</th>\n",
       "      <th></th>\n",
       "      <th></th>\n",
       "      <th></th>\n",
       "    </tr>\n",
       "  </thead>\n",
       "  <tbody>\n",
       "    <tr>\n",
       "      <th>AL</th>\n",
       "      <td>3026.6875</td>\n",
       "      <td>545.4375</td>\n",
       "      <td>2648.4250</td>\n",
       "    </tr>\n",
       "    <tr>\n",
       "      <th>AK</th>\n",
       "      <td>4669.4625</td>\n",
       "      <td>1423.0625</td>\n",
       "      <td>3528.7125</td>\n",
       "    </tr>\n",
       "    <tr>\n",
       "      <th>AZ</th>\n",
       "      <td>2209.9375</td>\n",
       "      <td>757.7875</td>\n",
       "      <td>1721.4500</td>\n",
       "    </tr>\n",
       "    <tr>\n",
       "      <th>AR</th>\n",
       "      <td>2877.7125</td>\n",
       "      <td>529.2500</td>\n",
       "      <td>2451.8375</td>\n",
       "    </tr>\n",
       "    <tr>\n",
       "      <th>CA</th>\n",
       "      <td>3338.5500</td>\n",
       "      <td>1185.1375</td>\n",
       "      <td>3530.4750</td>\n",
       "    </tr>\n",
       "  </tbody>\n",
       "</table>\n",
       "</div>"
      ],
      "text/plain": [
       "        mean_edu  mean_police  mean_health\n",
       "State                                     \n",
       "AL     3026.6875     545.4375    2648.4250\n",
       "AK     4669.4625    1423.0625    3528.7125\n",
       "AZ     2209.9375     757.7875    1721.4500\n",
       "AR     2877.7125     529.2500    2451.8375\n",
       "CA     3338.5500    1185.1375    3530.4750"
      ]
     },
     "execution_count": 8,
     "metadata": {},
     "output_type": "execute_result"
    }
   ],
   "source": [
    "main_df.head()"
   ]
  },
  {
   "cell_type": "code",
   "execution_count": 18,
   "metadata": {},
   "outputs": [],
   "source": [
    "main_df=main_df[['mean_police','mean_edu','mean_health']]"
   ]
  },
  {
   "cell_type": "markdown",
   "metadata": {},
   "source": [
    "Great! The first dataset is ready. Let's quickly visualize the data we have, by sorting on the average police funding in every state."
   ]
  },
  {
   "cell_type": "code",
   "execution_count": 19,
   "metadata": {},
   "outputs": [],
   "source": [
    "main_df =  main_df.sort_values(by='mean_police')"
   ]
  },
  {
   "cell_type": "code",
   "execution_count": 25,
   "metadata": {},
   "outputs": [
    {
     "data": {
      "image/png": "[encoded data removed]",
      "text/plain": [
       "<Figure size 4200x2400 with 1 Axes>"
      ]
     },
     "metadata": {
      "needs_background": "light"
     },
     "output_type": "display_data"
    }
   ],
   "source": [
    "ax=main_df.plot.bar( rot=90, figsize=(14,8), title='Average funding per capita', color=[\"orange\", \"green\", \"purple\"])\n",
    "ax.set_ylabel(\"USD spent per capita\")\n",
    "ax.legend([\"Police\", \"Education\", \"Healthcare\"]);"
   ]
  },
  {
   "cell_type": "markdown",
   "metadata": {},
   "source": [
    "### Get percentage of population by state\n",
    "\n",
    "We want to include data on police killings in the US. But we want to make sure that we normalize this data. We are doing this because there are states such as California with 40M inhabitants, and we want to be able to compare the data with states with much smaller populations. To do this we are loading a dataset which includes the percentage of population per each state.  \n",
    "\n",
    "\n",
    "Data downloaded from: https://simple.wikipedia.org/wiki/List_of_U.S._states_by_population using https://wikitable2csv.ggor.de\n"
   ]
  },
  {
   "cell_type": "code",
   "execution_count": 40,
   "metadata": {},
   "outputs": [],
   "source": [
    "population_pd = pd.read_csv('./datasets/popuations_by_state_wiki.csv')"
   ]
  },
  {
   "cell_type": "code",
   "execution_count": 41,
   "metadata": {},
   "outputs": [
    {
     "data": {
      "text/html": [
       "<div>\n",
       "<style scoped>\n",
       "    .dataframe tbody tr th:only-of-type {\n",
       "        vertical-align: middle;\n",
       "    }\n",
       "\n",
       "    .dataframe tbody tr th {\n",
       "        vertical-align: top;\n",
       "    }\n",
       "\n",
       "    .dataframe thead th {\n",
       "        text-align: right;\n",
       "    }\n",
       "</style>\n",
       "<table border=\"1\" class=\"dataframe\">\n",
       "  <thead>\n",
       "    <tr style=\"text-align: right;\">\n",
       "      <th></th>\n",
       "      <th>Rank in states &amp; territories, 2019</th>\n",
       "      <th>Rank in states &amp; territories, 2010</th>\n",
       "      <th>State</th>\n",
       "      <th>Population estimate, July 1, 2019[2]</th>\n",
       "      <th>Census population, April 1, 2010[3]</th>\n",
       "      <th>Percent change, 2010–2019[note 1]</th>\n",
       "      <th>Absolute change, 2010-2019</th>\n",
       "      <th>Total seats in the U.S. House of Representatives, 2013–2023</th>\n",
       "      <th>Estimated population per electoral vote, 2019[note 2]</th>\n",
       "      <th>Estimated population per House seat, 2019</th>\n",
       "      <th>Census population per House seat, 2010</th>\n",
       "      <th>Percent of the total U.S. population, 2018[note 3]</th>\n",
       "    </tr>\n",
       "  </thead>\n",
       "  <tbody>\n",
       "    <tr>\n",
       "      <th>0</th>\n",
       "      <td>1</td>\n",
       "      <td>1</td>\n",
       "      <td>California</td>\n",
       "      <td>39,512,223</td>\n",
       "      <td>37,254,523</td>\n",
       "      <td>6.1%</td>\n",
       "      <td>+2,257,700</td>\n",
       "      <td>53</td>\n",
       "      <td>718,404</td>\n",
       "      <td>745,514</td>\n",
       "      <td>702,885</td>\n",
       "      <td>11.96%</td>\n",
       "    </tr>\n",
       "    <tr>\n",
       "      <th>1</th>\n",
       "      <td>2</td>\n",
       "      <td>2</td>\n",
       "      <td>Texas</td>\n",
       "      <td>28,995,881</td>\n",
       "      <td>25,145,561</td>\n",
       "      <td>15.3%</td>\n",
       "      <td>+3,850,320</td>\n",
       "      <td>36</td>\n",
       "      <td>763,050</td>\n",
       "      <td>805,441</td>\n",
       "      <td>698,503</td>\n",
       "      <td>8.68%</td>\n",
       "    </tr>\n",
       "    <tr>\n",
       "      <th>2</th>\n",
       "      <td>3</td>\n",
       "      <td>4</td>\n",
       "      <td>Florida</td>\n",
       "      <td>21,477,737</td>\n",
       "      <td>18,801,310</td>\n",
       "      <td>14.2%</td>\n",
       "      <td>+2,676,427</td>\n",
       "      <td>27</td>\n",
       "      <td>740,611</td>\n",
       "      <td>795,472</td>\n",
       "      <td>696,468</td>\n",
       "      <td>6.44%</td>\n",
       "    </tr>\n",
       "    <tr>\n",
       "      <th>3</th>\n",
       "      <td>4</td>\n",
       "      <td>3</td>\n",
       "      <td>New York</td>\n",
       "      <td>19,453,561</td>\n",
       "      <td>19,378,102</td>\n",
       "      <td>0.4%</td>\n",
       "      <td>+75,459</td>\n",
       "      <td>27</td>\n",
       "      <td>670,812</td>\n",
       "      <td>720,502</td>\n",
       "      <td>717,707</td>\n",
       "      <td>5.91%</td>\n",
       "    </tr>\n",
       "    <tr>\n",
       "      <th>4</th>\n",
       "      <td>5</td>\n",
       "      <td>6</td>\n",
       "      <td>Pennsylvania</td>\n",
       "      <td>12,801,989</td>\n",
       "      <td>12,702,379</td>\n",
       "      <td>0.8%</td>\n",
       "      <td>+99,610</td>\n",
       "      <td>18</td>\n",
       "      <td>640,099</td>\n",
       "      <td>711,222</td>\n",
       "      <td>705,715</td>\n",
       "      <td>3.87%</td>\n",
       "    </tr>\n",
       "  </tbody>\n",
       "</table>\n",
       "</div>"
      ],
      "text/plain": [
       "   Rank in states & territories, 2019  Rank in states & territories, 2010  \\\n",
       "0                                   1                                   1   \n",
       "1                                   2                                   2   \n",
       "2                                   3                                   4   \n",
       "3                                   4                                   3   \n",
       "4                                   5                                   6   \n",
       "\n",
       "          State Population estimate, July 1, 2019[2]  \\\n",
       "0    California                           39,512,223   \n",
       "1         Texas                           28,995,881   \n",
       "2       Florida                           21,477,737   \n",
       "3      New York                           19,453,561   \n",
       "4  Pennsylvania                           12,801,989   \n",
       "\n",
       "  Census population, April 1, 2010[3] Percent change, 2010–2019[note 1]  \\\n",
       "0                          37,254,523                              6.1%   \n",
       "1                          25,145,561                             15.3%   \n",
       "2                          18,801,310                             14.2%   \n",
       "3                          19,378,102                              0.4%   \n",
       "4                          12,702,379                              0.8%   \n",
       "\n",
       "  Absolute change, 2010-2019  \\\n",
       "0                 +2,257,700   \n",
       "1                 +3,850,320   \n",
       "2                 +2,676,427   \n",
       "3                    +75,459   \n",
       "4                    +99,610   \n",
       "\n",
       "  Total seats in the U.S. House of Representatives, 2013–2023  \\\n",
       "0                                                 53            \n",
       "1                                                 36            \n",
       "2                                                 27            \n",
       "3                                                 27            \n",
       "4                                                 18            \n",
       "\n",
       "  Estimated population per electoral vote, 2019[note 2]  \\\n",
       "0                                            718,404      \n",
       "1                                            763,050      \n",
       "2                                            740,611      \n",
       "3                                            670,812      \n",
       "4                                            640,099      \n",
       "\n",
       "  Estimated population per House seat, 2019  \\\n",
       "0                                   745,514   \n",
       "1                                   805,441   \n",
       "2                                   795,472   \n",
       "3                                   720,502   \n",
       "4                                   711,222   \n",
       "\n",
       "  Census population per House seat, 2010  \\\n",
       "0                                702,885   \n",
       "1                                698,503   \n",
       "2                                696,468   \n",
       "3                                717,707   \n",
       "4                                705,715   \n",
       "\n",
       "  Percent of the total U.S. population, 2018[note 3]  \n",
       "0                                             11.96%  \n",
       "1                                              8.68%  \n",
       "2                                              6.44%  \n",
       "3                                              5.91%  \n",
       "4                                              3.87%  "
      ]
     },
     "execution_count": 41,
     "metadata": {},
     "output_type": "execute_result"
    }
   ],
   "source": [
    "population_pd.head()"
   ]
  },
  {
   "cell_type": "markdown",
   "metadata": {},
   "source": [
    "Filter out the columns we don't need"
   ]
  },
  {
   "cell_type": "code",
   "execution_count": 42,
   "metadata": {},
   "outputs": [],
   "source": [
    "population_pd = population_pd[[\"State\", \"Percent of the total U.S. population, 2018[note 3]\"]]\n",
    "population_pd.columns=[\"State\", \"Percentage of total population\"]"
   ]
  },
  {
   "cell_type": "markdown",
   "metadata": {},
   "source": [
    "Replace the name of the state with the abbreviations we prepared eariler so we have homegeneous data."
   ]
  },
  {
   "cell_type": "code",
   "execution_count": 43,
   "metadata": {},
   "outputs": [],
   "source": [
    "population_pd[\"State\"] = population_pd[\"State\"].apply(lambda x: us_state_abbrev[x])"
   ]
  },
  {
   "cell_type": "code",
   "execution_count": 44,
   "metadata": {},
   "outputs": [],
   "source": [
    "population_pd[\"Percentage of total population\"] = population_pd[\"Percentage of total population\"].apply(lambda x: float(x[:-1])/100)"
   ]
  },
  {
   "cell_type": "code",
   "execution_count": 45,
   "metadata": {},
   "outputs": [
    {
     "data": {
      "text/html": [
       "<div>\n",
       "<style scoped>\n",
       "    .dataframe tbody tr th:only-of-type {\n",
       "        vertical-align: middle;\n",
       "    }\n",
       "\n",
       "    .dataframe tbody tr th {\n",
       "        vertical-align: top;\n",
       "    }\n",
       "\n",
       "    .dataframe thead th {\n",
       "        text-align: right;\n",
       "    }\n",
       "</style>\n",
       "<table border=\"1\" class=\"dataframe\">\n",
       "  <thead>\n",
       "    <tr style=\"text-align: right;\">\n",
       "      <th></th>\n",
       "      <th>State</th>\n",
       "      <th>Percentage of total population</th>\n",
       "    </tr>\n",
       "  </thead>\n",
       "  <tbody>\n",
       "    <tr>\n",
       "      <th>0</th>\n",
       "      <td>CA</td>\n",
       "      <td>0.1196</td>\n",
       "    </tr>\n",
       "    <tr>\n",
       "      <th>1</th>\n",
       "      <td>TX</td>\n",
       "      <td>0.0868</td>\n",
       "    </tr>\n",
       "    <tr>\n",
       "      <th>2</th>\n",
       "      <td>FL</td>\n",
       "      <td>0.0644</td>\n",
       "    </tr>\n",
       "    <tr>\n",
       "      <th>3</th>\n",
       "      <td>NY</td>\n",
       "      <td>0.0591</td>\n",
       "    </tr>\n",
       "    <tr>\n",
       "      <th>4</th>\n",
       "      <td>PA</td>\n",
       "      <td>0.0387</td>\n",
       "    </tr>\n",
       "  </tbody>\n",
       "</table>\n",
       "</div>"
      ],
      "text/plain": [
       "  State  Percentage of total population\n",
       "0    CA                          0.1196\n",
       "1    TX                          0.0868\n",
       "2    FL                          0.0644\n",
       "3    NY                          0.0591\n",
       "4    PA                          0.0387"
      ]
     },
     "execution_count": 45,
     "metadata": {},
     "output_type": "execute_result"
    }
   ],
   "source": [
    "population_pd.head()"
   ]
  },
  {
   "cell_type": "markdown",
   "metadata": {},
   "source": [
    "Finally save the data as a dictionary so that it is easy to access it."
   ]
  },
  {
   "cell_type": "code",
   "execution_count": 46,
   "metadata": {},
   "outputs": [],
   "source": [
    "#Save data as dictionary\n",
    "population_dict = population_pd.set_index('State').to_dict()['Percentage of total population']"
   ]
  },
  {
   "cell_type": "markdown",
   "metadata": {},
   "source": [
    "### Normalize for racial distribution in each state.\n",
    "\n",
    "We also want to normalize the data by the percentage of the race distribution in each state. As we were doing before, we want to be able to compare states with each other in terms of killings for each of the major racial groups. But it is had to compare a state such as Marruland that has a 30% Black population, with Colorado, that has 4% Black population. For this reason we will normalize the data once again by using the percentage of population of each race as a weight and multiply the numbers of deaths per each race in each state with these values. \n",
    "\n",
    "Data from: https://www.governing.com/gov-data/census/state-minority-population-data-estimates.html"
   ]
  },
  {
   "cell_type": "code",
   "execution_count": 47,
   "metadata": {},
   "outputs": [],
   "source": [
    "race_per_state_df = pd.read_excel('./datasets/race_distribution_per_state.xlsx')"
   ]
  },
  {
   "cell_type": "code",
   "execution_count": 50,
   "metadata": {},
   "outputs": [
    {
     "data": {
      "text/html": [
       "<div>\n",
       "<style scoped>\n",
       "    .dataframe tbody tr th:only-of-type {\n",
       "        vertical-align: middle;\n",
       "    }\n",
       "\n",
       "    .dataframe tbody tr th {\n",
       "        vertical-align: top;\n",
       "    }\n",
       "\n",
       "    .dataframe thead th {\n",
       "        text-align: right;\n",
       "    }\n",
       "</style>\n",
       "<table border=\"1\" class=\"dataframe\">\n",
       "  <thead>\n",
       "    <tr style=\"text-align: right;\">\n",
       "      <th></th>\n",
       "      <th>State</th>\n",
       "      <th>Hispanic (of any race)</th>\n",
       "      <th>Non-Hispanic White</th>\n",
       "      <th>Non-Hispanic Black</th>\n",
       "      <th>Non-Hispanic Asian</th>\n",
       "      <th>Non-Hispanic American Indian</th>\n",
       "    </tr>\n",
       "  </thead>\n",
       "  <tbody>\n",
       "    <tr>\n",
       "      <th>0</th>\n",
       "      <td>Alabama</td>\n",
       "      <td>0.041</td>\n",
       "      <td>0.655</td>\n",
       "      <td>0.267</td>\n",
       "      <td>0.013</td>\n",
       "      <td>0.005</td>\n",
       "    </tr>\n",
       "    <tr>\n",
       "      <th>1</th>\n",
       "      <td>Alaska</td>\n",
       "      <td>0.070</td>\n",
       "      <td>0.606</td>\n",
       "      <td>0.029</td>\n",
       "      <td>0.066</td>\n",
       "      <td>0.142</td>\n",
       "    </tr>\n",
       "    <tr>\n",
       "      <th>2</th>\n",
       "      <td>Arizona</td>\n",
       "      <td>0.314</td>\n",
       "      <td>0.547</td>\n",
       "      <td>0.041</td>\n",
       "      <td>0.032</td>\n",
       "      <td>0.039</td>\n",
       "    </tr>\n",
       "    <tr>\n",
       "      <th>3</th>\n",
       "      <td>Arkansas</td>\n",
       "      <td>0.074</td>\n",
       "      <td>0.723</td>\n",
       "      <td>0.152</td>\n",
       "      <td>0.016</td>\n",
       "      <td>0.006</td>\n",
       "    </tr>\n",
       "    <tr>\n",
       "      <th>4</th>\n",
       "      <td>California</td>\n",
       "      <td>0.391</td>\n",
       "      <td>0.370</td>\n",
       "      <td>0.055</td>\n",
       "      <td>0.144</td>\n",
       "      <td>0.004</td>\n",
       "    </tr>\n",
       "  </tbody>\n",
       "</table>\n",
       "</div>"
      ],
      "text/plain": [
       "        State  Hispanic (of any race)  Non-Hispanic White  Non-Hispanic Black  \\\n",
       "0     Alabama                   0.041               0.655               0.267   \n",
       "1      Alaska                   0.070               0.606               0.029   \n",
       "2     Arizona                   0.314               0.547               0.041   \n",
       "3    Arkansas                   0.074               0.723               0.152   \n",
       "4  California                   0.391               0.370               0.055   \n",
       "\n",
       "   Non-Hispanic Asian  Non-Hispanic American Indian  \n",
       "0               0.013                         0.005  \n",
       "1               0.066                         0.142  \n",
       "2               0.032                         0.039  \n",
       "3               0.016                         0.006  \n",
       "4               0.144                         0.004  "
      ]
     },
     "execution_count": 50,
     "metadata": {},
     "output_type": "execute_result"
    }
   ],
   "source": [
    "race_per_state_df.head()"
   ]
  },
  {
   "cell_type": "code",
   "execution_count": 51,
   "metadata": {},
   "outputs": [],
   "source": [
    "race_per_state_df[\"Other\"]=race_per_state_df[\"Non-Hispanic Asian\"]+ race_per_state_df[\"Non-Hispanic American Indian\"]"
   ]
  },
  {
   "cell_type": "markdown",
   "metadata": {},
   "source": [
    "Let's keep only the 3 races we are interested in."
   ]
  },
  {
   "cell_type": "code",
   "execution_count": 52,
   "metadata": {},
   "outputs": [],
   "source": [
    "race_per_state_df.drop(columns=[\"Non-Hispanic Asian\",\"Non-Hispanic American Indian\" ], inplace=True)\n",
    "race_per_state_df.columns=['State', 'Hispanic','White', 'Black', 'Other']"
   ]
  },
  {
   "cell_type": "markdown",
   "metadata": {},
   "source": [
    "Once again replace the name of the states, with the abbreviations we have prepared"
   ]
  },
  {
   "cell_type": "code",
   "execution_count": 53,
   "metadata": {},
   "outputs": [],
   "source": [
    "race_per_state_df.State = race_per_state_df.State.apply(lambda x: us_state_abbrev[x])"
   ]
  },
  {
   "cell_type": "code",
   "execution_count": 54,
   "metadata": {},
   "outputs": [
    {
     "data": {
      "text/html": [
       "<div>\n",
       "<style scoped>\n",
       "    .dataframe tbody tr th:only-of-type {\n",
       "        vertical-align: middle;\n",
       "    }\n",
       "\n",
       "    .dataframe tbody tr th {\n",
       "        vertical-align: top;\n",
       "    }\n",
       "\n",
       "    .dataframe thead th {\n",
       "        text-align: right;\n",
       "    }\n",
       "</style>\n",
       "<table border=\"1\" class=\"dataframe\">\n",
       "  <thead>\n",
       "    <tr style=\"text-align: right;\">\n",
       "      <th></th>\n",
       "      <th>State</th>\n",
       "      <th>Hispanic</th>\n",
       "      <th>White</th>\n",
       "      <th>Black</th>\n",
       "      <th>Other</th>\n",
       "    </tr>\n",
       "  </thead>\n",
       "  <tbody>\n",
       "    <tr>\n",
       "      <th>0</th>\n",
       "      <td>AL</td>\n",
       "      <td>0.041</td>\n",
       "      <td>0.655</td>\n",
       "      <td>0.267</td>\n",
       "      <td>0.018</td>\n",
       "    </tr>\n",
       "    <tr>\n",
       "      <th>1</th>\n",
       "      <td>AK</td>\n",
       "      <td>0.070</td>\n",
       "      <td>0.606</td>\n",
       "      <td>0.029</td>\n",
       "      <td>0.208</td>\n",
       "    </tr>\n",
       "    <tr>\n",
       "      <th>2</th>\n",
       "      <td>AZ</td>\n",
       "      <td>0.314</td>\n",
       "      <td>0.547</td>\n",
       "      <td>0.041</td>\n",
       "      <td>0.071</td>\n",
       "    </tr>\n",
       "    <tr>\n",
       "      <th>3</th>\n",
       "      <td>AR</td>\n",
       "      <td>0.074</td>\n",
       "      <td>0.723</td>\n",
       "      <td>0.152</td>\n",
       "      <td>0.022</td>\n",
       "    </tr>\n",
       "    <tr>\n",
       "      <th>4</th>\n",
       "      <td>CA</td>\n",
       "      <td>0.391</td>\n",
       "      <td>0.370</td>\n",
       "      <td>0.055</td>\n",
       "      <td>0.148</td>\n",
       "    </tr>\n",
       "  </tbody>\n",
       "</table>\n",
       "</div>"
      ],
      "text/plain": [
       "  State  Hispanic  White  Black  Other\n",
       "0    AL     0.041  0.655  0.267  0.018\n",
       "1    AK     0.070  0.606  0.029  0.208\n",
       "2    AZ     0.314  0.547  0.041  0.071\n",
       "3    AR     0.074  0.723  0.152  0.022\n",
       "4    CA     0.391  0.370  0.055  0.148"
      ]
     },
     "execution_count": 54,
     "metadata": {},
     "output_type": "execute_result"
    }
   ],
   "source": [
    "race_per_state_df.head()"
   ]
  },
  {
   "cell_type": "markdown",
   "metadata": {},
   "source": [
    "We have finally prepared a fully normalized dataframe of the distribution of population in the US. We have normalized both the total population per state, as well as the racial distribution per state. This dataframe will be used below, combined with the police violence data."
   ]
  },
  {
   "cell_type": "markdown",
   "metadata": {},
   "source": [
    "## Load, clean and prepare the police killing data"
   ]
  },
  {
   "cell_type": "code",
   "execution_count": 60,
   "metadata": {},
   "outputs": [],
   "source": [
    "killing_df = pd.read_excel('./datasets/MPVDatasetDownload.xlsx')"
   ]
  },
  {
   "cell_type": "code",
   "execution_count": 61,
   "metadata": {},
   "outputs": [
    {
     "data": {
      "text/html": [
       "<div>\n",
       "<style scoped>\n",
       "    .dataframe tbody tr th:only-of-type {\n",
       "        vertical-align: middle;\n",
       "    }\n",
       "\n",
       "    .dataframe tbody tr th {\n",
       "        vertical-align: top;\n",
       "    }\n",
       "\n",
       "    .dataframe thead th {\n",
       "        text-align: right;\n",
       "    }\n",
       "</style>\n",
       "<table border=\"1\" class=\"dataframe\">\n",
       "  <thead>\n",
       "    <tr style=\"text-align: right;\">\n",
       "      <th></th>\n",
       "      <th>Victim's name</th>\n",
       "      <th>Victim's age</th>\n",
       "      <th>Victim's gender</th>\n",
       "      <th>Victim's race</th>\n",
       "      <th>URL of image of victim</th>\n",
       "      <th>Date of Incident (month/day/year)</th>\n",
       "      <th>Street Address of Incident</th>\n",
       "      <th>City</th>\n",
       "      <th>State</th>\n",
       "      <th>Zipcode</th>\n",
       "      <th>...</th>\n",
       "      <th>Unarmed/Did Not Have an Actual Weapon</th>\n",
       "      <th>Alleged Weapon (Source: WaPo and Review of Cases Not Included in WaPo Database)</th>\n",
       "      <th>Alleged Threat Level (Source: WaPo)</th>\n",
       "      <th>Fleeing (Source: WaPo)</th>\n",
       "      <th>Body Camera (Source: WaPo)</th>\n",
       "      <th>WaPo ID (If included in WaPo database)</th>\n",
       "      <th>Off-Duty Killing?</th>\n",
       "      <th>Geography (via Trulia methodology based on zipcode population density: http://jedkolko.com/wp-content/uploads/2015/05/full-ZCTA-urban-suburban-rural-classification.xlsx )</th>\n",
       "      <th>MPV ID</th>\n",
       "      <th>Fatal Encounters ID</th>\n",
       "    </tr>\n",
       "  </thead>\n",
       "  <tbody>\n",
       "    <tr>\n",
       "      <th>0</th>\n",
       "      <td>Pedro Martinez</td>\n",
       "      <td>66</td>\n",
       "      <td>Male</td>\n",
       "      <td>Hispanic</td>\n",
       "      <td>NaN</td>\n",
       "      <td>2020-11-18</td>\n",
       "      <td>NaN</td>\n",
       "      <td>Tyler</td>\n",
       "      <td>TX</td>\n",
       "      <td>NaN</td>\n",
       "      <td>...</td>\n",
       "      <td>Allegedly Armed</td>\n",
       "      <td>unknown weapon</td>\n",
       "      <td>other</td>\n",
       "      <td>not fleeing</td>\n",
       "      <td>no</td>\n",
       "      <td>6321.0</td>\n",
       "      <td>NaN</td>\n",
       "      <td>NaN</td>\n",
       "      <td>NaN</td>\n",
       "      <td>NaN</td>\n",
       "    </tr>\n",
       "    <tr>\n",
       "      <th>1</th>\n",
       "      <td>James Horton</td>\n",
       "      <td>42</td>\n",
       "      <td>Male</td>\n",
       "      <td>NaN</td>\n",
       "      <td>NaN</td>\n",
       "      <td>2020-11-17</td>\n",
       "      <td>NaN</td>\n",
       "      <td>Hart County</td>\n",
       "      <td>KY</td>\n",
       "      <td>NaN</td>\n",
       "      <td>...</td>\n",
       "      <td>Allegedly Armed</td>\n",
       "      <td>gun</td>\n",
       "      <td>attack</td>\n",
       "      <td>other</td>\n",
       "      <td>no</td>\n",
       "      <td>6322.0</td>\n",
       "      <td>NaN</td>\n",
       "      <td>NaN</td>\n",
       "      <td>NaN</td>\n",
       "      <td>NaN</td>\n",
       "    </tr>\n",
       "    <tr>\n",
       "      <th>2</th>\n",
       "      <td>Dustin James Acosta</td>\n",
       "      <td>28</td>\n",
       "      <td>Male</td>\n",
       "      <td>White</td>\n",
       "      <td>NaN</td>\n",
       "      <td>2020-11-17</td>\n",
       "      <td>NaN</td>\n",
       "      <td>St. Augustine</td>\n",
       "      <td>FL</td>\n",
       "      <td>NaN</td>\n",
       "      <td>...</td>\n",
       "      <td>Allegedly Armed</td>\n",
       "      <td>gun</td>\n",
       "      <td>attack</td>\n",
       "      <td>NaN</td>\n",
       "      <td>No</td>\n",
       "      <td>6320.0</td>\n",
       "      <td>NaN</td>\n",
       "      <td>NaN</td>\n",
       "      <td>NaN</td>\n",
       "      <td>NaN</td>\n",
       "    </tr>\n",
       "    <tr>\n",
       "      <th>3</th>\n",
       "      <td>Javon Brice</td>\n",
       "      <td>39</td>\n",
       "      <td>Male</td>\n",
       "      <td>NaN</td>\n",
       "      <td>NaN</td>\n",
       "      <td>2020-11-17</td>\n",
       "      <td>NaN</td>\n",
       "      <td>La Vergne</td>\n",
       "      <td>TN</td>\n",
       "      <td>NaN</td>\n",
       "      <td>...</td>\n",
       "      <td>Allegedly Armed</td>\n",
       "      <td>gun</td>\n",
       "      <td>attack</td>\n",
       "      <td>car</td>\n",
       "      <td>no</td>\n",
       "      <td>6319.0</td>\n",
       "      <td>NaN</td>\n",
       "      <td>NaN</td>\n",
       "      <td>NaN</td>\n",
       "      <td>NaN</td>\n",
       "    </tr>\n",
       "    <tr>\n",
       "      <th>4</th>\n",
       "      <td>Joshua D. Evans</td>\n",
       "      <td>32</td>\n",
       "      <td>Male</td>\n",
       "      <td>NaN</td>\n",
       "      <td>NaN</td>\n",
       "      <td>2020-11-16</td>\n",
       "      <td>NaN</td>\n",
       "      <td>Batesville</td>\n",
       "      <td>IN</td>\n",
       "      <td>NaN</td>\n",
       "      <td>...</td>\n",
       "      <td>Allegedly Armed</td>\n",
       "      <td>gun</td>\n",
       "      <td>attack</td>\n",
       "      <td>not fleeing</td>\n",
       "      <td>no</td>\n",
       "      <td>6314.0</td>\n",
       "      <td>NaN</td>\n",
       "      <td>NaN</td>\n",
       "      <td>NaN</td>\n",
       "      <td>NaN</td>\n",
       "    </tr>\n",
       "  </tbody>\n",
       "</table>\n",
       "<p>5 rows × 29 columns</p>\n",
       "</div>"
      ],
      "text/plain": [
       "         Victim's name Victim's age Victim's gender Victim's race  \\\n",
       "0       Pedro Martinez           66            Male      Hispanic   \n",
       "1         James Horton           42            Male           NaN   \n",
       "2  Dustin James Acosta           28            Male         White   \n",
       "3          Javon Brice           39            Male           NaN   \n",
       "4      Joshua D. Evans           32            Male           NaN   \n",
       "\n",
       "  URL of image of victim Date of Incident (month/day/year)  \\\n",
       "0                    NaN                        2020-11-18   \n",
       "1                    NaN                        2020-11-17   \n",
       "2                    NaN                        2020-11-17   \n",
       "3                    NaN                        2020-11-17   \n",
       "4                    NaN                        2020-11-16   \n",
       "\n",
       "  Street Address of Incident           City State  Zipcode  ...  \\\n",
       "0                        NaN         Tyler     TX      NaN  ...   \n",
       "1                        NaN    Hart County    KY      NaN  ...   \n",
       "2                        NaN  St. Augustine    FL      NaN  ...   \n",
       "3                        NaN      La Vergne    TN      NaN  ...   \n",
       "4                        NaN     Batesville    IN      NaN  ...   \n",
       "\n",
       "  Unarmed/Did Not Have an Actual Weapon  \\\n",
       "0                       Allegedly Armed   \n",
       "1                       Allegedly Armed   \n",
       "2                       Allegedly Armed   \n",
       "3                       Allegedly Armed   \n",
       "4                       Allegedly Armed   \n",
       "\n",
       "  Alleged Weapon (Source: WaPo and Review of Cases Not Included in WaPo Database)  \\\n",
       "0                                     unknown weapon                                \n",
       "1                                                gun                                \n",
       "2                                                gun                                \n",
       "3                                                gun                                \n",
       "4                                                gun                                \n",
       "\n",
       "  Alleged Threat Level (Source: WaPo) Fleeing (Source: WaPo)  \\\n",
       "0                               other            not fleeing   \n",
       "1                              attack                  other   \n",
       "2                              attack                    NaN   \n",
       "3                              attack                    car   \n",
       "4                              attack            not fleeing   \n",
       "\n",
       "  Body Camera (Source: WaPo) WaPo ID (If included in WaPo database)  \\\n",
       "0                         no                                 6321.0   \n",
       "1                         no                                 6322.0   \n",
       "2                         No                                 6320.0   \n",
       "3                         no                                 6319.0   \n",
       "4                         no                                 6314.0   \n",
       "\n",
       "  Off-Duty Killing?  \\\n",
       "0               NaN   \n",
       "1               NaN   \n",
       "2               NaN   \n",
       "3               NaN   \n",
       "4               NaN   \n",
       "\n",
       "  Geography (via Trulia methodology based on zipcode population density: http://jedkolko.com/wp-content/uploads/2015/05/full-ZCTA-urban-suburban-rural-classification.xlsx )  \\\n",
       "0                                                NaN                                                                                                                           \n",
       "1                                                NaN                                                                                                                           \n",
       "2                                                NaN                                                                                                                           \n",
       "3                                                NaN                                                                                                                           \n",
       "4                                                NaN                                                                                                                           \n",
       "\n",
       "  MPV ID Fatal Encounters ID  \n",
       "0    NaN                 NaN  \n",
       "1    NaN                 NaN  \n",
       "2    NaN                 NaN  \n",
       "3    NaN                 NaN  \n",
       "4    NaN                 NaN  \n",
       "\n",
       "[5 rows x 29 columns]"
      ]
     },
     "execution_count": 61,
     "metadata": {},
     "output_type": "execute_result"
    }
   ],
   "source": [
    "killing_df.head()"
   ]
  },
  {
   "cell_type": "markdown",
   "metadata": {},
   "source": [
    "Keep only the columns we are interested in"
   ]
  },
  {
   "cell_type": "code",
   "execution_count": 62,
   "metadata": {},
   "outputs": [],
   "source": [
    "killing_df = killing_df[[\"Victim's race\", \"State\", \"Date of Incident (month/day/year)\"]]\n",
    "killing_df.columns=[\"Race\", \"State\", \"Date\"]\n",
    "\n",
    "killing_df = killing_df.dropna()\n",
    "\n",
    "killing_df[\"Date\"] = pd.to_datetime(killing_df[\"Date\"]).apply(lambda x: x.year)"
   ]
  },
  {
   "cell_type": "markdown",
   "metadata": {},
   "source": [
    "Let's filter out all the races we are not interested in"
   ]
  },
  {
   "cell_type": "code",
   "execution_count": 63,
   "metadata": {},
   "outputs": [],
   "source": [
    "def other_race(race):\n",
    "    if(race not in [\"White\", \"Black\", \"Hispanic\"]):\n",
    "        return \"Other\"\n",
    "    return race"
   ]
  },
  {
   "cell_type": "code",
   "execution_count": 64,
   "metadata": {},
   "outputs": [],
   "source": [
    "killing_df.Race = killing_df.Race.apply(lambda x: other_race(x))"
   ]
  },
  {
   "cell_type": "code",
   "execution_count": 65,
   "metadata": {},
   "outputs": [
    {
     "data": {
      "text/plain": [
       "White       3769\n",
       "Black       2158\n",
       "Hispanic    1482\n",
       "Other       1208\n",
       "Name: Race, dtype: int64"
      ]
     },
     "execution_count": 65,
     "metadata": {},
     "output_type": "execute_result"
    }
   ],
   "source": [
    "killing_df.Race.value_counts()"
   ]
  },
  {
   "cell_type": "code",
   "execution_count": 66,
   "metadata": {},
   "outputs": [
    {
     "data": {
      "text/html": [
       "<div>\n",
       "<style scoped>\n",
       "    .dataframe tbody tr th:only-of-type {\n",
       "        vertical-align: middle;\n",
       "    }\n",
       "\n",
       "    .dataframe tbody tr th {\n",
       "        vertical-align: top;\n",
       "    }\n",
       "\n",
       "    .dataframe thead th {\n",
       "        text-align: right;\n",
       "    }\n",
       "</style>\n",
       "<table border=\"1\" class=\"dataframe\">\n",
       "  <thead>\n",
       "    <tr style=\"text-align: right;\">\n",
       "      <th></th>\n",
       "      <th>Race</th>\n",
       "      <th>State</th>\n",
       "      <th>Date</th>\n",
       "    </tr>\n",
       "  </thead>\n",
       "  <tbody>\n",
       "    <tr>\n",
       "      <th>0</th>\n",
       "      <td>Hispanic</td>\n",
       "      <td>TX</td>\n",
       "      <td>2020</td>\n",
       "    </tr>\n",
       "    <tr>\n",
       "      <th>2</th>\n",
       "      <td>White</td>\n",
       "      <td>FL</td>\n",
       "      <td>2020</td>\n",
       "    </tr>\n",
       "    <tr>\n",
       "      <th>7</th>\n",
       "      <td>White</td>\n",
       "      <td>NH</td>\n",
       "      <td>2020</td>\n",
       "    </tr>\n",
       "    <tr>\n",
       "      <th>8</th>\n",
       "      <td>Hispanic</td>\n",
       "      <td>CA</td>\n",
       "      <td>2020</td>\n",
       "    </tr>\n",
       "    <tr>\n",
       "      <th>9</th>\n",
       "      <td>Other</td>\n",
       "      <td>TX</td>\n",
       "      <td>2020</td>\n",
       "    </tr>\n",
       "  </tbody>\n",
       "</table>\n",
       "</div>"
      ],
      "text/plain": [
       "       Race State  Date\n",
       "0  Hispanic    TX  2020\n",
       "2     White    FL  2020\n",
       "7     White    NH  2020\n",
       "8  Hispanic    CA  2020\n",
       "9     Other    TX  2020"
      ]
     },
     "execution_count": 66,
     "metadata": {},
     "output_type": "execute_result"
    }
   ],
   "source": [
    "killing_df.head()"
   ]
  },
  {
   "cell_type": "markdown",
   "metadata": {},
   "source": [
    "Great! Now let's compute the averege number of police killings for each race and each state, for the last 8 years."
   ]
  },
  {
   "cell_type": "code",
   "execution_count": 69,
   "metadata": {},
   "outputs": [],
   "source": [
    "killings_per_state =killing_df.groupby(by=[ 'State', 'Race']).size()/(2020-2013+1) #GET AVG killings through the years\n",
    "killings_per_state = killings_per_state.to_frame()\n",
    "killings_per_state.reset_index(inplace=True)\n",
    "killings_per_state.set_index('State', inplace=True)\n",
    "killings_per_state.columns = ['Race', 'Deaths']\n",
    "killings_per_state.reset_index(inplace=True)"
   ]
  },
  {
   "cell_type": "code",
   "execution_count": 71,
   "metadata": {},
   "outputs": [
    {
     "data": {
      "text/html": [
       "<div>\n",
       "<style scoped>\n",
       "    .dataframe tbody tr th:only-of-type {\n",
       "        vertical-align: middle;\n",
       "    }\n",
       "\n",
       "    .dataframe tbody tr th {\n",
       "        vertical-align: top;\n",
       "    }\n",
       "\n",
       "    .dataframe thead th {\n",
       "        text-align: right;\n",
       "    }\n",
       "</style>\n",
       "<table border=\"1\" class=\"dataframe\">\n",
       "  <thead>\n",
       "    <tr style=\"text-align: right;\">\n",
       "      <th></th>\n",
       "      <th>State</th>\n",
       "      <th>Race</th>\n",
       "      <th>Deaths</th>\n",
       "    </tr>\n",
       "  </thead>\n",
       "  <tbody>\n",
       "    <tr>\n",
       "      <th>0</th>\n",
       "      <td>AK</td>\n",
       "      <td>Black</td>\n",
       "      <td>0.500</td>\n",
       "    </tr>\n",
       "    <tr>\n",
       "      <th>1</th>\n",
       "      <td>AK</td>\n",
       "      <td>Hispanic</td>\n",
       "      <td>0.125</td>\n",
       "    </tr>\n",
       "    <tr>\n",
       "      <th>2</th>\n",
       "      <td>AK</td>\n",
       "      <td>Other</td>\n",
       "      <td>2.500</td>\n",
       "    </tr>\n",
       "    <tr>\n",
       "      <th>3</th>\n",
       "      <td>AK</td>\n",
       "      <td>White</td>\n",
       "      <td>2.875</td>\n",
       "    </tr>\n",
       "    <tr>\n",
       "      <th>4</th>\n",
       "      <td>AL</td>\n",
       "      <td>Black</td>\n",
       "      <td>7.250</td>\n",
       "    </tr>\n",
       "  </tbody>\n",
       "</table>\n",
       "</div>"
      ],
      "text/plain": [
       "  State      Race  Deaths\n",
       "0    AK     Black   0.500\n",
       "1    AK  Hispanic   0.125\n",
       "2    AK     Other   2.500\n",
       "3    AK     White   2.875\n",
       "4    AL     Black   7.250"
      ]
     },
     "execution_count": 71,
     "metadata": {},
     "output_type": "execute_result"
    }
   ],
   "source": [
    "killings_per_state.head()\n"
   ]
  },
  {
   "cell_type": "code",
   "execution_count": 72,
   "metadata": {},
   "outputs": [],
   "source": [
    "#Normalize deaths by state population\n",
    "killings_per_state[\"Deaths\"] = killings_per_state.apply(lambda x: x.Deaths * population_dict[x.State], axis=1)"
   ]
  },
  {
   "cell_type": "code",
   "execution_count": 73,
   "metadata": {},
   "outputs": [
    {
     "data": {
      "text/html": [
       "<div>\n",
       "<style scoped>\n",
       "    .dataframe tbody tr th:only-of-type {\n",
       "        vertical-align: middle;\n",
       "    }\n",
       "\n",
       "    .dataframe tbody tr th {\n",
       "        vertical-align: top;\n",
       "    }\n",
       "\n",
       "    .dataframe thead th {\n",
       "        text-align: right;\n",
       "    }\n",
       "</style>\n",
       "<table border=\"1\" class=\"dataframe\">\n",
       "  <thead>\n",
       "    <tr style=\"text-align: right;\">\n",
       "      <th></th>\n",
       "      <th>State</th>\n",
       "      <th>Race</th>\n",
       "      <th>Deaths</th>\n",
       "    </tr>\n",
       "  </thead>\n",
       "  <tbody>\n",
       "    <tr>\n",
       "      <th>0</th>\n",
       "      <td>AK</td>\n",
       "      <td>Black</td>\n",
       "      <td>0.001100</td>\n",
       "    </tr>\n",
       "    <tr>\n",
       "      <th>1</th>\n",
       "      <td>AK</td>\n",
       "      <td>Hispanic</td>\n",
       "      <td>0.000275</td>\n",
       "    </tr>\n",
       "    <tr>\n",
       "      <th>2</th>\n",
       "      <td>AK</td>\n",
       "      <td>Other</td>\n",
       "      <td>0.005500</td>\n",
       "    </tr>\n",
       "    <tr>\n",
       "      <th>3</th>\n",
       "      <td>AK</td>\n",
       "      <td>White</td>\n",
       "      <td>0.006325</td>\n",
       "    </tr>\n",
       "    <tr>\n",
       "      <th>4</th>\n",
       "      <td>AL</td>\n",
       "      <td>Black</td>\n",
       "      <td>0.107300</td>\n",
       "    </tr>\n",
       "  </tbody>\n",
       "</table>\n",
       "</div>"
      ],
      "text/plain": [
       "  State      Race    Deaths\n",
       "0    AK     Black  0.001100\n",
       "1    AK  Hispanic  0.000275\n",
       "2    AK     Other  0.005500\n",
       "3    AK     White  0.006325\n",
       "4    AL     Black  0.107300"
      ]
     },
     "execution_count": 73,
     "metadata": {},
     "output_type": "execute_result"
    }
   ],
   "source": [
    "killings_per_state.head()"
   ]
  },
  {
   "cell_type": "code",
   "execution_count": 74,
   "metadata": {},
   "outputs": [],
   "source": [
    "killings_per_state = pd.pivot_table(killings_per_state, index=\"State\",columns=['Race'])\n",
    "killings_per_state = killings_per_state.fillna(0) #Fill data about missing races\n",
    "\n",
    "killings_per_state.columns = killings_per_state.columns.droplevel()"
   ]
  },
  {
   "cell_type": "code",
   "execution_count": 75,
   "metadata": {},
   "outputs": [
    {
     "data": {
      "text/html": [
       "<div>\n",
       "<style scoped>\n",
       "    .dataframe tbody tr th:only-of-type {\n",
       "        vertical-align: middle;\n",
       "    }\n",
       "\n",
       "    .dataframe tbody tr th {\n",
       "        vertical-align: top;\n",
       "    }\n",
       "\n",
       "    .dataframe thead th {\n",
       "        text-align: right;\n",
       "    }\n",
       "</style>\n",
       "<table border=\"1\" class=\"dataframe\">\n",
       "  <thead>\n",
       "    <tr style=\"text-align: right;\">\n",
       "      <th>Race</th>\n",
       "      <th>Black</th>\n",
       "      <th>Hispanic</th>\n",
       "      <th>Other</th>\n",
       "      <th>White</th>\n",
       "    </tr>\n",
       "    <tr>\n",
       "      <th>State</th>\n",
       "      <th></th>\n",
       "      <th></th>\n",
       "      <th></th>\n",
       "      <th></th>\n",
       "    </tr>\n",
       "  </thead>\n",
       "  <tbody>\n",
       "    <tr>\n",
       "      <th>AK</th>\n",
       "      <td>0.001100</td>\n",
       "      <td>0.000275</td>\n",
       "      <td>0.00550</td>\n",
       "      <td>0.006325</td>\n",
       "    </tr>\n",
       "    <tr>\n",
       "      <th>AL</th>\n",
       "      <td>0.107300</td>\n",
       "      <td>0.001850</td>\n",
       "      <td>0.02405</td>\n",
       "      <td>0.151700</td>\n",
       "    </tr>\n",
       "    <tr>\n",
       "      <th>AR</th>\n",
       "      <td>0.039813</td>\n",
       "      <td>0.003413</td>\n",
       "      <td>0.01365</td>\n",
       "      <td>0.076213</td>\n",
       "    </tr>\n",
       "    <tr>\n",
       "      <th>AZ</th>\n",
       "      <td>0.089513</td>\n",
       "      <td>0.363475</td>\n",
       "      <td>0.17360</td>\n",
       "      <td>0.415013</td>\n",
       "    </tr>\n",
       "    <tr>\n",
       "      <th>CA</th>\n",
       "      <td>3.034850</td>\n",
       "      <td>7.998250</td>\n",
       "      <td>3.31890</td>\n",
       "      <td>5.486650</td>\n",
       "    </tr>\n",
       "  </tbody>\n",
       "</table>\n",
       "</div>"
      ],
      "text/plain": [
       "Race      Black  Hispanic    Other     White\n",
       "State                                       \n",
       "AK     0.001100  0.000275  0.00550  0.006325\n",
       "AL     0.107300  0.001850  0.02405  0.151700\n",
       "AR     0.039813  0.003413  0.01365  0.076213\n",
       "AZ     0.089513  0.363475  0.17360  0.415013\n",
       "CA     3.034850  7.998250  3.31890  5.486650"
      ]
     },
     "execution_count": 75,
     "metadata": {},
     "output_type": "execute_result"
    }
   ],
   "source": [
    "killings_per_state.head()"
   ]
  },
  {
   "cell_type": "code",
   "execution_count": 76,
   "metadata": {},
   "outputs": [
    {
     "data": {
      "text/plain": [
       "Index(['Black', 'Hispanic', 'Other', 'White'], dtype='object', name='Race')"
      ]
     },
     "execution_count": 76,
     "metadata": {},
     "output_type": "execute_result"
    }
   ],
   "source": [
    "killings_per_state.columns"
   ]
  },
  {
   "cell_type": "code",
   "execution_count": 77,
   "metadata": {},
   "outputs": [
    {
     "data": {
      "text/plain": [
       "1    0.606\n",
       "Name: White, dtype: float64"
      ]
     },
     "execution_count": 77,
     "metadata": {},
     "output_type": "execute_result"
    }
   ],
   "source": [
    "race_per_state_df[race_per_state_df[\"State\"]=='AK'][\"White\"]"
   ]
  },
  {
   "cell_type": "code",
   "execution_count": 78,
   "metadata": {},
   "outputs": [],
   "source": [
    "def normalize_per_race_density(row):\n",
    "\n",
    "\n",
    "    row.Black = row.Black * race_per_state_df[race_per_state_df[\"State\"]==row.name][\"Black\"]\n",
    "    row.White = row.White * race_per_state_df[race_per_state_df[\"State\"]==row.name][\"White\"]\n",
    "    row.Hispanic = row.Hispanic * race_per_state_df[race_per_state_df[\"State\"]==row.name][\"Hispanic\"]\n",
    "    row.Other = row.Other * race_per_state_df[race_per_state_df[\"State\"]==row.name][\"Other\"]\n",
    "  \n",
    "    return row"
   ]
  },
  {
   "cell_type": "code",
   "execution_count": 79,
   "metadata": {},
   "outputs": [],
   "source": [
    "killings_per_state_normalized = killings_per_state.apply(lambda x: normalize_per_race_density(x), axis=1)"
   ]
  },
  {
   "cell_type": "code",
   "execution_count": 81,
   "metadata": {},
   "outputs": [
    {
     "data": {
      "text/html": [
       "<div>\n",
       "<style scoped>\n",
       "    .dataframe tbody tr th:only-of-type {\n",
       "        vertical-align: middle;\n",
       "    }\n",
       "\n",
       "    .dataframe tbody tr th {\n",
       "        vertical-align: top;\n",
       "    }\n",
       "\n",
       "    .dataframe thead th {\n",
       "        text-align: right;\n",
       "    }\n",
       "</style>\n",
       "<table border=\"1\" class=\"dataframe\">\n",
       "  <thead>\n",
       "    <tr style=\"text-align: right;\">\n",
       "      <th>Race</th>\n",
       "      <th>Black</th>\n",
       "      <th>Hispanic</th>\n",
       "      <th>Other</th>\n",
       "      <th>White</th>\n",
       "    </tr>\n",
       "    <tr>\n",
       "      <th>State</th>\n",
       "      <th></th>\n",
       "      <th></th>\n",
       "      <th></th>\n",
       "      <th></th>\n",
       "    </tr>\n",
       "  </thead>\n",
       "  <tbody>\n",
       "    <tr>\n",
       "      <th>CA</th>\n",
       "      <td>0.166917</td>\n",
       "      <td>3.127316</td>\n",
       "      <td>0.491197</td>\n",
       "      <td>2.030061</td>\n",
       "    </tr>\n",
       "    <tr>\n",
       "      <th>TX</th>\n",
       "      <td>0.227893</td>\n",
       "      <td>1.034526</td>\n",
       "      <td>0.052015</td>\n",
       "      <td>1.263830</td>\n",
       "    </tr>\n",
       "    <tr>\n",
       "      <th>FL</th>\n",
       "      <td>0.238022</td>\n",
       "      <td>0.173107</td>\n",
       "      <td>0.017629</td>\n",
       "      <td>1.208321</td>\n",
       "    </tr>\n",
       "    <tr>\n",
       "      <th>OH</th>\n",
       "      <td>0.047373</td>\n",
       "      <td>0.000327</td>\n",
       "      <td>0.001800</td>\n",
       "      <td>0.428220</td>\n",
       "    </tr>\n",
       "    <tr>\n",
       "      <th>GA</th>\n",
       "      <td>0.145875</td>\n",
       "      <td>0.005342</td>\n",
       "      <td>0.008149</td>\n",
       "      <td>0.250902</td>\n",
       "    </tr>\n",
       "  </tbody>\n",
       "</table>\n",
       "</div>"
      ],
      "text/plain": [
       "Race      Black  Hispanic     Other     White\n",
       "State                                        \n",
       "CA     0.166917  3.127316  0.491197  2.030061\n",
       "TX     0.227893  1.034526  0.052015  1.263830\n",
       "FL     0.238022  0.173107  0.017629  1.208321\n",
       "OH     0.047373  0.000327  0.001800  0.428220\n",
       "GA     0.145875  0.005342  0.008149  0.250902"
      ]
     },
     "execution_count": 81,
     "metadata": {},
     "output_type": "execute_result"
    }
   ],
   "source": [
    "killings_per_state_normalized.head()"
   ]
  },
  {
   "cell_type": "markdown",
   "metadata": {},
   "source": [
    "Sort per total deaths"
   ]
  },
  {
   "cell_type": "code",
   "execution_count": 80,
   "metadata": {},
   "outputs": [],
   "source": [
    "most_killings_sorted_index = killings_per_state_normalized.sum(axis=1).sort_values(ascending=False).index.to_list()\n",
    "killings_per_state_normalized = killings_per_state_normalized.reindex(most_killings_sorted_index)"
   ]
  },
  {
   "cell_type": "markdown",
   "metadata": {},
   "source": [
    "Let's quickly visualize the data to get an idea of what we have come up with"
   ]
  },
  {
   "cell_type": "code",
   "execution_count": null,
   "metadata": {},
   "outputs": [],
   "source": [
    "width = 0.35       # the width of the bars: can also be len(x) sequence\n",
    "\n",
    "fig, ax = plt.subplots()\n",
    "\n",
    "fig.set_size_inches(10, 10)\n",
    "\n",
    "ax.bar(killings_per_state_normalized.index, killings_per_state_normalized[\"Black\"].to_list(), width, label='Black')\n",
    "ax.bar(killings_per_state_normalized.index, killings_per_state_normalized[\"White\"].to_list(), width, bottom=killings_per_state_normalized[\"Black\"].to_list(),\n",
    "       label='White')\n",
    "ax.bar(killings_per_state_normalized.index, killings_per_state_normalized[\"Hispanic\"].to_list(), width, bottom=killings_per_state_normalized[\"White\"]+killings_per_state_normalized[\"Black\"],\n",
    "       label='Hispanic')\n",
    "\n",
    "\n",
    "plt.xticks(rotation=90)\n",
    "ax.legend()\n",
    "\n",
    "plt.show()"
   ]
  },
  {
   "cell_type": "markdown",
   "metadata": {},
   "source": [
    "### Great! Now that we finally have all the information we need neatly cleaned and prepared, we can start visualizing what we are interested in."
   ]
  },
  {
   "cell_type": "code",
   "execution_count": null,
   "metadata": {},
   "outputs": [],
   "source": [
    "main_df.head()"
   ]
  },
  {
   "cell_type": "code",
   "execution_count": null,
   "metadata": {},
   "outputs": [],
   "source": [
    "killings_per_state_normalized.head()"
   ]
  },
  {
   "cell_type": "code",
   "execution_count": null,
   "metadata": {},
   "outputs": [],
   "source": [
    "police_funding_sorted_index = main_df.sort_values(by='mean_police', ascending=False).index.to_list()"
   ]
  },
  {
   "cell_type": "code",
   "execution_count": null,
   "metadata": {},
   "outputs": [],
   "source": [
    "killings_per_state_normalized_most_killings = killings_per_state_normalized.reset_index()"
   ]
  },
  {
   "cell_type": "code",
   "execution_count": null,
   "metadata": {},
   "outputs": [],
   "source": [
    "main_df_most_killings = main_df.reindex(most_killings_sorted_index)\n",
    "main_df_most_killings = main_df_most_killings.reset_index()"
   ]
  },
  {
   "cell_type": "code",
   "execution_count": null,
   "metadata": {},
   "outputs": [],
   "source": [
    "main_df_most_police_funding = main_df.reindex(police_funding_sorted_index)\n",
    "killings_per_state_normalized_most_police_funding = killings_per_state_normalized.reindex(police_funding_sorted_index)\n",
    "\n",
    "main_df_most_police_funding = main_df_most_police_funding.reset_index()\n",
    "killings_per_state_normalized_most_police_funding = killings_per_state_normalized_most_police_funding.reset_index()"
   ]
  },
  {
   "cell_type": "code",
   "execution_count": null,
   "metadata": {},
   "outputs": [],
   "source": [
    "killings_per_state_normalized_top10 = killings_per_state_normalized[:10]\n",
    "main_df_most_killings_top10 = main_df_most_killings[:10]"
   ]
  },
  {
   "cell_type": "code",
   "execution_count": null,
   "metadata": {},
   "outputs": [],
   "source": [
    "def plot(killings, spendings, onlyBlack=False, size =10):\n",
    "    width = 0.4    # the width of the bars: can also be len(x) sequence\n",
    "\n",
    "    fig, ax = plt.subplots()\n",
    "\n",
    "    ax2=ax.twiny()\n",
    "#     if(onlyBlack==True):\n",
    "#         ax.set_xscale('log')\n",
    "    fig.set_size_inches(10, size)\n",
    "\n",
    "    ax.barh(2*killings.index-0.4, killings[\"Black\"].to_list(), width, label='Black', color='black')\n",
    "    if(onlyBlack==False):\n",
    "        ax.barh(2*killings.index-0.4, killings[\"White\"].to_list(), width, left=killings[\"Black\"].to_list(),\n",
    "               label='White', color='blue')\n",
    "        ax.barh(2*killings.index-0.4, killings[\"Hispanic\"].to_list(), width, left=killings[\"White\"]+killings[\"Black\"],\n",
    "               label='Hispanic', color='red')\n",
    "\n",
    "    ax2.barh(2*spendings.index, spendings.mean_police, width, label=\"Police funding\", color='orange')\n",
    "    ax2.barh(2*spendings.index+0.4, spendings.mean_edu, width, label=\"Education funding\", color='green')\n",
    "    ax2.barh(2*spendings.index+0.8, spendings.mean_health, width, label=\"Health funding\", color='purple')\n",
    "\n",
    "\n",
    "    plt.yticks(np.arange(0, len(spendings)*2, 2.0)[::-1])\n",
    "    plt.yticks(rotation=90)\n",
    "    ax.set_yticklabels(spendings.State[::-1])\n",
    "    ax.legend(loc='upper right')\n",
    "    ax2.legend(loc='lower right')\n",
    "\n",
    "    ax.set_xlabel('Normalized killings per race')\n",
    "    ax2.set_xlabel('$ per capita')\n",
    "    plt.gca().invert_yaxis()\n",
    "\n",
    "    return plt"
   ]
  },
  {
   "cell_type": "code",
   "execution_count": null,
   "metadata": {},
   "outputs": [],
   "source": [
    "plt = plot(killings_per_state_normalized_most_killings[:10], main_df_most_killings[:10])\n",
    "plt.title('test')\n",
    "plt.show()"
   ]
  },
  {
   "cell_type": "code",
   "execution_count": null,
   "metadata": {},
   "outputs": [],
   "source": [
    "plt2 = plot(killings_per_state_normalized_most_police_funding[:10].append(killings_per_state_normalized_most_police_funding[-10:]).reset_index(), main_df_most_police_funding[:10].append( main_df_most_police_funding[-10:]).reset_index(), True)\n",
    "\n",
    "plt2.hlines(y=19.5, xmin=0, xmax=10000,linewidth=2, linestyle='--', color=\"red\")\n",
    "\n",
    "plt2.show()"
   ]
  },
  {
   "cell_type": "code",
   "execution_count": null,
   "metadata": {},
   "outputs": [],
   "source": [
    "fig, ax = plt.subplots()\n",
    "fig.set_size_inches(10, 7)\n",
    "sns.regplot(x=main_df_most_police_funding.index, y='mean_police', data= main_df_most_police_funding,fit_reg=True,scatter=False, color='orange', label=\"Police Funding\")\n",
    "sns.regplot(x=main_df_most_police_funding.index, y='mean_edu', data= main_df_most_police_funding,fit_reg=True,scatter=False, color = 'green', label=\"Education Funding\")\n",
    "sns.regplot(x=main_df_most_police_funding.index, y='mean_health', data= main_df_most_police_funding,fit_reg=True,scatter=False, color = 'purple', label=\"Health Funding\")\n",
    "\n",
    "plt.xticks(np.arange(0, len(main_df_most_police_funding), 1))\n",
    "ax.set_xticklabels(main_df_most_police_funding.State)\n",
    "plt.xticks(rotation=90)\n",
    "\n",
    "ax.set_xlabel('States sorted on descending Police Funding level')\n",
    "ax.set_ylabel('Funding per capita in $')\n",
    "ax.legend()\n",
    "plt.show()"
   ]
  },
  {
   "cell_type": "code",
   "execution_count": null,
   "metadata": {},
   "outputs": [],
   "source": []
  }
 ],
 "metadata": {
  "kernelspec": {
   "display_name": "Python 3",
   "language": "python",
   "name": "python3"
  },
  "language_info": {
   "codemirror_mode": {
    "name": "ipython",
    "version": 3
   },
   "file_extension": ".py",
   "mimetype": "text/x-python",
   "name": "python",
   "nbconvert_exporter": "python",
   "pygments_lexer": "ipython3",
   "version": "3.7.6"
  }
 },
 "nbformat": 4,
 "nbformat_minor": 4
}
