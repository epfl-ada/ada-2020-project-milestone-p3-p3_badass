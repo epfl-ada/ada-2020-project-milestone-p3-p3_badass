{
 "cells": [
  {
   "cell_type": "code",
   "execution_count": 1,
   "metadata": {},
   "outputs": [],
   "source": [
    "import pandas as pd\n",
    "import matplotlib.pyplot as plt\n",
    "import numpy as np\n",
    "import seaborn as sns\n",
    "import datetime"
   ]
  },
  {
   "cell_type": "code",
   "execution_count": 2,
   "metadata": {},
   "outputs": [],
   "source": [
    "df = pd.read_excel(\"data/MPVDatasetDownload.xlsx\", sheet_name=\"2013-2020 Police Killings\")"
   ]
  },
  {
   "cell_type": "code",
   "execution_count": 3,
   "metadata": {},
   "outputs": [
    {
     "data": {
      "text/html": [
       "<div>\n",
       "<style scoped>\n",
       "    .dataframe tbody tr th:only-of-type {\n",
       "        vertical-align: middle;\n",
       "    }\n",
       "\n",
       "    .dataframe tbody tr th {\n",
       "        vertical-align: top;\n",
       "    }\n",
       "\n",
       "    .dataframe thead th {\n",
       "        text-align: right;\n",
       "    }\n",
       "</style>\n",
       "<table border=\"1\" class=\"dataframe\">\n",
       "  <thead>\n",
       "    <tr style=\"text-align: right;\">\n",
       "      <th></th>\n",
       "      <th>Victim's name</th>\n",
       "      <th>Victim's age</th>\n",
       "      <th>Victim's gender</th>\n",
       "      <th>Victim's race</th>\n",
       "      <th>URL of image of victim</th>\n",
       "      <th>Date of Incident (month/day/year)</th>\n",
       "      <th>Street Address of Incident</th>\n",
       "      <th>City</th>\n",
       "      <th>State</th>\n",
       "      <th>Zipcode</th>\n",
       "      <th>...</th>\n",
       "      <th>Unarmed/Did Not Have an Actual Weapon</th>\n",
       "      <th>Alleged Weapon (Source: WaPo and Review of Cases Not Included in WaPo Database)</th>\n",
       "      <th>Alleged Threat Level (Source: WaPo)</th>\n",
       "      <th>Fleeing (Source: WaPo)</th>\n",
       "      <th>Body Camera (Source: WaPo)</th>\n",
       "      <th>WaPo ID (If included in WaPo database)</th>\n",
       "      <th>Off-Duty Killing?</th>\n",
       "      <th>Geography (via Trulia methodology based on zipcode population density: http://jedkolko.com/wp-content/uploads/2015/05/full-ZCTA-urban-suburban-rural-classification.xlsx )</th>\n",
       "      <th>MPV ID</th>\n",
       "      <th>Fatal Encounters ID</th>\n",
       "    </tr>\n",
       "  </thead>\n",
       "  <tbody>\n",
       "    <tr>\n",
       "      <th>0</th>\n",
       "      <td>Pedro Martinez</td>\n",
       "      <td>66</td>\n",
       "      <td>Male</td>\n",
       "      <td>Hispanic</td>\n",
       "      <td>NaN</td>\n",
       "      <td>2020-11-18</td>\n",
       "      <td>NaN</td>\n",
       "      <td>Tyler</td>\n",
       "      <td>TX</td>\n",
       "      <td>NaN</td>\n",
       "      <td>...</td>\n",
       "      <td>Allegedly Armed</td>\n",
       "      <td>unknown weapon</td>\n",
       "      <td>other</td>\n",
       "      <td>not fleeing</td>\n",
       "      <td>no</td>\n",
       "      <td>6321.0</td>\n",
       "      <td>NaN</td>\n",
       "      <td>NaN</td>\n",
       "      <td>NaN</td>\n",
       "      <td>NaN</td>\n",
       "    </tr>\n",
       "    <tr>\n",
       "      <th>1</th>\n",
       "      <td>James Horton</td>\n",
       "      <td>42</td>\n",
       "      <td>Male</td>\n",
       "      <td>NaN</td>\n",
       "      <td>NaN</td>\n",
       "      <td>2020-11-17</td>\n",
       "      <td>NaN</td>\n",
       "      <td>Hart County</td>\n",
       "      <td>KY</td>\n",
       "      <td>NaN</td>\n",
       "      <td>...</td>\n",
       "      <td>Allegedly Armed</td>\n",
       "      <td>gun</td>\n",
       "      <td>attack</td>\n",
       "      <td>other</td>\n",
       "      <td>no</td>\n",
       "      <td>6322.0</td>\n",
       "      <td>NaN</td>\n",
       "      <td>NaN</td>\n",
       "      <td>NaN</td>\n",
       "      <td>NaN</td>\n",
       "    </tr>\n",
       "    <tr>\n",
       "      <th>2</th>\n",
       "      <td>Dustin James Acosta</td>\n",
       "      <td>28</td>\n",
       "      <td>Male</td>\n",
       "      <td>White</td>\n",
       "      <td>NaN</td>\n",
       "      <td>2020-11-17</td>\n",
       "      <td>NaN</td>\n",
       "      <td>St. Augustine</td>\n",
       "      <td>FL</td>\n",
       "      <td>NaN</td>\n",
       "      <td>...</td>\n",
       "      <td>Allegedly Armed</td>\n",
       "      <td>gun</td>\n",
       "      <td>attack</td>\n",
       "      <td>NaN</td>\n",
       "      <td>No</td>\n",
       "      <td>6320.0</td>\n",
       "      <td>NaN</td>\n",
       "      <td>NaN</td>\n",
       "      <td>NaN</td>\n",
       "      <td>NaN</td>\n",
       "    </tr>\n",
       "    <tr>\n",
       "      <th>3</th>\n",
       "      <td>Javon Brice</td>\n",
       "      <td>39</td>\n",
       "      <td>Male</td>\n",
       "      <td>NaN</td>\n",
       "      <td>NaN</td>\n",
       "      <td>2020-11-17</td>\n",
       "      <td>NaN</td>\n",
       "      <td>La Vergne</td>\n",
       "      <td>TN</td>\n",
       "      <td>NaN</td>\n",
       "      <td>...</td>\n",
       "      <td>Allegedly Armed</td>\n",
       "      <td>gun</td>\n",
       "      <td>attack</td>\n",
       "      <td>car</td>\n",
       "      <td>no</td>\n",
       "      <td>6319.0</td>\n",
       "      <td>NaN</td>\n",
       "      <td>NaN</td>\n",
       "      <td>NaN</td>\n",
       "      <td>NaN</td>\n",
       "    </tr>\n",
       "    <tr>\n",
       "      <th>4</th>\n",
       "      <td>Joshua D. Evans</td>\n",
       "      <td>32</td>\n",
       "      <td>Male</td>\n",
       "      <td>NaN</td>\n",
       "      <td>NaN</td>\n",
       "      <td>2020-11-16</td>\n",
       "      <td>NaN</td>\n",
       "      <td>Batesville</td>\n",
       "      <td>IN</td>\n",
       "      <td>NaN</td>\n",
       "      <td>...</td>\n",
       "      <td>Allegedly Armed</td>\n",
       "      <td>gun</td>\n",
       "      <td>attack</td>\n",
       "      <td>not fleeing</td>\n",
       "      <td>no</td>\n",
       "      <td>6314.0</td>\n",
       "      <td>NaN</td>\n",
       "      <td>NaN</td>\n",
       "      <td>NaN</td>\n",
       "      <td>NaN</td>\n",
       "    </tr>\n",
       "  </tbody>\n",
       "</table>\n",
       "<p>5 rows × 29 columns</p>\n",
       "</div>"
      ],
      "text/plain": [
       "         Victim's name Victim's age Victim's gender Victim's race  \\\n",
       "0       Pedro Martinez           66            Male      Hispanic   \n",
       "1         James Horton           42            Male           NaN   \n",
       "2  Dustin James Acosta           28            Male         White   \n",
       "3          Javon Brice           39            Male           NaN   \n",
       "4      Joshua D. Evans           32            Male           NaN   \n",
       "\n",
       "  URL of image of victim Date of Incident (month/day/year)  \\\n",
       "0                    NaN                        2020-11-18   \n",
       "1                    NaN                        2020-11-17   \n",
       "2                    NaN                        2020-11-17   \n",
       "3                    NaN                        2020-11-17   \n",
       "4                    NaN                        2020-11-16   \n",
       "\n",
       "  Street Address of Incident           City State  Zipcode  ...  \\\n",
       "0                        NaN         Tyler     TX      NaN  ...   \n",
       "1                        NaN    Hart County    KY      NaN  ...   \n",
       "2                        NaN  St. Augustine    FL      NaN  ...   \n",
       "3                        NaN      La Vergne    TN      NaN  ...   \n",
       "4                        NaN     Batesville    IN      NaN  ...   \n",
       "\n",
       "  Unarmed/Did Not Have an Actual Weapon  \\\n",
       "0                       Allegedly Armed   \n",
       "1                       Allegedly Armed   \n",
       "2                       Allegedly Armed   \n",
       "3                       Allegedly Armed   \n",
       "4                       Allegedly Armed   \n",
       "\n",
       "  Alleged Weapon (Source: WaPo and Review of Cases Not Included in WaPo Database)  \\\n",
       "0                                     unknown weapon                                \n",
       "1                                                gun                                \n",
       "2                                                gun                                \n",
       "3                                                gun                                \n",
       "4                                                gun                                \n",
       "\n",
       "  Alleged Threat Level (Source: WaPo) Fleeing (Source: WaPo)  \\\n",
       "0                               other            not fleeing   \n",
       "1                              attack                  other   \n",
       "2                              attack                    NaN   \n",
       "3                              attack                    car   \n",
       "4                              attack            not fleeing   \n",
       "\n",
       "  Body Camera (Source: WaPo) WaPo ID (If included in WaPo database)  \\\n",
       "0                         no                                 6321.0   \n",
       "1                         no                                 6322.0   \n",
       "2                         No                                 6320.0   \n",
       "3                         no                                 6319.0   \n",
       "4                         no                                 6314.0   \n",
       "\n",
       "  Off-Duty Killing?  \\\n",
       "0               NaN   \n",
       "1               NaN   \n",
       "2               NaN   \n",
       "3               NaN   \n",
       "4               NaN   \n",
       "\n",
       "  Geography (via Trulia methodology based on zipcode population density: http://jedkolko.com/wp-content/uploads/2015/05/full-ZCTA-urban-suburban-rural-classification.xlsx )  \\\n",
       "0                                                NaN                                                                                                                           \n",
       "1                                                NaN                                                                                                                           \n",
       "2                                                NaN                                                                                                                           \n",
       "3                                                NaN                                                                                                                           \n",
       "4                                                NaN                                                                                                                           \n",
       "\n",
       "  MPV ID Fatal Encounters ID  \n",
       "0    NaN                 NaN  \n",
       "1    NaN                 NaN  \n",
       "2    NaN                 NaN  \n",
       "3    NaN                 NaN  \n",
       "4    NaN                 NaN  \n",
       "\n",
       "[5 rows x 29 columns]"
      ]
     },
     "execution_count": 3,
     "metadata": {},
     "output_type": "execute_result"
    }
   ],
   "source": [
    "df.head()"
   ]
  },
  {
   "cell_type": "code",
   "execution_count": 4,
   "metadata": {},
   "outputs": [
    {
     "data": {
      "text/plain": [
       "Index(['Victim's name', 'Victim's age', 'Victim's gender', 'Victim's race',\n",
       "       'URL of image of victim', 'Date of Incident (month/day/year)',\n",
       "       'Street Address of Incident', 'City', 'State', 'Zipcode', 'County',\n",
       "       'Agency responsible for death', 'ORI Agency Identifier (if available)',\n",
       "       'Cause of death',\n",
       "       'A brief description of the circumstances surrounding the death',\n",
       "       'Official disposition of death (justified or other)',\n",
       "       'Criminal Charges?',\n",
       "       'Link to news article or photo of official document',\n",
       "       'Symptoms of mental illness?', 'Unarmed/Did Not Have an Actual Weapon',\n",
       "       'Alleged Weapon (Source: WaPo and Review of Cases Not Included in WaPo Database)',\n",
       "       'Alleged Threat Level (Source: WaPo)', 'Fleeing (Source: WaPo)',\n",
       "       'Body Camera (Source: WaPo)', 'WaPo ID (If included in WaPo database)',\n",
       "       'Off-Duty Killing?',\n",
       "       'Geography (via Trulia methodology based on zipcode population density: http://jedkolko.com/wp-content/uploads/2015/05/full-ZCTA-urban-suburban-rural-classification.xlsx )',\n",
       "       'MPV ID', 'Fatal Encounters ID'],\n",
       "      dtype='object')"
      ]
     },
     "execution_count": 4,
     "metadata": {},
     "output_type": "execute_result"
    }
   ],
   "source": [
    "df.columns"
   ]
  },
  {
   "cell_type": "code",
   "execution_count": 5,
   "metadata": {},
   "outputs": [],
   "source": [
    "df = df[[\"Victim's race\", \"Date of Incident (month/day/year)\", \"State\"] ]"
   ]
  },
  {
   "cell_type": "code",
   "execution_count": 6,
   "metadata": {},
   "outputs": [
    {
     "data": {
      "text/html": [
       "<div>\n",
       "<style scoped>\n",
       "    .dataframe tbody tr th:only-of-type {\n",
       "        vertical-align: middle;\n",
       "    }\n",
       "\n",
       "    .dataframe tbody tr th {\n",
       "        vertical-align: top;\n",
       "    }\n",
       "\n",
       "    .dataframe thead th {\n",
       "        text-align: right;\n",
       "    }\n",
       "</style>\n",
       "<table border=\"1\" class=\"dataframe\">\n",
       "  <thead>\n",
       "    <tr style=\"text-align: right;\">\n",
       "      <th></th>\n",
       "      <th>Victim's race</th>\n",
       "      <th>Date of Incident (month/day/year)</th>\n",
       "      <th>State</th>\n",
       "    </tr>\n",
       "  </thead>\n",
       "  <tbody>\n",
       "    <tr>\n",
       "      <th>0</th>\n",
       "      <td>Hispanic</td>\n",
       "      <td>2020-11-18</td>\n",
       "      <td>TX</td>\n",
       "    </tr>\n",
       "    <tr>\n",
       "      <th>1</th>\n",
       "      <td>NaN</td>\n",
       "      <td>2020-11-17</td>\n",
       "      <td>KY</td>\n",
       "    </tr>\n",
       "    <tr>\n",
       "      <th>2</th>\n",
       "      <td>White</td>\n",
       "      <td>2020-11-17</td>\n",
       "      <td>FL</td>\n",
       "    </tr>\n",
       "    <tr>\n",
       "      <th>3</th>\n",
       "      <td>NaN</td>\n",
       "      <td>2020-11-17</td>\n",
       "      <td>TN</td>\n",
       "    </tr>\n",
       "    <tr>\n",
       "      <th>4</th>\n",
       "      <td>NaN</td>\n",
       "      <td>2020-11-16</td>\n",
       "      <td>IN</td>\n",
       "    </tr>\n",
       "  </tbody>\n",
       "</table>\n",
       "</div>"
      ],
      "text/plain": [
       "  Victim's race Date of Incident (month/day/year) State\n",
       "0      Hispanic                        2020-11-18    TX\n",
       "1           NaN                        2020-11-17    KY\n",
       "2         White                        2020-11-17    FL\n",
       "3           NaN                        2020-11-17    TN\n",
       "4           NaN                        2020-11-16    IN"
      ]
     },
     "execution_count": 6,
     "metadata": {},
     "output_type": "execute_result"
    }
   ],
   "source": [
    "df.head()"
   ]
  },
  {
   "cell_type": "code",
   "execution_count": 7,
   "metadata": {},
   "outputs": [],
   "source": [
    "df.columns = [\"race\", \"date\", \"state\"]"
   ]
  },
  {
   "cell_type": "code",
   "execution_count": 8,
   "metadata": {},
   "outputs": [],
   "source": [
    "df[\"race\"] = df.race.apply(lambda x: \"Unknown\" if x == \"Unknown race\" or x == \"Unknown Race\" or x == \"unknown race\" else x).iloc[:]"
   ]
  },
  {
   "cell_type": "code",
   "execution_count": 9,
   "metadata": {},
   "outputs": [],
   "source": [
    "df.fillna(\"Unknown\", inplace=True)"
   ]
  },
  {
   "cell_type": "code",
   "execution_count": 10,
   "metadata": {},
   "outputs": [],
   "source": [
    "#df = df[(df[\"race\"] == \"White\") | (df[\"race\"] == \"Black\") | (df[\"race\"] == \"Hispanic\")].reset_index(drop = True).iloc[:]"
   ]
  },
  {
   "cell_type": "code",
   "execution_count": 11,
   "metadata": {},
   "outputs": [
    {
     "data": {
      "text/html": [
       "<div>\n",
       "<style scoped>\n",
       "    .dataframe tbody tr th:only-of-type {\n",
       "        vertical-align: middle;\n",
       "    }\n",
       "\n",
       "    .dataframe tbody tr th {\n",
       "        vertical-align: top;\n",
       "    }\n",
       "\n",
       "    .dataframe thead th {\n",
       "        text-align: right;\n",
       "    }\n",
       "</style>\n",
       "<table border=\"1\" class=\"dataframe\">\n",
       "  <thead>\n",
       "    <tr style=\"text-align: right;\">\n",
       "      <th></th>\n",
       "      <th>race</th>\n",
       "      <th>date</th>\n",
       "      <th>state</th>\n",
       "    </tr>\n",
       "  </thead>\n",
       "  <tbody>\n",
       "    <tr>\n",
       "      <th>0</th>\n",
       "      <td>Hispanic</td>\n",
       "      <td>2020-11-18</td>\n",
       "      <td>TX</td>\n",
       "    </tr>\n",
       "    <tr>\n",
       "      <th>1</th>\n",
       "      <td>Unknown</td>\n",
       "      <td>2020-11-17</td>\n",
       "      <td>KY</td>\n",
       "    </tr>\n",
       "    <tr>\n",
       "      <th>2</th>\n",
       "      <td>White</td>\n",
       "      <td>2020-11-17</td>\n",
       "      <td>FL</td>\n",
       "    </tr>\n",
       "    <tr>\n",
       "      <th>3</th>\n",
       "      <td>Unknown</td>\n",
       "      <td>2020-11-17</td>\n",
       "      <td>TN</td>\n",
       "    </tr>\n",
       "    <tr>\n",
       "      <th>4</th>\n",
       "      <td>Unknown</td>\n",
       "      <td>2020-11-16</td>\n",
       "      <td>IN</td>\n",
       "    </tr>\n",
       "    <tr>\n",
       "      <th>5</th>\n",
       "      <td>Unknown</td>\n",
       "      <td>2020-11-16</td>\n",
       "      <td>FL</td>\n",
       "    </tr>\n",
       "    <tr>\n",
       "      <th>6</th>\n",
       "      <td>Unknown</td>\n",
       "      <td>2020-11-15</td>\n",
       "      <td>TX</td>\n",
       "    </tr>\n",
       "    <tr>\n",
       "      <th>7</th>\n",
       "      <td>White</td>\n",
       "      <td>2020-11-14</td>\n",
       "      <td>NH</td>\n",
       "    </tr>\n",
       "    <tr>\n",
       "      <th>8</th>\n",
       "      <td>Hispanic</td>\n",
       "      <td>2020-11-14</td>\n",
       "      <td>CA</td>\n",
       "    </tr>\n",
       "    <tr>\n",
       "      <th>9</th>\n",
       "      <td>Unknown</td>\n",
       "      <td>2020-11-14</td>\n",
       "      <td>TX</td>\n",
       "    </tr>\n",
       "  </tbody>\n",
       "</table>\n",
       "</div>"
      ],
      "text/plain": [
       "       race       date state\n",
       "0  Hispanic 2020-11-18    TX\n",
       "1   Unknown 2020-11-17    KY\n",
       "2     White 2020-11-17    FL\n",
       "3   Unknown 2020-11-17    TN\n",
       "4   Unknown 2020-11-16    IN\n",
       "5   Unknown 2020-11-16    FL\n",
       "6   Unknown 2020-11-15    TX\n",
       "7     White 2020-11-14    NH\n",
       "8  Hispanic 2020-11-14    CA\n",
       "9   Unknown 2020-11-14    TX"
      ]
     },
     "execution_count": 11,
     "metadata": {},
     "output_type": "execute_result"
    }
   ],
   "source": [
    "df.head(10)"
   ]
  },
  {
   "cell_type": "code",
   "execution_count": 12,
   "metadata": {},
   "outputs": [
    {
     "data": {
      "text/plain": [
       "White               3769\n",
       "Black               2158\n",
       "Hispanic            1482\n",
       "Unknown              922\n",
       "Asian                132\n",
       "Native American      120\n",
       "Pacific Islander      46\n",
       "Name: race, dtype: int64"
      ]
     },
     "execution_count": 12,
     "metadata": {},
     "output_type": "execute_result"
    }
   ],
   "source": [
    "df.race.value_counts()"
   ]
  },
  {
   "cell_type": "markdown",
   "metadata": {},
   "source": [
    "## Total"
   ]
  },
  {
   "cell_type": "code",
   "execution_count": 13,
   "metadata": {},
   "outputs": [],
   "source": [
    "def get_week(df, event):\n",
    "    filtered = df[(df[\"date\"] <= event)]\n",
    "    return filtered.iloc[-1][\"date\"], filtered.index[-1]"
   ]
  },
  {
   "cell_type": "code",
   "execution_count": 14,
   "metadata": {},
   "outputs": [],
   "source": [
    "def get_next_weeks(df, event, weeks):\n",
    "    pos = get_week(df, event)[1]\n",
    "    if pos + weeks + 1 > len(df):\n",
    "        return df.iloc[pos:].total_victims.mean()\n",
    "    else:\n",
    "        return df.iloc[pos + 1: pos + weeks + 1].total_victims.mean()"
   ]
  },
  {
   "cell_type": "code",
   "execution_count": 15,
   "metadata": {},
   "outputs": [],
   "source": [
    "def get_previous_weeks(df, event, weeks):\n",
    "    pos = get_week(df, event)[1]\n",
    "    if pos - weeks < 0:\n",
    "        return df.iloc[:pos].total_victims.mean()\n",
    "    else:\n",
    "        return df.iloc[pos - weeks:pos].total_victims.mean()"
   ]
  },
  {
   "cell_type": "code",
   "execution_count": 16,
   "metadata": {},
   "outputs": [],
   "source": [
    "def do_plot(df, events, minority):\n",
    "    fig, ax = plt.subplots()\n",
    "    fig.set_size_inches(16, 8)\n",
    "    \n",
    "    df[\"date_ordinal\"]=df.date.apply(lambda date: date.toordinal())\n",
    "    for i, event in enumerate(events):\n",
    "        d = datetime.datetime.strptime(event, '%Y-%m-%d').date()\n",
    "        if i == 0:\n",
    "            df_before = df[df[\"date\"]<=event]\n",
    "        elif i == len(events) - 1:\n",
    "            df_before = df[(df[\"date\"]>=events[i - 1]) & (df[\"date\"]<=event)]\n",
    "            df_after = df[df[\"date\"]>event]\n",
    "        else:\n",
    "            df_before = df[(df[\"date\"]>=events[i - 1]) & (df[\"date\"]<=event)]\n",
    "        sns.regplot(x=df_before.date_ordinal,y=df_before.total_victims,data=df_before, fit_reg=True,scatter=False, color='black')\n",
    "    \n",
    "        ax.axvline(x=d.toordinal(), color = \"red\")\n",
    "    sns.regplot(x=df_after.date_ordinal,y=df_after.total_victims,data=df_after, fit_reg=True,scatter=False, color='black')\n",
    "    sns.lineplot(x=df.date_ordinal, y = df.total_victims, data = df)\n",
    "\n",
    "\n",
    "\n",
    "    xticks = ax.get_xticks()\n",
    "    xticks_dates = [datetime.date.fromordinal(int(x)).strftime('%Y-%m-%d') for x in xticks]\n",
    "    ax.set_xticklabels(xticks_dates)\n",
    "    \n",
    "    if minority:\n",
    "        ax.set_ylabel(f\"Total {minority} victims\")\n",
    "    else:\n",
    "        ax.set_ylabel(\"Total victims\")\n",
    "\n",
    "    plt.show()"
   ]
  },
  {
   "cell_type": "code",
   "execution_count": 17,
   "metadata": {},
   "outputs": [],
   "source": [
    "def blm_march_influence(df, year, events, weeks, minority = None):\n",
    "    \n",
    "    df = df[(df[\"date\"] >= f\"{year}-01-01\") & (df[\"date\"] <= f\"{year}-12-31\")].reset_index(drop = True).iloc[:]\n",
    "    \n",
    "    if minority:\n",
    "        df = df[df[\"race\"] == minority].reset_index(drop = True)\n",
    "    \n",
    "    grouped = df.groupby(\"date\")\n",
    "    killings = {}\n",
    "\n",
    "    for date in set(df[\"date\"]):\n",
    "        killings[date] = grouped.get_group(date).size / 3\n",
    "    \n",
    "    df = pd.DataFrame(killings.items(), columns = [\"date\", \"total_victims\"])\n",
    "    pd.Grouper(key = \"date\", freq = \"1W\")\n",
    "    df = df.groupby(pd.Grouper(key = \"date\", freq = \"1W\",)).sum().reset_index()\n",
    "    \n",
    "    \n",
    "    do_plot(df, events, minority)\n",
    "    \n",
    "    for event in events:\n",
    "        print(f\"Average number of deaths over the previous {weeks} weeks before the event of {event} :\" , get_previous_weeks(df, event, weeks))\n",
    "        print(f\"Average number of deaths over the next {weeks} weeks after the event of {event}:\" , get_next_weeks(df, event, weeks))\n",
    "        print()\n",
    "    return df"
   ]
  },
  {
   "cell_type": "code",
   "execution_count": 18,
   "metadata": {},
   "outputs": [],
   "source": [
    "g_floyd = \"2020-05-25\"\n",
    "b_taylor = \"2020-03-13\"\n",
    "biggest = \"2020-06-06\"\n",
    "\n",
    "events = [\"2013-11-02\", \"2014-07-17\", \"2014-08-09\", \"2015-04-12\", \"2015-11-16\", \"2015-11-24\", \"2016-07-05\", b_taylor, g_floyd]"
   ]
  },
  {
   "cell_type": "code",
   "execution_count": 19,
   "metadata": {},
   "outputs": [
    {
     "name": "stderr",
     "output_type": "stream",
     "text": [
      "/Users/gfotiadis/anaconda3/lib/python3.7/site-packages/ipykernel_launcher.py:25: UserWarning: FixedFormatter should only be used together with FixedLocator\n"
     ]
    },
    {
     "data": {
      "image/png": "[encoded data removed]",
      "text/plain": [
       "<Figure size 1152x576 with 1 Axes>"
      ]
     },
     "metadata": {
      "needs_background": "light"
     },
     "output_type": "display_data"
    },
    {
     "name": "stdout",
     "output_type": "stream",
     "text": [
      "Average number of deaths over the previous 5 weeks before the event of 2020-03-13 : 8.8\n",
      "Average number of deaths over the next 5 weeks after the event of 2020-03-13: 11.4\n",
      "\n",
      "Average number of deaths over the previous 5 weeks before the event of 2020-05-25 : 8.0\n",
      "Average number of deaths over the next 5 weeks after the event of 2020-05-25: 8.0\n",
      "\n"
     ]
    }
   ],
   "source": [
    "df_events = blm_march_influence(df, \"2020\", events[7:], 5, minority=\"White\")"
   ]
  },
  {
   "cell_type": "code",
   "execution_count": null,
   "metadata": {},
   "outputs": [],
   "source": []
  },
  {
   "cell_type": "markdown",
   "metadata": {},
   "source": [
    "## Per state"
   ]
  },
  {
   "cell_type": "code",
   "execution_count": null,
   "metadata": {},
   "outputs": [],
   "source": [
    "df.head()"
   ]
  },
  {
   "cell_type": "code",
   "execution_count": null,
   "metadata": {},
   "outputs": [],
   "source": [
    "per_state = {}\n",
    "grouped = df.groupby([\"state\", \"date\"])\n",
    "for (state, date) in grouped.groups.keys():\n",
    "        per_state[(state, date)] = (grouped.get_group((state, date)).size / 3)#, grouped.get_group((state, date))[\"race\"])"
   ]
  },
  {
   "cell_type": "code",
   "execution_count": null,
   "metadata": {},
   "outputs": [],
   "source": [
    "per_state = pd.DataFrame(per_state.items(), columns = [\"state\", \"victims\"])"
   ]
  },
  {
   "cell_type": "code",
   "execution_count": null,
   "metadata": {},
   "outputs": [],
   "source": [
    "per_state[\"date\"] = per_state[\"state\"].apply(lambda x : x[1]).iloc[:]"
   ]
  },
  {
   "cell_type": "code",
   "execution_count": null,
   "metadata": {},
   "outputs": [],
   "source": [
    "per_state[\"state\"] = per_state[\"state\"].apply(lambda x : x[0]).iloc[:]"
   ]
  },
  {
   "cell_type": "code",
   "execution_count": null,
   "metadata": {},
   "outputs": [],
   "source": [
    "per_state"
   ]
  },
  {
   "cell_type": "code",
   "execution_count": null,
   "metadata": {},
   "outputs": [],
   "source": [
    "texas = per_state.groupby(\"state\").get_group(\"TX\")"
   ]
  },
  {
   "cell_type": "code",
   "execution_count": null,
   "metadata": {},
   "outputs": [],
   "source": [
    "ela = -1\n",
    "for state in set(per_state[\"state\"]):\n",
    "    v = per_state.groupby(\"state\").get_group(state)\n",
    "    print(len(v), state)"
   ]
  },
  {
   "cell_type": "code",
   "execution_count": null,
   "metadata": {},
   "outputs": [],
   "source": [
    "texas.plot(x = \"date\", y = \"victims\")"
   ]
  },
  {
   "cell_type": "code",
   "execution_count": null,
   "metadata": {},
   "outputs": [],
   "source": [
    "df_total_deaths.sort_values(\"date\")"
   ]
  },
  {
   "cell_type": "code",
   "execution_count": null,
   "metadata": {},
   "outputs": [],
   "source": [
    "by_week = df_total_deaths.groupby(pd.Grouper(key = \"date\", freq = \"1W\", origin = \"2013-01-01\")).first()"
   ]
  },
  {
   "cell_type": "code",
   "execution_count": null,
   "metadata": {},
   "outputs": [],
   "source": [
    "by_week = by_week.reset_index()"
   ]
  },
  {
   "cell_type": "code",
   "execution_count": null,
   "metadata": {},
   "outputs": [],
   "source": [
    "by_week[by_week[\"date\"] < \"2013-12-31\"].plot(x = \"date\", y = \"total_victims\")"
   ]
  },
  {
   "cell_type": "code",
   "execution_count": null,
   "metadata": {},
   "outputs": [],
   "source": [
    "by_month = df_total_deaths.groupby(pd.Grouper(key = \"date\", freq = \"1M\", origin = \"2013-01-01\")).first()"
   ]
  },
  {
   "cell_type": "code",
   "execution_count": null,
   "metadata": {},
   "outputs": [],
   "source": [
    "by_month.reset_index(inplace=True)"
   ]
  },
  {
   "cell_type": "code",
   "execution_count": null,
   "metadata": {},
   "outputs": [],
   "source": [
    "by_month.plot(x = \"date\", y = \"total_victims\")"
   ]
  },
  {
   "cell_type": "code",
   "execution_count": null,
   "metadata": {},
   "outputs": [],
   "source": [
    "fig, ax = plt.subplots()\n",
    "fig.set_size_inches(16, 8)\n",
    "by_week[(by_week[\"date\"] > \"2013-12-31\") & (by_week[\"date\"] <= \"2014-12-31\")].plot(x = \"date\", y = \"total_victims\",ax = ax)\n",
    "ax.axvline(x=\"2014-07-17\", color = \"red\")"
   ]
  },
  {
   "cell_type": "code",
   "execution_count": null,
   "metadata": {},
   "outputs": [],
   "source": [
    "texas_per_week = texas.groupby(pd.Grouper(key = \"date\", freq = \"1W\", origin = \"2013-01-01\")).sum().reset_index()"
   ]
  },
  {
   "cell_type": "code",
   "execution_count": null,
   "metadata": {},
   "outputs": [],
   "source": [
    "texas_per_week.reset_index(inplace=True)"
   ]
  },
  {
   "cell_type": "code",
   "execution_count": null,
   "metadata": {},
   "outputs": [],
   "source": [
    "texas_per_week"
   ]
  },
  {
   "cell_type": "code",
   "execution_count": null,
   "metadata": {},
   "outputs": [],
   "source": [
    "fig, ax = plt.subplots()\n",
    "fig.set_size_inches(16, 8)\n",
    "texas_per_week[(texas_per_week[\"date\"] > \"2013-12-31\") & (texas_per_week[\"date\"] <= \"2014-12-31\")].plot(x = \"date\", y = \"victims\",ax = ax)\n",
    "ax.axvline(x=\"2014-07-17\", color = \"red\")"
   ]
  },
  {
   "cell_type": "code",
   "execution_count": null,
   "metadata": {},
   "outputs": [],
   "source": [
    "mn = per_state.groupby(\"state\").get_group(\"MN\")\n",
    "mn_per_week = mn.groupby(pd.Grouper(key = \"date\", freq = \"1W\", origin = \"2013-01-01\")).sum().reset_index()\n",
    "mn_per_week.reset_index(inplace=True)"
   ]
  },
  {
   "cell_type": "code",
   "execution_count": null,
   "metadata": {},
   "outputs": [],
   "source": [
    "mn[(mn[\"date\"] > \"2014-12-31\") & (mn[\"date\"] <= \"2015-12-31\")]"
   ]
  },
  {
   "cell_type": "code",
   "execution_count": null,
   "metadata": {},
   "outputs": [],
   "source": [
    "fig, ax = plt.subplots()\n",
    "fig.set_size_inches(16, 8)\n",
    "mn_per_week[(mn_per_week[\"date\"] > \"2014-12-31\") & (mn_per_week[\"date\"] <= \"2015-12-31\")].plot(x = \"date\", y = \"victims\",ax = ax)\n",
    "ax.axvline(x=\"2015-11-15\", color = \"red\")"
   ]
  },
  {
   "cell_type": "code",
   "execution_count": null,
   "metadata": {},
   "outputs": [],
   "source": [
    "mn"
   ]
  },
  {
   "cell_type": "code",
   "execution_count": null,
   "metadata": {},
   "outputs": [],
   "source": [
    "fig, ax = plt.subplots()\n",
    "fig.set_size_inches(16, 8)\n",
    "mn.plot(x = \"date\", y = \"victims\",ax = ax)\n",
    "ax.axvline(x=\"2015-11-15\", color = \"red\")"
   ]
  },
  {
   "cell_type": "code",
   "execution_count": null,
   "metadata": {},
   "outputs": [],
   "source": []
  },
  {
   "cell_type": "code",
   "execution_count": null,
   "metadata": {},
   "outputs": [],
   "source": []
  }
 ],
 "metadata": {
  "kernelspec": {
   "display_name": "Python 3",
   "language": "python",
   "name": "python3"
  },
  "language_info": {
   "codemirror_mode": {
    "name": "ipython",
    "version": 3
   },
   "file_extension": ".py",
   "mimetype": "text/x-python",
   "name": "python",
   "nbconvert_exporter": "python",
   "pygments_lexer": "ipython3",
   "version": "3.7.9"
  }
 },
 "nbformat": 4,
 "nbformat_minor": 4
}
