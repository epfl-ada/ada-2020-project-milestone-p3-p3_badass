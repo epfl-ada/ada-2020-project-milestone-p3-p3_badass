{
 "cells": [
  {
   "cell_type": "code",
   "execution_count": 1,
   "metadata": {},
   "outputs": [],
   "source": [
    "import pandas as pd\n",
    "import matplotlib.pyplot as plt\n",
    "import numpy as np\n",
    "import seaborn as sns"
   ]
  },
  {
   "cell_type": "code",
   "execution_count": 2,
   "metadata": {},
   "outputs": [],
   "source": [
    "df = pd.read_excel(\"data/MPVDatasetDownload.xlsx\", sheet_name=\"2013-2020 Police Killings\")"
   ]
  },
  {
   "cell_type": "code",
   "execution_count": 3,
   "metadata": {},
   "outputs": [
    {
     "data": {
      "text/html": [
       "<div>\n",
       "<style scoped>\n",
       "    .dataframe tbody tr th:only-of-type {\n",
       "        vertical-align: middle;\n",
       "    }\n",
       "\n",
       "    .dataframe tbody tr th {\n",
       "        vertical-align: top;\n",
       "    }\n",
       "\n",
       "    .dataframe thead th {\n",
       "        text-align: right;\n",
       "    }\n",
       "</style>\n",
       "<table border=\"1\" class=\"dataframe\">\n",
       "  <thead>\n",
       "    <tr style=\"text-align: right;\">\n",
       "      <th></th>\n",
       "      <th>Victim's name</th>\n",
       "      <th>Victim's age</th>\n",
       "      <th>Victim's gender</th>\n",
       "      <th>Victim's race</th>\n",
       "      <th>URL of image of victim</th>\n",
       "      <th>Date of Incident (month/day/year)</th>\n",
       "      <th>Street Address of Incident</th>\n",
       "      <th>City</th>\n",
       "      <th>State</th>\n",
       "      <th>Zipcode</th>\n",
       "      <th>...</th>\n",
       "      <th>Unarmed/Did Not Have an Actual Weapon</th>\n",
       "      <th>Alleged Weapon (Source: WaPo and Review of Cases Not Included in WaPo Database)</th>\n",
       "      <th>Alleged Threat Level (Source: WaPo)</th>\n",
       "      <th>Fleeing (Source: WaPo)</th>\n",
       "      <th>Body Camera (Source: WaPo)</th>\n",
       "      <th>WaPo ID (If included in WaPo database)</th>\n",
       "      <th>Off-Duty Killing?</th>\n",
       "      <th>Geography (via Trulia methodology based on zipcode population density: http://jedkolko.com/wp-content/uploads/2015/05/full-ZCTA-urban-suburban-rural-classification.xlsx )</th>\n",
       "      <th>MPV ID</th>\n",
       "      <th>Fatal Encounters ID</th>\n",
       "    </tr>\n",
       "  </thead>\n",
       "  <tbody>\n",
       "    <tr>\n",
       "      <th>0</th>\n",
       "      <td>Dylan Ray Scott</td>\n",
       "      <td>27</td>\n",
       "      <td>Male</td>\n",
       "      <td>White</td>\n",
       "      <td>NaN</td>\n",
       "      <td>2020-12-08</td>\n",
       "      <td>NaN</td>\n",
       "      <td>Riverview</td>\n",
       "      <td>FL</td>\n",
       "      <td>NaN</td>\n",
       "      <td>...</td>\n",
       "      <td>Unarmed/Did Not Have an Actual Weapon</td>\n",
       "      <td>no object</td>\n",
       "      <td>attack</td>\n",
       "      <td>car</td>\n",
       "      <td>yes</td>\n",
       "      <td>6410.0</td>\n",
       "      <td>NaN</td>\n",
       "      <td>NaN</td>\n",
       "      <td>8679</td>\n",
       "      <td>NaN</td>\n",
       "    </tr>\n",
       "    <tr>\n",
       "      <th>1</th>\n",
       "      <td>Brad Tyler Masters</td>\n",
       "      <td>27</td>\n",
       "      <td>Male</td>\n",
       "      <td>Unknown race</td>\n",
       "      <td>NaN</td>\n",
       "      <td>2020-12-08</td>\n",
       "      <td>NaN</td>\n",
       "      <td>Gates</td>\n",
       "      <td>OR</td>\n",
       "      <td>NaN</td>\n",
       "      <td>...</td>\n",
       "      <td>Unclear</td>\n",
       "      <td>undetermined</td>\n",
       "      <td>undetermined</td>\n",
       "      <td>NaN</td>\n",
       "      <td>no</td>\n",
       "      <td>6409.0</td>\n",
       "      <td>NaN</td>\n",
       "      <td>NaN</td>\n",
       "      <td>8680</td>\n",
       "      <td>NaN</td>\n",
       "    </tr>\n",
       "    <tr>\n",
       "      <th>2</th>\n",
       "      <td>Nathaniel Sironen</td>\n",
       "      <td>40</td>\n",
       "      <td>Male</td>\n",
       "      <td>Unknown race</td>\n",
       "      <td>NaN</td>\n",
       "      <td>2020-12-08</td>\n",
       "      <td>5100 Spanish Heights Dr.</td>\n",
       "      <td>Las Vegas</td>\n",
       "      <td>NV</td>\n",
       "      <td>89148.0</td>\n",
       "      <td>...</td>\n",
       "      <td>Allegedly Armed</td>\n",
       "      <td>hammer</td>\n",
       "      <td>attack</td>\n",
       "      <td>not fleeing</td>\n",
       "      <td>no</td>\n",
       "      <td>6408.0</td>\n",
       "      <td>NaN</td>\n",
       "      <td>Suburban</td>\n",
       "      <td>8681</td>\n",
       "      <td>NaN</td>\n",
       "    </tr>\n",
       "    <tr>\n",
       "      <th>3</th>\n",
       "      <td>Donald Edwin Saunders</td>\n",
       "      <td>37</td>\n",
       "      <td>Male</td>\n",
       "      <td>Black</td>\n",
       "      <td>NaN</td>\n",
       "      <td>2020-12-06</td>\n",
       "      <td>1700 Rangeley Ave.</td>\n",
       "      <td>Dayton</td>\n",
       "      <td>OH</td>\n",
       "      <td>45403.0</td>\n",
       "      <td>...</td>\n",
       "      <td>Allegedly Armed</td>\n",
       "      <td>gun</td>\n",
       "      <td>attack</td>\n",
       "      <td>not fleeing</td>\n",
       "      <td>no</td>\n",
       "      <td>6411.0</td>\n",
       "      <td>NaN</td>\n",
       "      <td>Urban</td>\n",
       "      <td>8676</td>\n",
       "      <td>NaN</td>\n",
       "    </tr>\n",
       "    <tr>\n",
       "      <th>4</th>\n",
       "      <td>Christian Juarez</td>\n",
       "      <td>28</td>\n",
       "      <td>Male</td>\n",
       "      <td>Hispanic</td>\n",
       "      <td>NaN</td>\n",
       "      <td>2020-12-06</td>\n",
       "      <td>1900 Batson Ave.</td>\n",
       "      <td>Rowland Heights</td>\n",
       "      <td>CA</td>\n",
       "      <td>91748.0</td>\n",
       "      <td>...</td>\n",
       "      <td>Vehicle</td>\n",
       "      <td>vehicle</td>\n",
       "      <td>attack</td>\n",
       "      <td>car</td>\n",
       "      <td>no</td>\n",
       "      <td>6400.0</td>\n",
       "      <td>NaN</td>\n",
       "      <td>Suburban</td>\n",
       "      <td>8677</td>\n",
       "      <td>29269.0</td>\n",
       "    </tr>\n",
       "  </tbody>\n",
       "</table>\n",
       "<p>5 rows × 29 columns</p>\n",
       "</div>"
      ],
      "text/plain": [
       "           Victim's name Victim's age Victim's gender Victim's race  \\\n",
       "0        Dylan Ray Scott           27            Male         White   \n",
       "1     Brad Tyler Masters           27            Male  Unknown race   \n",
       "2      Nathaniel Sironen           40            Male  Unknown race   \n",
       "3  Donald Edwin Saunders           37            Male         Black   \n",
       "4       Christian Juarez           28            Male      Hispanic   \n",
       "\n",
       "  URL of image of victim Date of Incident (month/day/year)  \\\n",
       "0                    NaN                        2020-12-08   \n",
       "1                    NaN                        2020-12-08   \n",
       "2                    NaN                        2020-12-08   \n",
       "3                    NaN                        2020-12-06   \n",
       "4                    NaN                        2020-12-06   \n",
       "\n",
       "  Street Address of Incident             City State  Zipcode  ...  \\\n",
       "0                        NaN        Riverview    FL      NaN  ...   \n",
       "1                        NaN            Gates    OR      NaN  ...   \n",
       "2  5100 Spanish Heights Dr.         Las Vegas    NV  89148.0  ...   \n",
       "3         1700 Rangeley Ave.           Dayton    OH  45403.0  ...   \n",
       "4           1900 Batson Ave.  Rowland Heights    CA  91748.0  ...   \n",
       "\n",
       "   Unarmed/Did Not Have an Actual Weapon  \\\n",
       "0  Unarmed/Did Not Have an Actual Weapon   \n",
       "1                                Unclear   \n",
       "2                        Allegedly Armed   \n",
       "3                        Allegedly Armed   \n",
       "4                                Vehicle   \n",
       "\n",
       "  Alleged Weapon (Source: WaPo and Review of Cases Not Included in WaPo Database)  \\\n",
       "0                                          no object                                \n",
       "1                                       undetermined                                \n",
       "2                                             hammer                                \n",
       "3                                                gun                                \n",
       "4                                            vehicle                                \n",
       "\n",
       "  Alleged Threat Level (Source: WaPo) Fleeing (Source: WaPo)  \\\n",
       "0                             attack                     car   \n",
       "1                        undetermined                    NaN   \n",
       "2                             attack             not fleeing   \n",
       "3                             attack             not fleeing   \n",
       "4                             attack                     car   \n",
       "\n",
       "  Body Camera (Source: WaPo) WaPo ID (If included in WaPo database)  \\\n",
       "0                        yes                                 6410.0   \n",
       "1                         no                                 6409.0   \n",
       "2                         no                                 6408.0   \n",
       "3                         no                                 6411.0   \n",
       "4                         no                                 6400.0   \n",
       "\n",
       "  Off-Duty Killing?  \\\n",
       "0               NaN   \n",
       "1               NaN   \n",
       "2               NaN   \n",
       "3               NaN   \n",
       "4               NaN   \n",
       "\n",
       "  Geography (via Trulia methodology based on zipcode population density: http://jedkolko.com/wp-content/uploads/2015/05/full-ZCTA-urban-suburban-rural-classification.xlsx )  \\\n",
       "0                                                NaN                                                                                                                           \n",
       "1                                                NaN                                                                                                                           \n",
       "2                                           Suburban                                                                                                                           \n",
       "3                                              Urban                                                                                                                           \n",
       "4                                           Suburban                                                                                                                           \n",
       "\n",
       "  MPV ID Fatal Encounters ID  \n",
       "0   8679                 NaN  \n",
       "1   8680                 NaN  \n",
       "2   8681                 NaN  \n",
       "3   8676                 NaN  \n",
       "4   8677             29269.0  \n",
       "\n",
       "[5 rows x 29 columns]"
      ]
     },
     "execution_count": 3,
     "metadata": {},
     "output_type": "execute_result"
    }
   ],
   "source": [
    "df.head()"
   ]
  },
  {
   "cell_type": "code",
   "execution_count": 4,
   "metadata": {},
   "outputs": [
    {
     "data": {
      "text/plain": [
       "Index(['Victim's name', 'Victim's age', 'Victim's gender', 'Victim's race',\n",
       "       'URL of image of victim', 'Date of Incident (month/day/year)',\n",
       "       'Street Address of Incident', 'City', 'State', 'Zipcode', 'County',\n",
       "       'Agency responsible for death', 'ORI Agency Identifier (if available)',\n",
       "       'Cause of death',\n",
       "       'A brief description of the circumstances surrounding the death',\n",
       "       'Official disposition of death (justified or other)',\n",
       "       'Criminal Charges?',\n",
       "       'Link to news article or photo of official document',\n",
       "       'Symptoms of mental illness?', 'Unarmed/Did Not Have an Actual Weapon',\n",
       "       'Alleged Weapon (Source: WaPo and Review of Cases Not Included in WaPo Database)',\n",
       "       'Alleged Threat Level (Source: WaPo)', 'Fleeing (Source: WaPo)',\n",
       "       'Body Camera (Source: WaPo)', 'WaPo ID (If included in WaPo database)',\n",
       "       'Off-Duty Killing?',\n",
       "       'Geography (via Trulia methodology based on zipcode population density: http://jedkolko.com/wp-content/uploads/2015/05/full-ZCTA-urban-suburban-rural-classification.xlsx )',\n",
       "       'MPV ID', 'Fatal Encounters ID'],\n",
       "      dtype='object')"
      ]
     },
     "execution_count": 4,
     "metadata": {},
     "output_type": "execute_result"
    }
   ],
   "source": [
    "df.columns"
   ]
  },
  {
   "cell_type": "code",
   "execution_count": 5,
   "metadata": {},
   "outputs": [],
   "source": [
    "df = df[[\"Victim's race\", \"Date of Incident (month/day/year)\", \"State\"] ]"
   ]
  },
  {
   "cell_type": "code",
   "execution_count": 6,
   "metadata": {},
   "outputs": [
    {
     "data": {
      "text/html": [
       "<div>\n",
       "<style scoped>\n",
       "    .dataframe tbody tr th:only-of-type {\n",
       "        vertical-align: middle;\n",
       "    }\n",
       "\n",
       "    .dataframe tbody tr th {\n",
       "        vertical-align: top;\n",
       "    }\n",
       "\n",
       "    .dataframe thead th {\n",
       "        text-align: right;\n",
       "    }\n",
       "</style>\n",
       "<table border=\"1\" class=\"dataframe\">\n",
       "  <thead>\n",
       "    <tr style=\"text-align: right;\">\n",
       "      <th></th>\n",
       "      <th>Victim's race</th>\n",
       "      <th>Date of Incident (month/day/year)</th>\n",
       "      <th>State</th>\n",
       "    </tr>\n",
       "  </thead>\n",
       "  <tbody>\n",
       "    <tr>\n",
       "      <th>0</th>\n",
       "      <td>White</td>\n",
       "      <td>2020-12-08</td>\n",
       "      <td>FL</td>\n",
       "    </tr>\n",
       "    <tr>\n",
       "      <th>1</th>\n",
       "      <td>Unknown race</td>\n",
       "      <td>2020-12-08</td>\n",
       "      <td>OR</td>\n",
       "    </tr>\n",
       "    <tr>\n",
       "      <th>2</th>\n",
       "      <td>Unknown race</td>\n",
       "      <td>2020-12-08</td>\n",
       "      <td>NV</td>\n",
       "    </tr>\n",
       "    <tr>\n",
       "      <th>3</th>\n",
       "      <td>Black</td>\n",
       "      <td>2020-12-06</td>\n",
       "      <td>OH</td>\n",
       "    </tr>\n",
       "    <tr>\n",
       "      <th>4</th>\n",
       "      <td>Hispanic</td>\n",
       "      <td>2020-12-06</td>\n",
       "      <td>CA</td>\n",
       "    </tr>\n",
       "  </tbody>\n",
       "</table>\n",
       "</div>"
      ],
      "text/plain": [
       "  Victim's race Date of Incident (month/day/year) State\n",
       "0         White                        2020-12-08    FL\n",
       "1  Unknown race                        2020-12-08    OR\n",
       "2  Unknown race                        2020-12-08    NV\n",
       "3         Black                        2020-12-06    OH\n",
       "4      Hispanic                        2020-12-06    CA"
      ]
     },
     "execution_count": 6,
     "metadata": {},
     "output_type": "execute_result"
    }
   ],
   "source": [
    "df.head()"
   ]
  },
  {
   "cell_type": "code",
   "execution_count": 7,
   "metadata": {},
   "outputs": [],
   "source": [
    "df.columns = [\"race\", \"date\", \"state\"]"
   ]
  },
  {
   "cell_type": "code",
   "execution_count": 8,
   "metadata": {},
   "outputs": [],
   "source": [
    "df[\"race\"] = df.race.apply(lambda x: \"Unknown\" if x == \"Unknown race\" or x == \"Unknown Race\" or x == \"unknown race\" else x).iloc[:]"
   ]
  },
  {
   "cell_type": "code",
   "execution_count": 9,
   "metadata": {},
   "outputs": [],
   "source": [
    "df.fillna(\"Unknown\", inplace=True)"
   ]
  },
  {
   "cell_type": "code",
   "execution_count": 10,
   "metadata": {},
   "outputs": [],
   "source": [
    "#df = df[(df[\"race\"] == \"White\") | (df[\"race\"] == \"Black\") | (df[\"race\"] == \"Hispanic\")].reset_index(drop = True).iloc[:]"
   ]
  },
  {
   "cell_type": "code",
   "execution_count": 11,
   "metadata": {},
   "outputs": [
    {
     "data": {
      "text/html": [
       "<div>\n",
       "<style scoped>\n",
       "    .dataframe tbody tr th:only-of-type {\n",
       "        vertical-align: middle;\n",
       "    }\n",
       "\n",
       "    .dataframe tbody tr th {\n",
       "        vertical-align: top;\n",
       "    }\n",
       "\n",
       "    .dataframe thead th {\n",
       "        text-align: right;\n",
       "    }\n",
       "</style>\n",
       "<table border=\"1\" class=\"dataframe\">\n",
       "  <thead>\n",
       "    <tr style=\"text-align: right;\">\n",
       "      <th></th>\n",
       "      <th>race</th>\n",
       "      <th>date</th>\n",
       "      <th>state</th>\n",
       "    </tr>\n",
       "  </thead>\n",
       "  <tbody>\n",
       "    <tr>\n",
       "      <th>0</th>\n",
       "      <td>White</td>\n",
       "      <td>2020-12-08</td>\n",
       "      <td>FL</td>\n",
       "    </tr>\n",
       "    <tr>\n",
       "      <th>1</th>\n",
       "      <td>Unknown</td>\n",
       "      <td>2020-12-08</td>\n",
       "      <td>OR</td>\n",
       "    </tr>\n",
       "    <tr>\n",
       "      <th>2</th>\n",
       "      <td>Unknown</td>\n",
       "      <td>2020-12-08</td>\n",
       "      <td>NV</td>\n",
       "    </tr>\n",
       "    <tr>\n",
       "      <th>3</th>\n",
       "      <td>Black</td>\n",
       "      <td>2020-12-06</td>\n",
       "      <td>OH</td>\n",
       "    </tr>\n",
       "    <tr>\n",
       "      <th>4</th>\n",
       "      <td>Hispanic</td>\n",
       "      <td>2020-12-06</td>\n",
       "      <td>CA</td>\n",
       "    </tr>\n",
       "    <tr>\n",
       "      <th>5</th>\n",
       "      <td>Black</td>\n",
       "      <td>2020-12-06</td>\n",
       "      <td>MO</td>\n",
       "    </tr>\n",
       "    <tr>\n",
       "      <th>6</th>\n",
       "      <td>Unknown</td>\n",
       "      <td>2020-12-05</td>\n",
       "      <td>GA</td>\n",
       "    </tr>\n",
       "    <tr>\n",
       "      <th>7</th>\n",
       "      <td>Unknown</td>\n",
       "      <td>2020-12-05</td>\n",
       "      <td>TX</td>\n",
       "    </tr>\n",
       "    <tr>\n",
       "      <th>8</th>\n",
       "      <td>Black</td>\n",
       "      <td>2020-12-05</td>\n",
       "      <td>OH</td>\n",
       "    </tr>\n",
       "    <tr>\n",
       "      <th>9</th>\n",
       "      <td>Unknown</td>\n",
       "      <td>2020-12-05</td>\n",
       "      <td>MN</td>\n",
       "    </tr>\n",
       "  </tbody>\n",
       "</table>\n",
       "</div>"
      ],
      "text/plain": [
       "       race       date state\n",
       "0     White 2020-12-08    FL\n",
       "1   Unknown 2020-12-08    OR\n",
       "2   Unknown 2020-12-08    NV\n",
       "3     Black 2020-12-06    OH\n",
       "4  Hispanic 2020-12-06    CA\n",
       "5     Black 2020-12-06    MO\n",
       "6   Unknown 2020-12-05    GA\n",
       "7   Unknown 2020-12-05    TX\n",
       "8     Black 2020-12-05    OH\n",
       "9   Unknown 2020-12-05    MN"
      ]
     },
     "execution_count": 11,
     "metadata": {},
     "output_type": "execute_result"
    }
   ],
   "source": [
    "df.head(10)"
   ]
  },
  {
   "cell_type": "code",
   "execution_count": 12,
   "metadata": {},
   "outputs": [
    {
     "data": {
      "text/plain": [
       "White               3788\n",
       "Black               2178\n",
       "Hispanic            1500\n",
       "Unknown              917\n",
       "Asian                132\n",
       "Native American      120\n",
       "Pacific Islander      46\n",
       "Name: race, dtype: int64"
      ]
     },
     "execution_count": 12,
     "metadata": {},
     "output_type": "execute_result"
    }
   ],
   "source": [
    "df.race.value_counts()"
   ]
  },
  {
   "cell_type": "markdown",
   "metadata": {},
   "source": [
    "## Total"
   ]
  },
  {
   "cell_type": "code",
   "execution_count": 13,
   "metadata": {},
   "outputs": [],
   "source": [
    "def get_week(df, event):\n",
    "    filtered = df[(df[\"date\"] <= event)]\n",
    "    return filtered.iloc[-1][\"date\"], filtered.index[-1]"
   ]
  },
  {
   "cell_type": "code",
   "execution_count": 14,
   "metadata": {},
   "outputs": [],
   "source": [
    "def get_next_weeks(df, event, weeks):\n",
    "    pos = get_week(df, event)[1]\n",
    "    if pos + weeks + 1 > len(df):\n",
    "        return df.iloc[pos:].total_victims.mean()\n",
    "    else:\n",
    "        return df.iloc[pos + 1: pos + weeks + 1].total_victims.mean()"
   ]
  },
  {
   "cell_type": "code",
   "execution_count": 15,
   "metadata": {},
   "outputs": [],
   "source": [
    "def get_previous_weeks(df, event, weeks):\n",
    "    pos = get_week(df, event)[1]\n",
    "    if pos - weeks < 0:\n",
    "        return df.iloc[:pos].total_victims.mean()\n",
    "    else:\n",
    "        return df.iloc[pos - weeks:pos].total_victims.mean()"
   ]
  },
  {
   "cell_type": "code",
   "execution_count": 22,
   "metadata": {},
   "outputs": [],
   "source": [
    "def blm_march_influence(df, year, events, weeks, minority = None):\n",
    "    \n",
    "    df = df[(df[\"date\"] >= f\"{year}-01-01\") & (df[\"date\"] <= f\"{year}-12-31\")].reset_index(drop = True).iloc[:]\n",
    "    \n",
    "    if minority:\n",
    "        df = df[df[\"race\"] == minority].reset_index(drop = True)\n",
    "    \n",
    "    grouped = df.groupby(\"date\")\n",
    "    killings = {}\n",
    "\n",
    "    for date in set(df[\"date\"]):\n",
    "        killings[date] = grouped.get_group(date).size / 3\n",
    "    \n",
    "    df = pd.DataFrame(killings.items(), columns = [\"date\", \"total_victims\"])\n",
    "    pd.Grouper(key = \"date\", freq = \"1W\")\n",
    "    df = df.groupby(pd.Grouper(key = \"date\", freq = \"1W\",)).sum().reset_index()\n",
    "    \n",
    "    fig, ax = plt.subplots()\n",
    "    fig.set_size_inches(16, 8)\n",
    "    df.plot(x = \"date\", y = \"total_victims\", kind = \"line\", ax = ax)\n",
    "#     b, m = np.polyfit(df.date.apply(lambda date: date.toordinal()), df.total_victims, 1)\n",
    "#     ax.plot(df.date, b + m * df.date.apply(lambda date: date.toordinal()), '-')\n",
    "    \n",
    "    if minority:\n",
    "        ax.set_ylabel(f\"Total {minority} victims\")\n",
    "    else:\n",
    "        ax.set_ylabel(\"Total victims\")\n",
    "    ax.get_legend().remove()\n",
    "    \n",
    "    for event in events:\n",
    "        ax.axvline(x=event, color = \"red\")\n",
    "        print(f\"Average number of deaths over the previous {weeks} weeks before the event of {event} :\" , get_previous_weeks(df, event, weeks))\n",
    "        print(f\"Average number of deaths over the next {weeks} weeks after the event of {event}:\" , get_next_weeks(df, event, weeks))\n",
    "        print()\n",
    "    return df"
   ]
  },
  {
   "cell_type": "code",
   "execution_count": 23,
   "metadata": {},
   "outputs": [],
   "source": [
    "g_floyd = \"2020-05-25\"\n",
    "b_taylor = \"2020-03-13\"\n",
    "biggest = \"2020-06-06\"\n",
    "\n",
    "events = [\"2013-11-02\", \"2014-07-17\", \"2014-08-09\", \"2015-04-12\", \"2015-11-16\", \"2015-11-24\", \"2016-07-05\", b_taylor, g_floyd, biggest]"
   ]
  },
  {
   "cell_type": "code",
   "execution_count": 25,
   "metadata": {},
   "outputs": [
    {
     "name": "stdout",
     "output_type": "stream",
     "text": [
      "Average number of deaths over the previous 5 weeks before the event of 2020-03-13 : 11.733333333333334\n",
      "Average number of deaths over the next 5 weeks after the event of 2020-03-13: 15.2\n",
      "\n",
      "Average number of deaths over the previous 5 weeks before the event of 2020-05-25 : 10.666666666666666\n",
      "Average number of deaths over the next 5 weeks after the event of 2020-05-25: 10.666666666666668\n",
      "\n",
      "Average number of deaths over the previous 5 weeks before the event of 2020-06-06 : 10.666666666666666\n",
      "Average number of deaths over the next 5 weeks after the event of 2020-06-06: 8.533333333333333\n",
      "\n"
     ]
    },
    {
     "data": {
      "image/png": "[encoded data removed]",
      "text/plain": [
       "<Figure size 1152x576 with 1 Axes>"
      ]
     },
     "metadata": {
      "needs_background": "light"
     },
     "output_type": "display_data"
    }
   ],
   "source": [
    "df_events = blm_march_influence(df, \"2020\", events[7:], 5, minority=\"White\")"
   ]
  },
  {
   "cell_type": "code",
   "execution_count": 28,
   "metadata": {},
   "outputs": [],
   "source": [
    "df_events[\"date_ordinal\"]=df_events.date.apply(lambda date: date.toordinal())\n",
    "df_b_taylor = df_events[df_events[\"date\"]<=b_taylor]\n",
    "df_b_taylor_after = df_events[df_events[\"date\"]>b_taylor]\n"
   ]
  },
  {
   "cell_type": "code",
   "execution_count": 32,
   "metadata": {},
   "outputs": [
    {
     "data": {
      "image/png": "[encoded data removed]",
      "text/plain": [
       "<Figure size 432x288 with 1 Axes>"
      ]
     },
     "metadata": {
      "needs_background": "light"
     },
     "output_type": "display_data"
    }
   ],
   "source": [
    "\n",
    "fig, ax = plt.subplots()\n",
    "sns.regplot(x=df_b_taylor.date_ordinal,y=df_b_taylor.total_victims,data=df_b_taylor, fit_reg=True,scatter=False, color='black')\n",
    "sns.regplot(x=df_b_taylor_after.date_ordinal,y=df_b_taylor_after.total_victims,data=df_b_taylor_after, fit_reg=True,scatter=False, color='black')\n",
    "\n",
    "plt.show()"
   ]
  },
  {
   "cell_type": "code",
   "execution_count": null,
   "metadata": {},
   "outputs": [],
   "source": [
    "event = \"2017-02-1\""
   ]
  },
  {
   "cell_type": "code",
   "execution_count": null,
   "metadata": {},
   "outputs": [],
   "source": [
    "blm_march_influence(df, \"2017\", [event], 3, minority=\"Black\")"
   ]
  },
  {
   "cell_type": "code",
   "execution_count": null,
   "metadata": {},
   "outputs": [],
   "source": []
  },
  {
   "cell_type": "code",
   "execution_count": null,
   "metadata": {},
   "outputs": [],
   "source": []
  },
  {
   "cell_type": "code",
   "execution_count": null,
   "metadata": {},
   "outputs": [],
   "source": []
  },
  {
   "cell_type": "code",
   "execution_count": null,
   "metadata": {},
   "outputs": [],
   "source": []
  },
  {
   "cell_type": "code",
   "execution_count": null,
   "metadata": {},
   "outputs": [],
   "source": []
  },
  {
   "cell_type": "code",
   "execution_count": null,
   "metadata": {},
   "outputs": [],
   "source": []
  },
  {
   "cell_type": "markdown",
   "metadata": {},
   "source": [
    "## Per state"
   ]
  },
  {
   "cell_type": "code",
   "execution_count": null,
   "metadata": {},
   "outputs": [],
   "source": [
    "df.head()"
   ]
  },
  {
   "cell_type": "code",
   "execution_count": null,
   "metadata": {},
   "outputs": [],
   "source": [
    "per_state = {}\n",
    "grouped = df.groupby([\"state\", \"date\"])\n",
    "for (state, date) in grouped.groups.keys():\n",
    "        per_state[(state, date)] = (grouped.get_group((state, date)).size / 3)#, grouped.get_group((state, date))[\"race\"])"
   ]
  },
  {
   "cell_type": "code",
   "execution_count": null,
   "metadata": {},
   "outputs": [],
   "source": [
    "per_state = pd.DataFrame(per_state.items(), columns = [\"state\", \"victims\"])"
   ]
  },
  {
   "cell_type": "code",
   "execution_count": null,
   "metadata": {},
   "outputs": [],
   "source": [
    "per_state[\"date\"] = per_state[\"state\"].apply(lambda x : x[1]).iloc[:]"
   ]
  },
  {
   "cell_type": "code",
   "execution_count": null,
   "metadata": {},
   "outputs": [],
   "source": [
    "per_state[\"state\"] = per_state[\"state\"].apply(lambda x : x[0]).iloc[:]"
   ]
  },
  {
   "cell_type": "code",
   "execution_count": null,
   "metadata": {},
   "outputs": [],
   "source": [
    "per_state"
   ]
  },
  {
   "cell_type": "code",
   "execution_count": null,
   "metadata": {},
   "outputs": [],
   "source": [
    "texas = per_state.groupby(\"state\").get_group(\"TX\")"
   ]
  },
  {
   "cell_type": "code",
   "execution_count": null,
   "metadata": {},
   "outputs": [],
   "source": [
    "ela = -1\n",
    "for state in set(per_state[\"state\"]):\n",
    "    v = per_state.groupby(\"state\").get_group(state)\n",
    "    print(len(v), state)"
   ]
  },
  {
   "cell_type": "code",
   "execution_count": null,
   "metadata": {},
   "outputs": [],
   "source": [
    "texas.plot(x = \"date\", y = \"victims\")"
   ]
  },
  {
   "cell_type": "code",
   "execution_count": null,
   "metadata": {},
   "outputs": [],
   "source": [
    "df_total_deaths.sort_values(\"date\")"
   ]
  },
  {
   "cell_type": "code",
   "execution_count": null,
   "metadata": {},
   "outputs": [],
   "source": [
    "by_week = df_total_deaths.groupby(pd.Grouper(key = \"date\", freq = \"1W\", origin = \"2013-01-01\")).first()"
   ]
  },
  {
   "cell_type": "code",
   "execution_count": null,
   "metadata": {},
   "outputs": [],
   "source": [
    "by_week = by_week.reset_index()"
   ]
  },
  {
   "cell_type": "code",
   "execution_count": null,
   "metadata": {},
   "outputs": [],
   "source": [
    "by_week[by_week[\"date\"] < \"2013-12-31\"].plot(x = \"date\", y = \"total_victims\")"
   ]
  },
  {
   "cell_type": "code",
   "execution_count": null,
   "metadata": {},
   "outputs": [],
   "source": [
    "by_month = df_total_deaths.groupby(pd.Grouper(key = \"date\", freq = \"1M\", origin = \"2013-01-01\")).first()"
   ]
  },
  {
   "cell_type": "code",
   "execution_count": null,
   "metadata": {},
   "outputs": [],
   "source": [
    "by_month.reset_index(inplace=True)"
   ]
  },
  {
   "cell_type": "code",
   "execution_count": null,
   "metadata": {},
   "outputs": [],
   "source": [
    "by_month.plot(x = \"date\", y = \"total_victims\")"
   ]
  },
  {
   "cell_type": "code",
   "execution_count": null,
   "metadata": {},
   "outputs": [],
   "source": [
    "fig, ax = plt.subplots()\n",
    "fig.set_size_inches(16, 8)\n",
    "by_week[(by_week[\"date\"] > \"2013-12-31\") & (by_week[\"date\"] <= \"2014-12-31\")].plot(x = \"date\", y = \"total_victims\",ax = ax)\n",
    "ax.axvline(x=\"2014-07-17\", color = \"red\")"
   ]
  },
  {
   "cell_type": "code",
   "execution_count": null,
   "metadata": {},
   "outputs": [],
   "source": [
    "texas_per_week = texas.groupby(pd.Grouper(key = \"date\", freq = \"1W\", origin = \"2013-01-01\")).sum().reset_index()"
   ]
  },
  {
   "cell_type": "code",
   "execution_count": null,
   "metadata": {},
   "outputs": [],
   "source": [
    "texas_per_week.reset_index(inplace=True)"
   ]
  },
  {
   "cell_type": "code",
   "execution_count": null,
   "metadata": {},
   "outputs": [],
   "source": [
    "texas_per_week"
   ]
  },
  {
   "cell_type": "code",
   "execution_count": null,
   "metadata": {},
   "outputs": [],
   "source": [
    "fig, ax = plt.subplots()\n",
    "fig.set_size_inches(16, 8)\n",
    "texas_per_week[(texas_per_week[\"date\"] > \"2013-12-31\") & (texas_per_week[\"date\"] <= \"2014-12-31\")].plot(x = \"date\", y = \"victims\",ax = ax)\n",
    "ax.axvline(x=\"2014-07-17\", color = \"red\")"
   ]
  },
  {
   "cell_type": "code",
   "execution_count": null,
   "metadata": {},
   "outputs": [],
   "source": [
    "mn = per_state.groupby(\"state\").get_group(\"MN\")\n",
    "mn_per_week = mn.groupby(pd.Grouper(key = \"date\", freq = \"1W\", origin = \"2013-01-01\")).sum().reset_index()\n",
    "mn_per_week.reset_index(inplace=True)"
   ]
  },
  {
   "cell_type": "code",
   "execution_count": null,
   "metadata": {},
   "outputs": [],
   "source": [
    "mn[(mn[\"date\"] > \"2014-12-31\") & (mn[\"date\"] <= \"2015-12-31\")]"
   ]
  },
  {
   "cell_type": "code",
   "execution_count": null,
   "metadata": {},
   "outputs": [],
   "source": [
    "fig, ax = plt.subplots()\n",
    "fig.set_size_inches(16, 8)\n",
    "mn_per_week[(mn_per_week[\"date\"] > \"2014-12-31\") & (mn_per_week[\"date\"] <= \"2015-12-31\")].plot(x = \"date\", y = \"victims\",ax = ax)\n",
    "ax.axvline(x=\"2015-11-15\", color = \"red\")"
   ]
  },
  {
   "cell_type": "code",
   "execution_count": null,
   "metadata": {},
   "outputs": [],
   "source": [
    "mn"
   ]
  },
  {
   "cell_type": "code",
   "execution_count": null,
   "metadata": {},
   "outputs": [],
   "source": [
    "fig, ax = plt.subplots()\n",
    "fig.set_size_inches(16, 8)\n",
    "mn.plot(x = \"date\", y = \"victims\",ax = ax)\n",
    "ax.axvline(x=\"2015-11-15\", color = \"red\")"
   ]
  },
  {
   "cell_type": "code",
   "execution_count": null,
   "metadata": {},
   "outputs": [],
   "source": []
  },
  {
   "cell_type": "code",
   "execution_count": null,
   "metadata": {},
   "outputs": [],
   "source": []
  }
 ],
 "metadata": {
  "kernelspec": {
   "display_name": "Python 3",
   "language": "python",
   "name": "python3"
  },
  "language_info": {
   "codemirror_mode": {
    "name": "ipython",
    "version": 3
   },
   "file_extension": ".py",
   "mimetype": "text/x-python",
   "name": "python",
   "nbconvert_exporter": "python",
   "pygments_lexer": "ipython3",
   "version": "3.7.6"
  }
 },
 "nbformat": 4,
 "nbformat_minor": 4
}
